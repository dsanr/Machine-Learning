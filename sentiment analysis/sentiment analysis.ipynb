{
 "cells": [
  {
   "cell_type": "code",
   "execution_count": 1,
   "id": "e4c53391-558b-4842-abe3-08ad704b9107",
   "metadata": {},
   "outputs": [],
   "source": [
    "import numpy as np\n",
    "import pandas as pd\n",
    "import matplotlib.pyplot as plt\n",
    "import seaborn as sns"
   ]
  },
  {
   "cell_type": "code",
   "execution_count": 2,
   "id": "0779e9d9-1caa-45cb-b565-26cbf9f58661",
   "metadata": {},
   "outputs": [],
   "source": [
    "import scipy as sp"
   ]
  },
  {
   "cell_type": "code",
   "execution_count": 3,
   "id": "44fd0e3f-3018-4089-8bcd-64c3bdb231cf",
   "metadata": {},
   "outputs": [],
   "source": [
    "import string"
   ]
  },
  {
   "cell_type": "code",
   "execution_count": 4,
   "id": "f8c9f576-3093-4a93-807a-fd7fc5868478",
   "metadata": {},
   "outputs": [],
   "source": [
    "import re"
   ]
  },
  {
   "cell_type": "markdown",
   "id": "4116d9e8-b42e-4824-9c00-6fce39cad591",
   "metadata": {},
   "source": [
    "# Introduction"
   ]
  },
  {
   "cell_type": "markdown",
   "id": "eba64bb6-d7a4-467c-af86-3cca96238cc8",
   "metadata": {},
   "source": [
    "Datahack URL: https://datahack.analyticsvidhya.com/contest/linguipedia-codefest-natural-language-processing-1/\n",
    "https://datahack.analyticsvidhya.com/contest/practice-problem-identify-the-sentiments/"
   ]
  },
  {
   "cell_type": "code",
   "execution_count": 5,
   "id": "07ba648d-d444-45eb-be88-e9075a478e78",
   "metadata": {},
   "outputs": [],
   "source": [
    "train = pd.read_csv('train.csv')"
   ]
  },
  {
   "cell_type": "code",
   "execution_count": 6,
   "id": "e1741971-cd91-4db6-befd-ff3f606adc84",
   "metadata": {},
   "outputs": [],
   "source": [
    "pd.options.display.max_colwidth=100"
   ]
  },
  {
   "cell_type": "code",
   "execution_count": 7,
   "id": "80236c04-6c63-4e28-a995-979f1b183e15",
   "metadata": {},
   "outputs": [
    {
     "name": "stdout",
     "output_type": "stream",
     "text": [
      "<class 'pandas.core.frame.DataFrame'>\n",
      "RangeIndex: 7920 entries, 0 to 7919\n",
      "Data columns (total 3 columns):\n",
      " #   Column  Non-Null Count  Dtype \n",
      "---  ------  --------------  ----- \n",
      " 0   id      7920 non-null   int64 \n",
      " 1   label   7920 non-null   int64 \n",
      " 2   tweet   7920 non-null   object\n",
      "dtypes: int64(2), object(1)\n",
      "memory usage: 185.8+ KB\n"
     ]
    }
   ],
   "source": [
    "train.info()"
   ]
  },
  {
   "cell_type": "code",
   "execution_count": 8,
   "id": "77cfb37d-2382-4768-9150-b9c0b0bcc2de",
   "metadata": {},
   "outputs": [
    {
     "data": {
      "text/html": [
       "<div>\n",
       "<style scoped>\n",
       "    .dataframe tbody tr th:only-of-type {\n",
       "        vertical-align: middle;\n",
       "    }\n",
       "\n",
       "    .dataframe tbody tr th {\n",
       "        vertical-align: top;\n",
       "    }\n",
       "\n",
       "    .dataframe thead th {\n",
       "        text-align: right;\n",
       "    }\n",
       "</style>\n",
       "<table border=\"1\" class=\"dataframe\">\n",
       "  <thead>\n",
       "    <tr style=\"text-align: right;\">\n",
       "      <th></th>\n",
       "      <th>id</th>\n",
       "      <th>label</th>\n",
       "      <th>tweet</th>\n",
       "    </tr>\n",
       "  </thead>\n",
       "  <tbody>\n",
       "    <tr>\n",
       "      <th>0</th>\n",
       "      <td>1</td>\n",
       "      <td>0</td>\n",
       "      <td>#fingerprint #Pregnancy Test https://goo.gl/h1MfQV #android #apps #beautiful #cute #health #iger...</td>\n",
       "    </tr>\n",
       "    <tr>\n",
       "      <th>1</th>\n",
       "      <td>2</td>\n",
       "      <td>0</td>\n",
       "      <td>Finally a transparant silicon case ^^ Thanks to my uncle :) #yay #Sony #Xperia #S #sonyexperias…...</td>\n",
       "    </tr>\n",
       "    <tr>\n",
       "      <th>2</th>\n",
       "      <td>3</td>\n",
       "      <td>0</td>\n",
       "      <td>We love this! Would you go? #talk #makememories #unplug #relax #iphone #smartphone #wifi #connec...</td>\n",
       "    </tr>\n",
       "    <tr>\n",
       "      <th>3</th>\n",
       "      <td>4</td>\n",
       "      <td>0</td>\n",
       "      <td>I'm wired I know I'm George I was made that way ;) #iphone #cute #daventry #home http://instagr....</td>\n",
       "    </tr>\n",
       "    <tr>\n",
       "      <th>4</th>\n",
       "      <td>5</td>\n",
       "      <td>1</td>\n",
       "      <td>What amazing service! Apple won't even talk to me about a question I have unless I pay them $19....</td>\n",
       "    </tr>\n",
       "    <tr>\n",
       "      <th>5</th>\n",
       "      <td>6</td>\n",
       "      <td>1</td>\n",
       "      <td>iPhone software update fucked up my phone big time Stupid iPhones</td>\n",
       "    </tr>\n",
       "    <tr>\n",
       "      <th>6</th>\n",
       "      <td>7</td>\n",
       "      <td>0</td>\n",
       "      <td>Happy for us .. #instapic #instadaily #us #sony #xperia #xperiaZ https://instagram.com/p/z9qGfWl...</td>\n",
       "    </tr>\n",
       "    <tr>\n",
       "      <th>7</th>\n",
       "      <td>8</td>\n",
       "      <td>0</td>\n",
       "      <td>New Type C charger cable #UK http://www.ebay.co.uk/itm/-/112598674021 … #bay #Amazon #etsy New Y...</td>\n",
       "    </tr>\n",
       "    <tr>\n",
       "      <th>8</th>\n",
       "      <td>9</td>\n",
       "      <td>0</td>\n",
       "      <td>Bout to go shopping again listening to music #iphone #justme #music #likeforlike #followforfollo...</td>\n",
       "    </tr>\n",
       "    <tr>\n",
       "      <th>9</th>\n",
       "      <td>10</td>\n",
       "      <td>0</td>\n",
       "      <td>Photo: #fun #selfie #pool #water #sony #camera #picoftheday #sun #instagood #boy #cute #outdoor....</td>\n",
       "    </tr>\n",
       "  </tbody>\n",
       "</table>\n",
       "</div>"
      ],
      "text/plain": [
       "   id  label  \\\n",
       "0   1      0   \n",
       "1   2      0   \n",
       "2   3      0   \n",
       "3   4      0   \n",
       "4   5      1   \n",
       "5   6      1   \n",
       "6   7      0   \n",
       "7   8      0   \n",
       "8   9      0   \n",
       "9  10      0   \n",
       "\n",
       "                                                                                                 tweet  \n",
       "0  #fingerprint #Pregnancy Test https://goo.gl/h1MfQV #android #apps #beautiful #cute #health #iger...  \n",
       "1  Finally a transparant silicon case ^^ Thanks to my uncle :) #yay #Sony #Xperia #S #sonyexperias…...  \n",
       "2  We love this! Would you go? #talk #makememories #unplug #relax #iphone #smartphone #wifi #connec...  \n",
       "3  I'm wired I know I'm George I was made that way ;) #iphone #cute #daventry #home http://instagr....  \n",
       "4  What amazing service! Apple won't even talk to me about a question I have unless I pay them $19....  \n",
       "5                                    iPhone software update fucked up my phone big time Stupid iPhones  \n",
       "6  Happy for us .. #instapic #instadaily #us #sony #xperia #xperiaZ https://instagram.com/p/z9qGfWl...  \n",
       "7  New Type C charger cable #UK http://www.ebay.co.uk/itm/-/112598674021 … #bay #Amazon #etsy New Y...  \n",
       "8  Bout to go shopping again listening to music #iphone #justme #music #likeforlike #followforfollo...  \n",
       "9  Photo: #fun #selfie #pool #water #sony #camera #picoftheday #sun #instagood #boy #cute #outdoor....  "
      ]
     },
     "execution_count": 8,
     "metadata": {},
     "output_type": "execute_result"
    }
   ],
   "source": [
    "train.head(10)"
   ]
  },
  {
   "cell_type": "code",
   "execution_count": 9,
   "id": "1a876ad3-0e79-4134-aed8-094f66e932e9",
   "metadata": {},
   "outputs": [
    {
     "data": {
      "text/plain": [
       "True"
      ]
     },
     "execution_count": 9,
     "metadata": {},
     "output_type": "execute_result"
    }
   ],
   "source": [
    "train['id'].is_unique"
   ]
  },
  {
   "cell_type": "code",
   "execution_count": 10,
   "id": "806aa26e-1751-45df-9c34-5205c94c26e1",
   "metadata": {},
   "outputs": [
    {
     "data": {
      "text/plain": [
       "0    5894\n",
       "1    2026\n",
       "Name: label, dtype: int64"
      ]
     },
     "execution_count": 10,
     "metadata": {},
     "output_type": "execute_result"
    }
   ],
   "source": [
    "train['label'].value_counts()"
   ]
  },
  {
   "cell_type": "code",
   "execution_count": 11,
   "id": "f5a44616-42b3-43ab-8f95-0c889cefeac7",
   "metadata": {},
   "outputs": [
    {
     "data": {
      "text/plain": [
       "0    0.744192\n",
       "1    0.255808\n",
       "Name: label, dtype: float64"
      ]
     },
     "execution_count": 11,
     "metadata": {},
     "output_type": "execute_result"
    }
   ],
   "source": [
    "train['label'].value_counts(normalize=True)"
   ]
  },
  {
   "cell_type": "code",
   "execution_count": 12,
   "id": "3a5fdf45-a504-4755-94e4-0daa20e85b15",
   "metadata": {},
   "outputs": [
    {
     "data": {
      "text/html": [
       "<div>\n",
       "<style scoped>\n",
       "    .dataframe tbody tr th:only-of-type {\n",
       "        vertical-align: middle;\n",
       "    }\n",
       "\n",
       "    .dataframe tbody tr th {\n",
       "        vertical-align: top;\n",
       "    }\n",
       "\n",
       "    .dataframe thead th {\n",
       "        text-align: right;\n",
       "    }\n",
       "</style>\n",
       "<table border=\"1\" class=\"dataframe\">\n",
       "  <thead>\n",
       "    <tr style=\"text-align: right;\">\n",
       "      <th></th>\n",
       "      <th>id</th>\n",
       "      <th>label</th>\n",
       "      <th>tweet</th>\n",
       "    </tr>\n",
       "  </thead>\n",
       "  <tbody>\n",
       "    <tr>\n",
       "      <th>4</th>\n",
       "      <td>5</td>\n",
       "      <td>1</td>\n",
       "      <td>What amazing service! Apple won't even talk to me about a question I have unless I pay them $19....</td>\n",
       "    </tr>\n",
       "    <tr>\n",
       "      <th>5</th>\n",
       "      <td>6</td>\n",
       "      <td>1</td>\n",
       "      <td>iPhone software update fucked up my phone big time Stupid iPhones</td>\n",
       "    </tr>\n",
       "    <tr>\n",
       "      <th>10</th>\n",
       "      <td>11</td>\n",
       "      <td>1</td>\n",
       "      <td>hey #apple when you make a new ipod dont make it a new color or .2inches thinner make it not cra...</td>\n",
       "    </tr>\n",
       "    <tr>\n",
       "      <th>11</th>\n",
       "      <td>12</td>\n",
       "      <td>1</td>\n",
       "      <td>Ha! Not heavy machinery but it does what I need it to. @Apple really dropped the ball with that ...</td>\n",
       "    </tr>\n",
       "    <tr>\n",
       "      <th>12</th>\n",
       "      <td>13</td>\n",
       "      <td>1</td>\n",
       "      <td>Contemplating giving in to the iPhone bandwagon simply because #Cellcom has no new Androids #dep...</td>\n",
       "    </tr>\n",
       "    <tr>\n",
       "      <th>14</th>\n",
       "      <td>15</td>\n",
       "      <td>1</td>\n",
       "      <td>@shaqlockholmes @sam_louise1991 the battery is so painful! I charge it overnight and by lunchtim...</td>\n",
       "    </tr>\n",
       "    <tr>\n",
       "      <th>18</th>\n",
       "      <td>19</td>\n",
       "      <td>1</td>\n",
       "      <td>The reason I don't have one. #iphone #suck #apple #truth #truthbetold #agree #fact #realitycheck...</td>\n",
       "    </tr>\n",
       "    <tr>\n",
       "      <th>19</th>\n",
       "      <td>20</td>\n",
       "      <td>1</td>\n",
       "      <td>How is the apple store gunna be out of 5C screens ?!? It's Monday and ur the FUCKING APPLE STORE...</td>\n",
       "    </tr>\n",
       "    <tr>\n",
       "      <th>22</th>\n",
       "      <td>23</td>\n",
       "      <td>1</td>\n",
       "      <td>I've had this new ipod for four days? And this of button on the back broke... I accidentally hit...</td>\n",
       "    </tr>\n",
       "    <tr>\n",
       "      <th>23</th>\n",
       "      <td>24</td>\n",
       "      <td>1</td>\n",
       "      <td>when your iPhone screen goes completely black and you keep getting texts all day but you can't F...</td>\n",
       "    </tr>\n",
       "  </tbody>\n",
       "</table>\n",
       "</div>"
      ],
      "text/plain": [
       "    id  label  \\\n",
       "4    5      1   \n",
       "5    6      1   \n",
       "10  11      1   \n",
       "11  12      1   \n",
       "12  13      1   \n",
       "14  15      1   \n",
       "18  19      1   \n",
       "19  20      1   \n",
       "22  23      1   \n",
       "23  24      1   \n",
       "\n",
       "                                                                                                  tweet  \n",
       "4   What amazing service! Apple won't even talk to me about a question I have unless I pay them $19....  \n",
       "5                                     iPhone software update fucked up my phone big time Stupid iPhones  \n",
       "10  hey #apple when you make a new ipod dont make it a new color or .2inches thinner make it not cra...  \n",
       "11  Ha! Not heavy machinery but it does what I need it to. @Apple really dropped the ball with that ...  \n",
       "12  Contemplating giving in to the iPhone bandwagon simply because #Cellcom has no new Androids #dep...  \n",
       "14  @shaqlockholmes @sam_louise1991 the battery is so painful! I charge it overnight and by lunchtim...  \n",
       "18  The reason I don't have one. #iphone #suck #apple #truth #truthbetold #agree #fact #realitycheck...  \n",
       "19  How is the apple store gunna be out of 5C screens ?!? It's Monday and ur the FUCKING APPLE STORE...  \n",
       "22  I've had this new ipod for four days? And this of button on the back broke... I accidentally hit...  \n",
       "23  when your iPhone screen goes completely black and you keep getting texts all day but you can't F...  "
      ]
     },
     "execution_count": 12,
     "metadata": {},
     "output_type": "execute_result"
    }
   ],
   "source": [
    "train[train['label']==1].head(10)"
   ]
  },
  {
   "cell_type": "code",
   "execution_count": 13,
   "id": "da42ed41-1b14-4425-9044-dcab3db99ad0",
   "metadata": {},
   "outputs": [
    {
     "data": {
      "text/html": [
       "<div>\n",
       "<style scoped>\n",
       "    .dataframe tbody tr th:only-of-type {\n",
       "        vertical-align: middle;\n",
       "    }\n",
       "\n",
       "    .dataframe tbody tr th {\n",
       "        vertical-align: top;\n",
       "    }\n",
       "\n",
       "    .dataframe thead th {\n",
       "        text-align: right;\n",
       "    }\n",
       "</style>\n",
       "<table border=\"1\" class=\"dataframe\">\n",
       "  <thead>\n",
       "    <tr style=\"text-align: right;\">\n",
       "      <th></th>\n",
       "      <th>id</th>\n",
       "      <th>label</th>\n",
       "      <th>tweet</th>\n",
       "    </tr>\n",
       "  </thead>\n",
       "  <tbody>\n",
       "    <tr>\n",
       "      <th>4003</th>\n",
       "      <td>4004</td>\n",
       "      <td>1</td>\n",
       "      <td>It's wonderful how slow my phone is with good service! #apple #phone #ass</td>\n",
       "    </tr>\n",
       "    <tr>\n",
       "      <th>831</th>\n",
       "      <td>832</td>\n",
       "      <td>1</td>\n",
       "      <td>It costs $200 to swap my phone out for the exact same phone I currently have.. Just to fix the f...</td>\n",
       "    </tr>\n",
       "    <tr>\n",
       "      <th>791</th>\n",
       "      <td>792</td>\n",
       "      <td>0</td>\n",
       "      <td>Shot on iPhone X . . #iphone #apple #iphonex #wonderful #selfie #portraitmode … https://www.inst...</td>\n",
       "    </tr>\n",
       "    <tr>\n",
       "      <th>1563</th>\n",
       "      <td>1564</td>\n",
       "      <td>0</td>\n",
       "      <td>Wowzas, just had my first \"I have an app for that!\" moment. #iphone</td>\n",
       "    </tr>\n",
       "    <tr>\n",
       "      <th>2054</th>\n",
       "      <td>2055</td>\n",
       "      <td>0</td>\n",
       "      <td>Just our Narsis Face #lol #iphone #iphonesia #iphoneonly #iphonography #cartoon #fashionstyle… h...</td>\n",
       "    </tr>\n",
       "    <tr>\n",
       "      <th>6411</th>\n",
       "      <td>6412</td>\n",
       "      <td>0</td>\n",
       "      <td>Just like Santa he is always watching! #dog #dogs #pet #doglover #puppylove #petstagram #adorabl...</td>\n",
       "    </tr>\n",
       "    <tr>\n",
       "      <th>1952</th>\n",
       "      <td>1953</td>\n",
       "      <td>0</td>\n",
       "      <td>Thank you HT for the Star points! #Samsung #CEO #passion #star #workhard #fun #Recognition :) ht...</td>\n",
       "    </tr>\n",
       "    <tr>\n",
       "      <th>5330</th>\n",
       "      <td>5331</td>\n",
       "      <td>0</td>\n",
       "      <td>#french #girl #swag #jonatic #funny #crazy #shoes#unbroken #apple #lovatic #joke #summer #smil h...</td>\n",
       "    </tr>\n",
       "    <tr>\n",
       "      <th>1187</th>\n",
       "      <td>1188</td>\n",
       "      <td>0</td>\n",
       "      <td>Special App For valentine 360 #photography #girl #nowplaying poem #iphone #valentineday 185 http...</td>\n",
       "    </tr>\n",
       "    <tr>\n",
       "      <th>165</th>\n",
       "      <td>166</td>\n",
       "      <td>1</td>\n",
       "      <td>there's something wrong if you charge your phone at least three times a day #getbetterbatteries</td>\n",
       "    </tr>\n",
       "  </tbody>\n",
       "</table>\n",
       "</div>"
      ],
      "text/plain": [
       "        id  label  \\\n",
       "4003  4004      1   \n",
       "831    832      1   \n",
       "791    792      0   \n",
       "1563  1564      0   \n",
       "2054  2055      0   \n",
       "6411  6412      0   \n",
       "1952  1953      0   \n",
       "5330  5331      0   \n",
       "1187  1188      0   \n",
       "165    166      1   \n",
       "\n",
       "                                                                                                    tweet  \n",
       "4003                            It's wonderful how slow my phone is with good service! #apple #phone #ass  \n",
       "831   It costs $200 to swap my phone out for the exact same phone I currently have.. Just to fix the f...  \n",
       "791   Shot on iPhone X . . #iphone #apple #iphonex #wonderful #selfie #portraitmode … https://www.inst...  \n",
       "1563                                  Wowzas, just had my first \"I have an app for that!\" moment. #iphone  \n",
       "2054  Just our Narsis Face #lol #iphone #iphonesia #iphoneonly #iphonography #cartoon #fashionstyle… h...  \n",
       "6411  Just like Santa he is always watching! #dog #dogs #pet #doglover #puppylove #petstagram #adorabl...  \n",
       "1952  Thank you HT for the Star points! #Samsung #CEO #passion #star #workhard #fun #Recognition :) ht...  \n",
       "5330  #french #girl #swag #jonatic #funny #crazy #shoes#unbroken #apple #lovatic #joke #summer #smil h...  \n",
       "1187  Special App For valentine 360 #photography #girl #nowplaying poem #iphone #valentineday 185 http...  \n",
       "165       there's something wrong if you charge your phone at least three times a day #getbetterbatteries  "
      ]
     },
     "execution_count": 13,
     "metadata": {},
     "output_type": "execute_result"
    }
   ],
   "source": [
    "train.sample(10)"
   ]
  },
  {
   "cell_type": "markdown",
   "id": "41363260-7660-4f0c-8344-accddfc62237",
   "metadata": {},
   "source": [
    "# Data Cleaning"
   ]
  },
  {
   "cell_type": "code",
   "execution_count": 14,
   "id": "0642478d-9c3d-44ae-8f53-6b7022b0fdb8",
   "metadata": {},
   "outputs": [
    {
     "data": {
      "text/plain": [
       "'!\"#$%&\\'()*+,-./:;<=>?@[\\\\]^_`{|}~'"
      ]
     },
     "execution_count": 14,
     "metadata": {},
     "output_type": "execute_result"
    }
   ],
   "source": [
    "string.punctuation"
   ]
  },
  {
   "cell_type": "code",
   "execution_count": 15,
   "id": "e402972a-449b-4032-aa7a-881fc050089c",
   "metadata": {},
   "outputs": [],
   "source": [
    "punctuation = string.punctuation"
   ]
  },
  {
   "cell_type": "code",
   "execution_count": 16,
   "id": "984b007e-4b3b-4bcf-993b-865e2e7d915a",
   "metadata": {},
   "outputs": [],
   "source": [
    "def clean_text(text):\n",
    "    text_clean = []\n",
    "    for i in text:\n",
    "        if i not in punctuation:\n",
    "            text_clean.append(i.lower())\n",
    "    return ''.join(text_clean)"
   ]
  },
  {
   "cell_type": "code",
   "execution_count": 17,
   "id": "6d3e8a0a-14e8-4585-bc76-107dd568533a",
   "metadata": {},
   "outputs": [
    {
     "data": {
      "text/plain": [
       "'woohoo best gift from dad pc tablet sony xperia make believe picsforlikes instagram httpinstagramcompyiazt9i92p'"
      ]
     },
     "execution_count": 17,
     "metadata": {},
     "output_type": "execute_result"
    }
   ],
   "source": [
    "clean_text(train.iloc[3914, 2])"
   ]
  },
  {
   "cell_type": "code",
   "execution_count": 18,
   "id": "0cdaff27-3e4e-4ee4-bbc7-41114a2dea4c",
   "metadata": {},
   "outputs": [],
   "source": [
    "def clean_text(text):\n",
    "    text_clean = re.findall(r'[a-zA-Z0-9\\']+', text)\n",
    "    return ' '.join(text_clean)"
   ]
  },
  {
   "cell_type": "code",
   "execution_count": 19,
   "id": "d3e5b004-e976-4237-a75e-18833a964ae6",
   "metadata": {},
   "outputs": [
    {
     "data": {
      "text/plain": [
       "'Woohoo best gift from dad pc tablet sony xperia make believe picsforlikes instagram http instagram com p YiazT9I92P'"
      ]
     },
     "execution_count": 19,
     "metadata": {},
     "output_type": "execute_result"
    }
   ],
   "source": [
    "clean_text(train.iloc[3914, 2])"
   ]
  },
  {
   "cell_type": "code",
   "execution_count": 20,
   "id": "a4baf616-527c-43d6-9597-3a069f2ed7fd",
   "metadata": {},
   "outputs": [],
   "source": [
    "train['clean tweet'] = train['tweet'].apply(lambda x: clean_text(x))"
   ]
  },
  {
   "cell_type": "code",
   "execution_count": 21,
   "id": "2a9c75f7-f470-45c6-8eca-f395ba89c940",
   "metadata": {},
   "outputs": [
    {
     "data": {
      "text/html": [
       "<div>\n",
       "<style scoped>\n",
       "    .dataframe tbody tr th:only-of-type {\n",
       "        vertical-align: middle;\n",
       "    }\n",
       "\n",
       "    .dataframe tbody tr th {\n",
       "        vertical-align: top;\n",
       "    }\n",
       "\n",
       "    .dataframe thead th {\n",
       "        text-align: right;\n",
       "    }\n",
       "</style>\n",
       "<table border=\"1\" class=\"dataframe\">\n",
       "  <thead>\n",
       "    <tr style=\"text-align: right;\">\n",
       "      <th></th>\n",
       "      <th>id</th>\n",
       "      <th>label</th>\n",
       "      <th>tweet</th>\n",
       "      <th>clean tweet</th>\n",
       "    </tr>\n",
       "  </thead>\n",
       "  <tbody>\n",
       "    <tr>\n",
       "      <th>0</th>\n",
       "      <td>1</td>\n",
       "      <td>0</td>\n",
       "      <td>#fingerprint #Pregnancy Test https://goo.gl/h1MfQV #android #apps #beautiful #cute #health #iger...</td>\n",
       "      <td>fingerprint Pregnancy Test https goo gl h1MfQV android apps beautiful cute health igers iphoneon...</td>\n",
       "    </tr>\n",
       "    <tr>\n",
       "      <th>1</th>\n",
       "      <td>2</td>\n",
       "      <td>0</td>\n",
       "      <td>Finally a transparant silicon case ^^ Thanks to my uncle :) #yay #Sony #Xperia #S #sonyexperias…...</td>\n",
       "      <td>Finally a transparant silicon case Thanks to my uncle yay Sony Xperia S sonyexperias http instag...</td>\n",
       "    </tr>\n",
       "    <tr>\n",
       "      <th>2</th>\n",
       "      <td>3</td>\n",
       "      <td>0</td>\n",
       "      <td>We love this! Would you go? #talk #makememories #unplug #relax #iphone #smartphone #wifi #connec...</td>\n",
       "      <td>We love this Would you go talk makememories unplug relax iphone smartphone wifi connect http fb ...</td>\n",
       "    </tr>\n",
       "    <tr>\n",
       "      <th>3</th>\n",
       "      <td>4</td>\n",
       "      <td>0</td>\n",
       "      <td>I'm wired I know I'm George I was made that way ;) #iphone #cute #daventry #home http://instagr....</td>\n",
       "      <td>I'm wired I know I'm George I was made that way iphone cute daventry home http instagr am p Li 5...</td>\n",
       "    </tr>\n",
       "    <tr>\n",
       "      <th>4</th>\n",
       "      <td>5</td>\n",
       "      <td>1</td>\n",
       "      <td>What amazing service! Apple won't even talk to me about a question I have unless I pay them $19....</td>\n",
       "      <td>What amazing service Apple won't even talk to me about a question I have unless I pay them 19 95...</td>\n",
       "    </tr>\n",
       "    <tr>\n",
       "      <th>...</th>\n",
       "      <td>...</td>\n",
       "      <td>...</td>\n",
       "      <td>...</td>\n",
       "      <td>...</td>\n",
       "    </tr>\n",
       "    <tr>\n",
       "      <th>7915</th>\n",
       "      <td>7916</td>\n",
       "      <td>0</td>\n",
       "      <td>Live out loud #lol #liveoutloud #selfie #smile #sony #music #headphones https://instagram.com/p/...</td>\n",
       "      <td>Live out loud lol liveoutloud selfie smile sony music headphones https instagram com p 5spiNsJ c9</td>\n",
       "    </tr>\n",
       "    <tr>\n",
       "      <th>7916</th>\n",
       "      <td>7917</td>\n",
       "      <td>0</td>\n",
       "      <td>We would like to wish you an amazing day! Make every minute count #tls #today #iphone #accessori...</td>\n",
       "      <td>We would like to wish you an amazing day Make every minute count tls today iphone accessories ne...</td>\n",
       "    </tr>\n",
       "    <tr>\n",
       "      <th>7917</th>\n",
       "      <td>7918</td>\n",
       "      <td>0</td>\n",
       "      <td>Helping my lovely 90 year old neighbor with her iPad this morning has just made me realise that ...</td>\n",
       "      <td>Helping my lovely 90 year old neighbor with her iPad this morning has just made me realise that ...</td>\n",
       "    </tr>\n",
       "    <tr>\n",
       "      <th>7918</th>\n",
       "      <td>7919</td>\n",
       "      <td>0</td>\n",
       "      <td>Finally got my #smart #pocket #wifi stay connected anytime,anywhere! #ipad and #samsung #s3 #gad...</td>\n",
       "      <td>Finally got my smart pocket wifi stay connected anytime anywhere ipad and samsung s3 gadget http...</td>\n",
       "    </tr>\n",
       "    <tr>\n",
       "      <th>7919</th>\n",
       "      <td>7920</td>\n",
       "      <td>0</td>\n",
       "      <td>Apple Barcelona!!! #Apple #Store #BCN #Barcelona #travel #iphone #selfie #fly #fun #cabincrew… h...</td>\n",
       "      <td>Apple Barcelona Apple Store BCN Barcelona travel iphone selfie fly fun cabincrew http instagram ...</td>\n",
       "    </tr>\n",
       "  </tbody>\n",
       "</table>\n",
       "<p>7920 rows × 4 columns</p>\n",
       "</div>"
      ],
      "text/plain": [
       "        id  label  \\\n",
       "0        1      0   \n",
       "1        2      0   \n",
       "2        3      0   \n",
       "3        4      0   \n",
       "4        5      1   \n",
       "...    ...    ...   \n",
       "7915  7916      0   \n",
       "7916  7917      0   \n",
       "7917  7918      0   \n",
       "7918  7919      0   \n",
       "7919  7920      0   \n",
       "\n",
       "                                                                                                    tweet  \\\n",
       "0     #fingerprint #Pregnancy Test https://goo.gl/h1MfQV #android #apps #beautiful #cute #health #iger...   \n",
       "1     Finally a transparant silicon case ^^ Thanks to my uncle :) #yay #Sony #Xperia #S #sonyexperias…...   \n",
       "2     We love this! Would you go? #talk #makememories #unplug #relax #iphone #smartphone #wifi #connec...   \n",
       "3     I'm wired I know I'm George I was made that way ;) #iphone #cute #daventry #home http://instagr....   \n",
       "4     What amazing service! Apple won't even talk to me about a question I have unless I pay them $19....   \n",
       "...                                                                                                   ...   \n",
       "7915  Live out loud #lol #liveoutloud #selfie #smile #sony #music #headphones https://instagram.com/p/...   \n",
       "7916  We would like to wish you an amazing day! Make every minute count #tls #today #iphone #accessori...   \n",
       "7917  Helping my lovely 90 year old neighbor with her iPad this morning has just made me realise that ...   \n",
       "7918  Finally got my #smart #pocket #wifi stay connected anytime,anywhere! #ipad and #samsung #s3 #gad...   \n",
       "7919  Apple Barcelona!!! #Apple #Store #BCN #Barcelona #travel #iphone #selfie #fly #fun #cabincrew… h...   \n",
       "\n",
       "                                                                                              clean tweet  \n",
       "0     fingerprint Pregnancy Test https goo gl h1MfQV android apps beautiful cute health igers iphoneon...  \n",
       "1     Finally a transparant silicon case Thanks to my uncle yay Sony Xperia S sonyexperias http instag...  \n",
       "2     We love this Would you go talk makememories unplug relax iphone smartphone wifi connect http fb ...  \n",
       "3     I'm wired I know I'm George I was made that way iphone cute daventry home http instagr am p Li 5...  \n",
       "4     What amazing service Apple won't even talk to me about a question I have unless I pay them 19 95...  \n",
       "...                                                                                                   ...  \n",
       "7915    Live out loud lol liveoutloud selfie smile sony music headphones https instagram com p 5spiNsJ c9  \n",
       "7916  We would like to wish you an amazing day Make every minute count tls today iphone accessories ne...  \n",
       "7917  Helping my lovely 90 year old neighbor with her iPad this morning has just made me realise that ...  \n",
       "7918  Finally got my smart pocket wifi stay connected anytime anywhere ipad and samsung s3 gadget http...  \n",
       "7919  Apple Barcelona Apple Store BCN Barcelona travel iphone selfie fly fun cabincrew http instagram ...  \n",
       "\n",
       "[7920 rows x 4 columns]"
      ]
     },
     "execution_count": 21,
     "metadata": {},
     "output_type": "execute_result"
    }
   ],
   "source": [
    "train"
   ]
  },
  {
   "cell_type": "markdown",
   "id": "21ceb367-567d-43c5-8791-fff44b3b79d8",
   "metadata": {},
   "source": [
    "## counts"
   ]
  },
  {
   "cell_type": "code",
   "execution_count": 22,
   "id": "0cc85561-076b-4fa7-88d2-c3417a20244b",
   "metadata": {},
   "outputs": [],
   "source": [
    "train['wordcount'] = train['clean tweet'].apply(lambda x: len(x.split()))"
   ]
  },
  {
   "cell_type": "code",
   "execution_count": 23,
   "id": "4677a132-9bc2-46e0-a486-ba24fa328d2e",
   "metadata": {},
   "outputs": [],
   "source": [
    "train['charcount'] = train['clean tweet'].apply(lambda x: len(x))"
   ]
  },
  {
   "cell_type": "code",
   "execution_count": 24,
   "id": "ec9a3713-101a-4333-aa33-b22851d2e6c4",
   "metadata": {},
   "outputs": [],
   "source": [
    "train['mentions'] = train['tweet'].apply(lambda x: x.count('@'))"
   ]
  },
  {
   "cell_type": "code",
   "execution_count": 25,
   "id": "6806ed2c-33a8-4e53-a8c6-5ab88dcdc9ea",
   "metadata": {},
   "outputs": [],
   "source": [
    "train['hashtags'] = train['tweet'].apply(lambda x: x.count('#'))"
   ]
  },
  {
   "cell_type": "code",
   "execution_count": 26,
   "id": "e900c02d-316b-4425-920d-751cb9c07606",
   "metadata": {},
   "outputs": [
    {
     "data": {
      "text/html": [
       "<div>\n",
       "<style scoped>\n",
       "    .dataframe tbody tr th:only-of-type {\n",
       "        vertical-align: middle;\n",
       "    }\n",
       "\n",
       "    .dataframe tbody tr th {\n",
       "        vertical-align: top;\n",
       "    }\n",
       "\n",
       "    .dataframe thead th {\n",
       "        text-align: right;\n",
       "    }\n",
       "</style>\n",
       "<table border=\"1\" class=\"dataframe\">\n",
       "  <thead>\n",
       "    <tr style=\"text-align: right;\">\n",
       "      <th></th>\n",
       "      <th>id</th>\n",
       "      <th>label</th>\n",
       "      <th>tweet</th>\n",
       "      <th>clean tweet</th>\n",
       "      <th>wordcount</th>\n",
       "      <th>charcount</th>\n",
       "      <th>mentions</th>\n",
       "      <th>hashtags</th>\n",
       "    </tr>\n",
       "  </thead>\n",
       "  <tbody>\n",
       "    <tr>\n",
       "      <th>0</th>\n",
       "      <td>1</td>\n",
       "      <td>0</td>\n",
       "      <td>#fingerprint #Pregnancy Test https://goo.gl/h1MfQV #android #apps #beautiful #cute #health #iger...</td>\n",
       "      <td>fingerprint Pregnancy Test https goo gl h1MfQV android apps beautiful cute health igers iphoneon...</td>\n",
       "      <td>16</td>\n",
       "      <td>115</td>\n",
       "      <td>0</td>\n",
       "      <td>11</td>\n",
       "    </tr>\n",
       "    <tr>\n",
       "      <th>1</th>\n",
       "      <td>2</td>\n",
       "      <td>0</td>\n",
       "      <td>Finally a transparant silicon case ^^ Thanks to my uncle :) #yay #Sony #Xperia #S #sonyexperias…...</td>\n",
       "      <td>Finally a transparant silicon case Thanks to my uncle yay Sony Xperia S sonyexperias http instag...</td>\n",
       "      <td>19</td>\n",
       "      <td>116</td>\n",
       "      <td>0</td>\n",
       "      <td>5</td>\n",
       "    </tr>\n",
       "    <tr>\n",
       "      <th>2</th>\n",
       "      <td>3</td>\n",
       "      <td>0</td>\n",
       "      <td>We love this! Would you go? #talk #makememories #unplug #relax #iphone #smartphone #wifi #connec...</td>\n",
       "      <td>We love this Would you go talk makememories unplug relax iphone smartphone wifi connect http fb ...</td>\n",
       "      <td>18</td>\n",
       "      <td>108</td>\n",
       "      <td>0</td>\n",
       "      <td>8</td>\n",
       "    </tr>\n",
       "    <tr>\n",
       "      <th>3</th>\n",
       "      <td>4</td>\n",
       "      <td>0</td>\n",
       "      <td>I'm wired I know I'm George I was made that way ;) #iphone #cute #daventry #home http://instagr....</td>\n",
       "      <td>I'm wired I know I'm George I was made that way iphone cute daventry home http instagr am p Li 5...</td>\n",
       "      <td>22</td>\n",
       "      <td>102</td>\n",
       "      <td>0</td>\n",
       "      <td>4</td>\n",
       "    </tr>\n",
       "    <tr>\n",
       "      <th>4</th>\n",
       "      <td>5</td>\n",
       "      <td>1</td>\n",
       "      <td>What amazing service! Apple won't even talk to me about a question I have unless I pay them $19....</td>\n",
       "      <td>What amazing service Apple won't even talk to me about a question I have unless I pay them 19 95...</td>\n",
       "      <td>24</td>\n",
       "      <td>121</td>\n",
       "      <td>0</td>\n",
       "      <td>0</td>\n",
       "    </tr>\n",
       "    <tr>\n",
       "      <th>...</th>\n",
       "      <td>...</td>\n",
       "      <td>...</td>\n",
       "      <td>...</td>\n",
       "      <td>...</td>\n",
       "      <td>...</td>\n",
       "      <td>...</td>\n",
       "      <td>...</td>\n",
       "      <td>...</td>\n",
       "    </tr>\n",
       "    <tr>\n",
       "      <th>7915</th>\n",
       "      <td>7916</td>\n",
       "      <td>0</td>\n",
       "      <td>Live out loud #lol #liveoutloud #selfie #smile #sony #music #headphones https://instagram.com/p/...</td>\n",
       "      <td>Live out loud lol liveoutloud selfie smile sony music headphones https instagram com p 5spiNsJ c9</td>\n",
       "      <td>16</td>\n",
       "      <td>97</td>\n",
       "      <td>0</td>\n",
       "      <td>7</td>\n",
       "    </tr>\n",
       "    <tr>\n",
       "      <th>7916</th>\n",
       "      <td>7917</td>\n",
       "      <td>0</td>\n",
       "      <td>We would like to wish you an amazing day! Make every minute count #tls #today #iphone #accessori...</td>\n",
       "      <td>We would like to wish you an amazing day Make every minute count tls today iphone accessories ne...</td>\n",
       "      <td>24</td>\n",
       "      <td>125</td>\n",
       "      <td>0</td>\n",
       "      <td>6</td>\n",
       "    </tr>\n",
       "    <tr>\n",
       "      <th>7917</th>\n",
       "      <td>7918</td>\n",
       "      <td>0</td>\n",
       "      <td>Helping my lovely 90 year old neighbor with her iPad this morning has just made me realise that ...</td>\n",
       "      <td>Helping my lovely 90 year old neighbor with her iPad this morning has just made me realise that ...</td>\n",
       "      <td>25</td>\n",
       "      <td>128</td>\n",
       "      <td>0</td>\n",
       "      <td>0</td>\n",
       "    </tr>\n",
       "    <tr>\n",
       "      <th>7918</th>\n",
       "      <td>7919</td>\n",
       "      <td>0</td>\n",
       "      <td>Finally got my #smart #pocket #wifi stay connected anytime,anywhere! #ipad and #samsung #s3 #gad...</td>\n",
       "      <td>Finally got my smart pocket wifi stay connected anytime anywhere ipad and samsung s3 gadget http...</td>\n",
       "      <td>22</td>\n",
       "      <td>120</td>\n",
       "      <td>0</td>\n",
       "      <td>8</td>\n",
       "    </tr>\n",
       "    <tr>\n",
       "      <th>7919</th>\n",
       "      <td>7920</td>\n",
       "      <td>0</td>\n",
       "      <td>Apple Barcelona!!! #Apple #Store #BCN #Barcelona #travel #iphone #selfie #fly #fun #cabincrew… h...</td>\n",
       "      <td>Apple Barcelona Apple Store BCN Barcelona travel iphone selfie fly fun cabincrew http instagram ...</td>\n",
       "      <td>17</td>\n",
       "      <td>112</td>\n",
       "      <td>0</td>\n",
       "      <td>10</td>\n",
       "    </tr>\n",
       "  </tbody>\n",
       "</table>\n",
       "<p>7920 rows × 8 columns</p>\n",
       "</div>"
      ],
      "text/plain": [
       "        id  label  \\\n",
       "0        1      0   \n",
       "1        2      0   \n",
       "2        3      0   \n",
       "3        4      0   \n",
       "4        5      1   \n",
       "...    ...    ...   \n",
       "7915  7916      0   \n",
       "7916  7917      0   \n",
       "7917  7918      0   \n",
       "7918  7919      0   \n",
       "7919  7920      0   \n",
       "\n",
       "                                                                                                    tweet  \\\n",
       "0     #fingerprint #Pregnancy Test https://goo.gl/h1MfQV #android #apps #beautiful #cute #health #iger...   \n",
       "1     Finally a transparant silicon case ^^ Thanks to my uncle :) #yay #Sony #Xperia #S #sonyexperias…...   \n",
       "2     We love this! Would you go? #talk #makememories #unplug #relax #iphone #smartphone #wifi #connec...   \n",
       "3     I'm wired I know I'm George I was made that way ;) #iphone #cute #daventry #home http://instagr....   \n",
       "4     What amazing service! Apple won't even talk to me about a question I have unless I pay them $19....   \n",
       "...                                                                                                   ...   \n",
       "7915  Live out loud #lol #liveoutloud #selfie #smile #sony #music #headphones https://instagram.com/p/...   \n",
       "7916  We would like to wish you an amazing day! Make every minute count #tls #today #iphone #accessori...   \n",
       "7917  Helping my lovely 90 year old neighbor with her iPad this morning has just made me realise that ...   \n",
       "7918  Finally got my #smart #pocket #wifi stay connected anytime,anywhere! #ipad and #samsung #s3 #gad...   \n",
       "7919  Apple Barcelona!!! #Apple #Store #BCN #Barcelona #travel #iphone #selfie #fly #fun #cabincrew… h...   \n",
       "\n",
       "                                                                                              clean tweet  \\\n",
       "0     fingerprint Pregnancy Test https goo gl h1MfQV android apps beautiful cute health igers iphoneon...   \n",
       "1     Finally a transparant silicon case Thanks to my uncle yay Sony Xperia S sonyexperias http instag...   \n",
       "2     We love this Would you go talk makememories unplug relax iphone smartphone wifi connect http fb ...   \n",
       "3     I'm wired I know I'm George I was made that way iphone cute daventry home http instagr am p Li 5...   \n",
       "4     What amazing service Apple won't even talk to me about a question I have unless I pay them 19 95...   \n",
       "...                                                                                                   ...   \n",
       "7915    Live out loud lol liveoutloud selfie smile sony music headphones https instagram com p 5spiNsJ c9   \n",
       "7916  We would like to wish you an amazing day Make every minute count tls today iphone accessories ne...   \n",
       "7917  Helping my lovely 90 year old neighbor with her iPad this morning has just made me realise that ...   \n",
       "7918  Finally got my smart pocket wifi stay connected anytime anywhere ipad and samsung s3 gadget http...   \n",
       "7919  Apple Barcelona Apple Store BCN Barcelona travel iphone selfie fly fun cabincrew http instagram ...   \n",
       "\n",
       "      wordcount  charcount  mentions  hashtags  \n",
       "0            16        115         0        11  \n",
       "1            19        116         0         5  \n",
       "2            18        108         0         8  \n",
       "3            22        102         0         4  \n",
       "4            24        121         0         0  \n",
       "...         ...        ...       ...       ...  \n",
       "7915         16         97         0         7  \n",
       "7916         24        125         0         6  \n",
       "7917         25        128         0         0  \n",
       "7918         22        120         0         8  \n",
       "7919         17        112         0        10  \n",
       "\n",
       "[7920 rows x 8 columns]"
      ]
     },
     "execution_count": 26,
     "metadata": {},
     "output_type": "execute_result"
    }
   ],
   "source": [
    "train"
   ]
  },
  {
   "cell_type": "markdown",
   "id": "01cedbd0-3263-4cf4-baee-6cc2c615c318",
   "metadata": {},
   "source": [
    "## Linguistic features"
   ]
  },
  {
   "cell_type": "code",
   "execution_count": 27,
   "id": "15a660b5-4cbf-4b13-9d1c-d1f753b397d1",
   "metadata": {
    "collapsed": true,
    "jupyter": {
     "outputs_hidden": true
    },
    "tags": []
   },
   "outputs": [
    {
     "ename": "ModuleNotFoundError",
     "evalue": "No module named 'spacy'",
     "output_type": "error",
     "traceback": [
      "\u001b[1;31m---------------------------------------------------------------------------\u001b[0m",
      "\u001b[1;31mModuleNotFoundError\u001b[0m                       Traceback (most recent call last)",
      "\u001b[1;32m~\\AppData\\Local\\Temp\\ipykernel_8888\\572880994.py\u001b[0m in \u001b[0;36m<cell line: 1>\u001b[1;34m()\u001b[0m\n\u001b[1;32m----> 1\u001b[1;33m \u001b[1;32mimport\u001b[0m \u001b[0mspacy\u001b[0m\u001b[1;33m\u001b[0m\u001b[1;33m\u001b[0m\u001b[0m\n\u001b[0m",
      "\u001b[1;31mModuleNotFoundError\u001b[0m: No module named 'spacy'"
     ]
    }
   ],
   "source": [
    "import spacy"
   ]
  },
  {
   "cell_type": "code",
   "execution_count": 28,
   "id": "2d194f31-3735-46f0-b8fb-9aed2a99a0f6",
   "metadata": {},
   "outputs": [],
   "source": [
    "nlp = spacy.load('en_core_web_sm')"
   ]
  },
  {
   "cell_type": "code",
   "execution_count": 29,
   "id": "9b543f24-3ea7-4cd2-bdc0-76a89533b2bf",
   "metadata": {},
   "outputs": [
    {
     "data": {
      "text/plain": [
       "PosixPath('/home/santhosh/anaconda3/lib/python3.10/site-packages/en_core_web_sm/en_core_web_sm-3.5.0')"
      ]
     },
     "execution_count": 29,
     "metadata": {},
     "output_type": "execute_result"
    }
   ],
   "source": [
    "nlp.path"
   ]
  },
  {
   "cell_type": "code",
   "execution_count": 30,
   "id": "2e836bb0-a06e-4b62-a198-57cf2cd8a3df",
   "metadata": {},
   "outputs": [
    {
     "name": "stdout",
     "output_type": "stream",
     "text": [
      "\u001b[1m\n",
      "============================= Pipeline Overview =============================\u001b[0m\n",
      "\n",
      "#   Component         Assigns               Requires   Scores             Retokenizes\n",
      "-   ---------------   -------------------   --------   ----------------   -----------\n",
      "0   tok2vec           doc.tensor                                          False      \n",
      "                                                                                     \n",
      "1   tagger            token.tag                        tag_acc            False      \n",
      "                                                                                     \n",
      "2   parser            token.dep                        dep_uas            False      \n",
      "                      token.head                       dep_las                       \n",
      "                      token.is_sent_start              dep_las_per_type              \n",
      "                      doc.sents                        sents_p                       \n",
      "                                                       sents_r                       \n",
      "                                                       sents_f                       \n",
      "                                                                                     \n",
      "3   attribute_ruler                                                       False      \n",
      "                                                                                     \n",
      "4   lemmatizer        token.lemma                      lemma_acc          False      \n",
      "                                                                                     \n",
      "5   ner               doc.ents                         ents_f             False      \n",
      "                      token.ent_iob                    ents_p                        \n",
      "                      token.ent_type                   ents_r                        \n",
      "                                                       ents_per_type                 \n",
      "\n",
      "\u001b[38;5;2m✔ No problems found.\u001b[0m\n"
     ]
    }
   ],
   "source": [
    "p = nlp.analyze_pipes(pretty=True)"
   ]
  },
  {
   "cell_type": "code",
   "execution_count": 31,
   "id": "c135a6eb-792b-495e-87e3-8cde9cc744c2",
   "metadata": {},
   "outputs": [],
   "source": [
    "def lemma(texts):\n",
    "    lemma_list = []\n",
    "    for doc in nlp.pipe(texts, n_process=2, batch_size=500, disable=['ner', 'tagger', 'parser', 'attribute_ruler']):\n",
    "        tokens = [token.lemma_ for token in doc if token.is_stop==False]\n",
    "        lemma_list.append(' '.join(tokens))\n",
    "    return lemma_list"
   ]
  },
  {
   "cell_type": "code",
   "execution_count": 32,
   "id": "3a9df93d-e99f-4935-81c4-4b09ea02369d",
   "metadata": {},
   "outputs": [
    {
     "name": "stderr",
     "output_type": "stream",
     "text": [
      "/home/santhosh/anaconda3/lib/python3.10/site-packages/spacy/pipeline/lemmatizer.py:211: UserWarning: [W108] The rule-based lemmatizer did not find POS annotation for one or more tokens. Check that your pipeline includes components that assign token.pos, typically 'tagger'+'attribute_ruler' or 'morphologizer'.\n",
      "  warnings.warn(Warnings.W108)\n",
      "/home/santhosh/anaconda3/lib/python3.10/site-packages/spacy/pipeline/lemmatizer.py:211: UserWarning: [W108] The rule-based lemmatizer did not find POS annotation for one or more tokens. Check that your pipeline includes components that assign token.pos, typically 'tagger'+'attribute_ruler' or 'morphologizer'.\n",
      "  warnings.warn(Warnings.W108)\n"
     ]
    }
   ],
   "source": [
    "train['lemmas'] = lemma(train['clean tweet'].values)"
   ]
  },
  {
   "cell_type": "code",
   "execution_count": 33,
   "id": "b56e70d4-cf79-48d5-be81-937651aced66",
   "metadata": {},
   "outputs": [],
   "source": [
    "def noun_count(texts):\n",
    "    noun_list = []\n",
    "    for doc in nlp.pipe(texts, n_process=2, batch_size=100, disable=['ner', 'parser', 'lemmatizer']):\n",
    "        n = 0\n",
    "        for token in doc:\n",
    "            if token.pos_ == 'NOUN' or token.pos_ == 'PROPN':\n",
    "                n += 1\n",
    "        noun_list.append(n)\n",
    "    return noun_list"
   ]
  },
  {
   "cell_type": "code",
   "execution_count": 34,
   "id": "9ee3769a-001e-47d1-81bb-056a805a8f32",
   "metadata": {},
   "outputs": [],
   "source": [
    "train['nouncount'] = noun_count(train['clean tweet'].values)"
   ]
  },
  {
   "cell_type": "code",
   "execution_count": 35,
   "id": "f5d5db8e-51c5-4764-8cad-5808d6eab620",
   "metadata": {},
   "outputs": [],
   "source": [
    "def verb_count(texts):\n",
    "    verb_list = []\n",
    "    for doc in nlp.pipe(texts, n_process=2, batch_size=100, disable=['ner', 'parser', 'lemmatizer']):\n",
    "        n = 0\n",
    "        for token in doc:\n",
    "            if token.pos_ == 'VERB':\n",
    "                n += 1\n",
    "        verb_list.append(n)\n",
    "    return verb_list"
   ]
  },
  {
   "cell_type": "code",
   "execution_count": 36,
   "id": "32f84bb6-e123-4d2c-8477-1738442d1943",
   "metadata": {},
   "outputs": [],
   "source": [
    "train['verbcount'] = verb_count(train['clean tweet'].values)"
   ]
  },
  {
   "cell_type": "code",
   "execution_count": 37,
   "id": "456931a6-0068-476d-bd7d-c4cae62fbb02",
   "metadata": {},
   "outputs": [],
   "source": [
    "def adjective_count(texts):\n",
    "    adj_list = []\n",
    "    for doc in nlp.pipe(texts, n_process=2, batch_size=100, disable=['ner', 'parser', 'lemmatizer']):\n",
    "        n = 0\n",
    "        for token in doc:\n",
    "            if token.pos_ == 'ADJ':\n",
    "                n += 1\n",
    "        adj_list.append(n)\n",
    "    return adj_list"
   ]
  },
  {
   "cell_type": "code",
   "execution_count": 38,
   "id": "0004dace-1aee-4bc5-8997-8e89b855e19c",
   "metadata": {},
   "outputs": [],
   "source": [
    "train['adjcount'] = adjective_count(train['clean tweet'].values)"
   ]
  },
  {
   "cell_type": "code",
   "execution_count": 39,
   "id": "9dbdd5bf-9b84-4d7d-a93f-f7f4d003a037",
   "metadata": {},
   "outputs": [
    {
     "data": {
      "text/html": [
       "<div>\n",
       "<style scoped>\n",
       "    .dataframe tbody tr th:only-of-type {\n",
       "        vertical-align: middle;\n",
       "    }\n",
       "\n",
       "    .dataframe tbody tr th {\n",
       "        vertical-align: top;\n",
       "    }\n",
       "\n",
       "    .dataframe thead th {\n",
       "        text-align: right;\n",
       "    }\n",
       "</style>\n",
       "<table border=\"1\" class=\"dataframe\">\n",
       "  <thead>\n",
       "    <tr style=\"text-align: right;\">\n",
       "      <th></th>\n",
       "      <th>id</th>\n",
       "      <th>label</th>\n",
       "      <th>tweet</th>\n",
       "      <th>clean tweet</th>\n",
       "      <th>wordcount</th>\n",
       "      <th>charcount</th>\n",
       "      <th>mentions</th>\n",
       "      <th>hashtags</th>\n",
       "      <th>lemmas</th>\n",
       "      <th>nouncount</th>\n",
       "      <th>verbcount</th>\n",
       "      <th>adjcount</th>\n",
       "    </tr>\n",
       "  </thead>\n",
       "  <tbody>\n",
       "    <tr>\n",
       "      <th>0</th>\n",
       "      <td>1</td>\n",
       "      <td>0</td>\n",
       "      <td>#fingerprint #Pregnancy Test https://goo.gl/h1MfQV #android #apps #beautiful #cute #health #iger...</td>\n",
       "      <td>fingerprint Pregnancy Test https goo gl h1MfQV android apps beautiful cute health igers iphoneon...</td>\n",
       "      <td>16</td>\n",
       "      <td>115</td>\n",
       "      <td>0</td>\n",
       "      <td>11</td>\n",
       "      <td>fingerprint pregnancy test https goo gl h1mfqv android apps beautiful cute health igers iphoneon...</td>\n",
       "      <td>10</td>\n",
       "      <td>1</td>\n",
       "      <td>3</td>\n",
       "    </tr>\n",
       "    <tr>\n",
       "      <th>1</th>\n",
       "      <td>2</td>\n",
       "      <td>0</td>\n",
       "      <td>Finally a transparant silicon case ^^ Thanks to my uncle :) #yay #Sony #Xperia #S #sonyexperias…...</td>\n",
       "      <td>Finally a transparant silicon case Thanks to my uncle yay Sony Xperia S sonyexperias http instag...</td>\n",
       "      <td>19</td>\n",
       "      <td>116</td>\n",
       "      <td>0</td>\n",
       "      <td>5</td>\n",
       "      <td>finally transparant silicon case thanks uncle yay sony xperia s sonyexperias http instagram com ...</td>\n",
       "      <td>14</td>\n",
       "      <td>0</td>\n",
       "      <td>1</td>\n",
       "    </tr>\n",
       "    <tr>\n",
       "      <th>2</th>\n",
       "      <td>3</td>\n",
       "      <td>0</td>\n",
       "      <td>We love this! Would you go? #talk #makememories #unplug #relax #iphone #smartphone #wifi #connec...</td>\n",
       "      <td>We love this Would you go talk makememories unplug relax iphone smartphone wifi connect http fb ...</td>\n",
       "      <td>18</td>\n",
       "      <td>108</td>\n",
       "      <td>0</td>\n",
       "      <td>8</td>\n",
       "      <td>love talk makememories unplug relax iphone smartphone wifi connect http fb 6n3lsupcu</td>\n",
       "      <td>7</td>\n",
       "      <td>4</td>\n",
       "      <td>0</td>\n",
       "    </tr>\n",
       "    <tr>\n",
       "      <th>3</th>\n",
       "      <td>4</td>\n",
       "      <td>0</td>\n",
       "      <td>I'm wired I know I'm George I was made that way ;) #iphone #cute #daventry #home http://instagr....</td>\n",
       "      <td>I'm wired I know I'm George I was made that way iphone cute daventry home http instagr am p Li 5...</td>\n",
       "      <td>22</td>\n",
       "      <td>102</td>\n",
       "      <td>0</td>\n",
       "      <td>4</td>\n",
       "      <td>wired know george way iphone cute daventry home http instagr p li 5 ujs4k</td>\n",
       "      <td>10</td>\n",
       "      <td>3</td>\n",
       "      <td>0</td>\n",
       "    </tr>\n",
       "    <tr>\n",
       "      <th>4</th>\n",
       "      <td>5</td>\n",
       "      <td>1</td>\n",
       "      <td>What amazing service! Apple won't even talk to me about a question I have unless I pay them $19....</td>\n",
       "      <td>What amazing service Apple won't even talk to me about a question I have unless I pay them 19 95...</td>\n",
       "      <td>24</td>\n",
       "      <td>121</td>\n",
       "      <td>0</td>\n",
       "      <td>0</td>\n",
       "      <td>amazing service apple wo talk question pay 19 95 stupid support</td>\n",
       "      <td>4</td>\n",
       "      <td>2</td>\n",
       "      <td>2</td>\n",
       "    </tr>\n",
       "    <tr>\n",
       "      <th>...</th>\n",
       "      <td>...</td>\n",
       "      <td>...</td>\n",
       "      <td>...</td>\n",
       "      <td>...</td>\n",
       "      <td>...</td>\n",
       "      <td>...</td>\n",
       "      <td>...</td>\n",
       "      <td>...</td>\n",
       "      <td>...</td>\n",
       "      <td>...</td>\n",
       "      <td>...</td>\n",
       "      <td>...</td>\n",
       "    </tr>\n",
       "    <tr>\n",
       "      <th>7915</th>\n",
       "      <td>7916</td>\n",
       "      <td>0</td>\n",
       "      <td>Live out loud #lol #liveoutloud #selfie #smile #sony #music #headphones https://instagram.com/p/...</td>\n",
       "      <td>Live out loud lol liveoutloud selfie smile sony music headphones https instagram com p 5spiNsJ c9</td>\n",
       "      <td>16</td>\n",
       "      <td>97</td>\n",
       "      <td>0</td>\n",
       "      <td>7</td>\n",
       "      <td>live loud lol liveoutloud selfie smile sony music headphones https instagram com p 5spinsj c9</td>\n",
       "      <td>11</td>\n",
       "      <td>3</td>\n",
       "      <td>1</td>\n",
       "    </tr>\n",
       "    <tr>\n",
       "      <th>7916</th>\n",
       "      <td>7917</td>\n",
       "      <td>0</td>\n",
       "      <td>We would like to wish you an amazing day! Make every minute count #tls #today #iphone #accessori...</td>\n",
       "      <td>We would like to wish you an amazing day Make every minute count tls today iphone accessories ne...</td>\n",
       "      <td>24</td>\n",
       "      <td>125</td>\n",
       "      <td>0</td>\n",
       "      <td>6</td>\n",
       "      <td>like wish amazing day minute count tls today iphone accessories news life february 23 2017 0</td>\n",
       "      <td>9</td>\n",
       "      <td>4</td>\n",
       "      <td>1</td>\n",
       "    </tr>\n",
       "    <tr>\n",
       "      <th>7917</th>\n",
       "      <td>7918</td>\n",
       "      <td>0</td>\n",
       "      <td>Helping my lovely 90 year old neighbor with her iPad this morning has just made me realise that ...</td>\n",
       "      <td>Helping my lovely 90 year old neighbor with her iPad this morning has just made me realise that ...</td>\n",
       "      <td>25</td>\n",
       "      <td>128</td>\n",
       "      <td>0</td>\n",
       "      <td>0</td>\n",
       "      <td>helping lovely 90 year old neighbor ipad morning realise ' ' actually need pad</td>\n",
       "      <td>6</td>\n",
       "      <td>5</td>\n",
       "      <td>2</td>\n",
       "    </tr>\n",
       "    <tr>\n",
       "      <th>7918</th>\n",
       "      <td>7919</td>\n",
       "      <td>0</td>\n",
       "      <td>Finally got my #smart #pocket #wifi stay connected anytime,anywhere! #ipad and #samsung #s3 #gad...</td>\n",
       "      <td>Finally got my smart pocket wifi stay connected anytime anywhere ipad and samsung s3 gadget http...</td>\n",
       "      <td>22</td>\n",
       "      <td>120</td>\n",
       "      <td>0</td>\n",
       "      <td>8</td>\n",
       "      <td>finally got smart pocket wifi stay connected anytime ipad samsung s3 gadget http instagr p u 53 ...</td>\n",
       "      <td>12</td>\n",
       "      <td>3</td>\n",
       "      <td>1</td>\n",
       "    </tr>\n",
       "    <tr>\n",
       "      <th>7919</th>\n",
       "      <td>7920</td>\n",
       "      <td>0</td>\n",
       "      <td>Apple Barcelona!!! #Apple #Store #BCN #Barcelona #travel #iphone #selfie #fly #fun #cabincrew… h...</td>\n",
       "      <td>Apple Barcelona Apple Store BCN Barcelona travel iphone selfie fly fun cabincrew http instagram ...</td>\n",
       "      <td>17</td>\n",
       "      <td>112</td>\n",
       "      <td>0</td>\n",
       "      <td>10</td>\n",
       "      <td>apple barcelona apple store bcn barcelona travel iphone selfie fly fun cabincrew http instagram ...</td>\n",
       "      <td>15</td>\n",
       "      <td>2</td>\n",
       "      <td>0</td>\n",
       "    </tr>\n",
       "  </tbody>\n",
       "</table>\n",
       "<p>7920 rows × 12 columns</p>\n",
       "</div>"
      ],
      "text/plain": [
       "        id  label  \\\n",
       "0        1      0   \n",
       "1        2      0   \n",
       "2        3      0   \n",
       "3        4      0   \n",
       "4        5      1   \n",
       "...    ...    ...   \n",
       "7915  7916      0   \n",
       "7916  7917      0   \n",
       "7917  7918      0   \n",
       "7918  7919      0   \n",
       "7919  7920      0   \n",
       "\n",
       "                                                                                                    tweet  \\\n",
       "0     #fingerprint #Pregnancy Test https://goo.gl/h1MfQV #android #apps #beautiful #cute #health #iger...   \n",
       "1     Finally a transparant silicon case ^^ Thanks to my uncle :) #yay #Sony #Xperia #S #sonyexperias…...   \n",
       "2     We love this! Would you go? #talk #makememories #unplug #relax #iphone #smartphone #wifi #connec...   \n",
       "3     I'm wired I know I'm George I was made that way ;) #iphone #cute #daventry #home http://instagr....   \n",
       "4     What amazing service! Apple won't even talk to me about a question I have unless I pay them $19....   \n",
       "...                                                                                                   ...   \n",
       "7915  Live out loud #lol #liveoutloud #selfie #smile #sony #music #headphones https://instagram.com/p/...   \n",
       "7916  We would like to wish you an amazing day! Make every minute count #tls #today #iphone #accessori...   \n",
       "7917  Helping my lovely 90 year old neighbor with her iPad this morning has just made me realise that ...   \n",
       "7918  Finally got my #smart #pocket #wifi stay connected anytime,anywhere! #ipad and #samsung #s3 #gad...   \n",
       "7919  Apple Barcelona!!! #Apple #Store #BCN #Barcelona #travel #iphone #selfie #fly #fun #cabincrew… h...   \n",
       "\n",
       "                                                                                              clean tweet  \\\n",
       "0     fingerprint Pregnancy Test https goo gl h1MfQV android apps beautiful cute health igers iphoneon...   \n",
       "1     Finally a transparant silicon case Thanks to my uncle yay Sony Xperia S sonyexperias http instag...   \n",
       "2     We love this Would you go talk makememories unplug relax iphone smartphone wifi connect http fb ...   \n",
       "3     I'm wired I know I'm George I was made that way iphone cute daventry home http instagr am p Li 5...   \n",
       "4     What amazing service Apple won't even talk to me about a question I have unless I pay them 19 95...   \n",
       "...                                                                                                   ...   \n",
       "7915    Live out loud lol liveoutloud selfie smile sony music headphones https instagram com p 5spiNsJ c9   \n",
       "7916  We would like to wish you an amazing day Make every minute count tls today iphone accessories ne...   \n",
       "7917  Helping my lovely 90 year old neighbor with her iPad this morning has just made me realise that ...   \n",
       "7918  Finally got my smart pocket wifi stay connected anytime anywhere ipad and samsung s3 gadget http...   \n",
       "7919  Apple Barcelona Apple Store BCN Barcelona travel iphone selfie fly fun cabincrew http instagram ...   \n",
       "\n",
       "      wordcount  charcount  mentions  hashtags  \\\n",
       "0            16        115         0        11   \n",
       "1            19        116         0         5   \n",
       "2            18        108         0         8   \n",
       "3            22        102         0         4   \n",
       "4            24        121         0         0   \n",
       "...         ...        ...       ...       ...   \n",
       "7915         16         97         0         7   \n",
       "7916         24        125         0         6   \n",
       "7917         25        128         0         0   \n",
       "7918         22        120         0         8   \n",
       "7919         17        112         0        10   \n",
       "\n",
       "                                                                                                   lemmas  \\\n",
       "0     fingerprint pregnancy test https goo gl h1mfqv android apps beautiful cute health igers iphoneon...   \n",
       "1     finally transparant silicon case thanks uncle yay sony xperia s sonyexperias http instagram com ...   \n",
       "2                    love talk makememories unplug relax iphone smartphone wifi connect http fb 6n3lsupcu   \n",
       "3                               wired know george way iphone cute daventry home http instagr p li 5 ujs4k   \n",
       "4                                         amazing service apple wo talk question pay 19 95 stupid support   \n",
       "...                                                                                                   ...   \n",
       "7915        live loud lol liveoutloud selfie smile sony music headphones https instagram com p 5spinsj c9   \n",
       "7916         like wish amazing day minute count tls today iphone accessories news life february 23 2017 0   \n",
       "7917                       helping lovely 90 year old neighbor ipad morning realise ' ' actually need pad   \n",
       "7918  finally got smart pocket wifi stay connected anytime ipad samsung s3 gadget http instagr p u 53 ...   \n",
       "7919  apple barcelona apple store bcn barcelona travel iphone selfie fly fun cabincrew http instagram ...   \n",
       "\n",
       "      nouncount  verbcount  adjcount  \n",
       "0            10          1         3  \n",
       "1            14          0         1  \n",
       "2             7          4         0  \n",
       "3            10          3         0  \n",
       "4             4          2         2  \n",
       "...         ...        ...       ...  \n",
       "7915         11          3         1  \n",
       "7916          9          4         1  \n",
       "7917          6          5         2  \n",
       "7918         12          3         1  \n",
       "7919         15          2         0  \n",
       "\n",
       "[7920 rows x 12 columns]"
      ]
     },
     "execution_count": 39,
     "metadata": {},
     "output_type": "execute_result"
    }
   ],
   "source": [
    "train"
   ]
  },
  {
   "cell_type": "markdown",
   "id": "b4d9387a-e2c1-48f1-81f1-465478d221f6",
   "metadata": {},
   "source": [
    "# train set Predictions"
   ]
  },
  {
   "cell_type": "code",
   "execution_count": 27,
   "id": "0906a96e-ba5c-460f-84e7-74b6739ee635",
   "metadata": {},
   "outputs": [],
   "source": [
    "from sklearn.model_selection import train_test_split, cross_val_score\n",
    "from sklearn.feature_extraction.text import CountVectorizer, TfidfVectorizer\n",
    "from sklearn.naive_bayes import MultinomialNB, BernoulliNB, ComplementNB\n",
    "from sklearn.linear_model import LogisticRegression\n",
    "from sklearn.ensemble import HistGradientBoostingClassifier\n",
    "from sklearn.metrics import f1_score, classification_report, precision_recall_curve, roc_curve, det_curve\n",
    "from sklearn.metrics import ConfusionMatrixDisplay, PrecisionRecallDisplay, RocCurveDisplay, DetCurveDisplay"
   ]
  },
  {
   "cell_type": "code",
   "execution_count": 28,
   "id": "33cfd39f-8e43-469f-91f8-e11faa0cf3e2",
   "metadata": {},
   "outputs": [],
   "source": [
    "from lightgbm import LGBMClassifier"
   ]
  },
  {
   "cell_type": "code",
   "execution_count": 29,
   "id": "61bcea48-8ac4-4198-8e66-d26fabc3ed5a",
   "metadata": {},
   "outputs": [],
   "source": [
    "from scipy.sparse import hstack, csr_matrix"
   ]
  },
  {
   "cell_type": "code",
   "execution_count": 31,
   "id": "bc24be24-1bfe-4b18-8cbd-9fdec6dd9228",
   "metadata": {},
   "outputs": [],
   "source": [
    "count = CountVectorizer(stop_words='english', min_df=2)"
   ]
  },
  {
   "cell_type": "code",
   "execution_count": 32,
   "id": "5a4428e8-a1f1-424f-b0b6-0d4e852ce2b8",
   "metadata": {},
   "outputs": [],
   "source": [
    "count_vectors = count.fit_transform(train['clean tweet'])"
   ]
  },
  {
   "cell_type": "code",
   "execution_count": 33,
   "id": "4959f401-2697-4fba-bcd8-2a1679a93943",
   "metadata": {},
   "outputs": [
    {
     "data": {
      "text/plain": [
       "<7920x6288 sparse matrix of type '<class 'numpy.int64'>'\n",
       "\twith 90498 stored elements in Compressed Sparse Row format>"
      ]
     },
     "execution_count": 33,
     "metadata": {},
     "output_type": "execute_result"
    }
   ],
   "source": [
    "count_vectors"
   ]
  },
  {
   "cell_type": "code",
   "execution_count": 34,
   "id": "7e462b01-5867-4605-b24a-60646ed16a93",
   "metadata": {},
   "outputs": [],
   "source": [
    "tfidf = TfidfVectorizer(max_features=7000, ngram_range=(1, 3))"
   ]
  },
  {
   "cell_type": "code",
   "execution_count": 35,
   "id": "05a83eaa-3f50-4e1c-bb35-3b37571f70db",
   "metadata": {},
   "outputs": [
    {
     "data": {
      "text/html": [
       "<style>#sk-container-id-1 {color: black;background-color: white;}#sk-container-id-1 pre{padding: 0;}#sk-container-id-1 div.sk-toggleable {background-color: white;}#sk-container-id-1 label.sk-toggleable__label {cursor: pointer;display: block;width: 100%;margin-bottom: 0;padding: 0.3em;box-sizing: border-box;text-align: center;}#sk-container-id-1 label.sk-toggleable__label-arrow:before {content: \"▸\";float: left;margin-right: 0.25em;color: #696969;}#sk-container-id-1 label.sk-toggleable__label-arrow:hover:before {color: black;}#sk-container-id-1 div.sk-estimator:hover label.sk-toggleable__label-arrow:before {color: black;}#sk-container-id-1 div.sk-toggleable__content {max-height: 0;max-width: 0;overflow: hidden;text-align: left;background-color: #f0f8ff;}#sk-container-id-1 div.sk-toggleable__content pre {margin: 0.2em;color: black;border-radius: 0.25em;background-color: #f0f8ff;}#sk-container-id-1 input.sk-toggleable__control:checked~div.sk-toggleable__content {max-height: 200px;max-width: 100%;overflow: auto;}#sk-container-id-1 input.sk-toggleable__control:checked~label.sk-toggleable__label-arrow:before {content: \"▾\";}#sk-container-id-1 div.sk-estimator input.sk-toggleable__control:checked~label.sk-toggleable__label {background-color: #d4ebff;}#sk-container-id-1 div.sk-label input.sk-toggleable__control:checked~label.sk-toggleable__label {background-color: #d4ebff;}#sk-container-id-1 input.sk-hidden--visually {border: 0;clip: rect(1px 1px 1px 1px);clip: rect(1px, 1px, 1px, 1px);height: 1px;margin: -1px;overflow: hidden;padding: 0;position: absolute;width: 1px;}#sk-container-id-1 div.sk-estimator {font-family: monospace;background-color: #f0f8ff;border: 1px dotted black;border-radius: 0.25em;box-sizing: border-box;margin-bottom: 0.5em;}#sk-container-id-1 div.sk-estimator:hover {background-color: #d4ebff;}#sk-container-id-1 div.sk-parallel-item::after {content: \"\";width: 100%;border-bottom: 1px solid gray;flex-grow: 1;}#sk-container-id-1 div.sk-label:hover label.sk-toggleable__label {background-color: #d4ebff;}#sk-container-id-1 div.sk-serial::before {content: \"\";position: absolute;border-left: 1px solid gray;box-sizing: border-box;top: 0;bottom: 0;left: 50%;z-index: 0;}#sk-container-id-1 div.sk-serial {display: flex;flex-direction: column;align-items: center;background-color: white;padding-right: 0.2em;padding-left: 0.2em;position: relative;}#sk-container-id-1 div.sk-item {position: relative;z-index: 1;}#sk-container-id-1 div.sk-parallel {display: flex;align-items: stretch;justify-content: center;background-color: white;position: relative;}#sk-container-id-1 div.sk-item::before, #sk-container-id-1 div.sk-parallel-item::before {content: \"\";position: absolute;border-left: 1px solid gray;box-sizing: border-box;top: 0;bottom: 0;left: 50%;z-index: -1;}#sk-container-id-1 div.sk-parallel-item {display: flex;flex-direction: column;z-index: 1;position: relative;background-color: white;}#sk-container-id-1 div.sk-parallel-item:first-child::after {align-self: flex-end;width: 50%;}#sk-container-id-1 div.sk-parallel-item:last-child::after {align-self: flex-start;width: 50%;}#sk-container-id-1 div.sk-parallel-item:only-child::after {width: 0;}#sk-container-id-1 div.sk-dashed-wrapped {border: 1px dashed gray;margin: 0 0.4em 0.5em 0.4em;box-sizing: border-box;padding-bottom: 0.4em;background-color: white;}#sk-container-id-1 div.sk-label label {font-family: monospace;font-weight: bold;display: inline-block;line-height: 1.2em;}#sk-container-id-1 div.sk-label-container {text-align: center;}#sk-container-id-1 div.sk-container {/* jupyter's `normalize.less` sets `[hidden] { display: none; }` but bootstrap.min.css set `[hidden] { display: none !important; }` so we also need the `!important` here to be able to override the default hidden behavior on the sphinx rendered scikit-learn.org. See: https://github.com/scikit-learn/scikit-learn/issues/21755 */display: inline-block !important;position: relative;}#sk-container-id-1 div.sk-text-repr-fallback {display: none;}</style><div id=\"sk-container-id-1\" class=\"sk-top-container\"><div class=\"sk-text-repr-fallback\"><pre>TfidfVectorizer(max_features=7000, ngram_range=(1, 3))</pre><b>In a Jupyter environment, please rerun this cell to show the HTML representation or trust the notebook. <br />On GitHub, the HTML representation is unable to render, please try loading this page with nbviewer.org.</b></div><div class=\"sk-container\" hidden><div class=\"sk-item\"><div class=\"sk-estimator sk-toggleable\"><input class=\"sk-toggleable__control sk-hidden--visually\" id=\"sk-estimator-id-1\" type=\"checkbox\" checked><label for=\"sk-estimator-id-1\" class=\"sk-toggleable__label sk-toggleable__label-arrow\">TfidfVectorizer</label><div class=\"sk-toggleable__content\"><pre>TfidfVectorizer(max_features=7000, ngram_range=(1, 3))</pre></div></div></div></div></div>"
      ],
      "text/plain": [
       "TfidfVectorizer(max_features=7000, ngram_range=(1, 3))"
      ]
     },
     "execution_count": 35,
     "metadata": {},
     "output_type": "execute_result"
    }
   ],
   "source": [
    "tfidf.fit(train['clean tweet'])"
   ]
  },
  {
   "cell_type": "code",
   "execution_count": 36,
   "id": "cf7cc1bb-6271-4239-ad0b-2fc2fb03b129",
   "metadata": {},
   "outputs": [],
   "source": [
    "tfidf_vectors = tfidf.transform(train['clean tweet'])"
   ]
  },
  {
   "cell_type": "code",
   "execution_count": 37,
   "id": "d76cfe18-d94e-4a4f-a834-cc0bcfb71779",
   "metadata": {},
   "outputs": [
    {
     "data": {
      "text/plain": [
       "<7920x7000 sparse matrix of type '<class 'numpy.float64'>'\n",
       "\twith 181868 stored elements in Compressed Sparse Row format>"
      ]
     },
     "execution_count": 37,
     "metadata": {},
     "output_type": "execute_result"
    }
   ],
   "source": [
    "tfidf_vectors"
   ]
  },
  {
   "cell_type": "code",
   "execution_count": 38,
   "id": "6c73c022-84a9-4b0f-a291-4ca3a8ddb79a",
   "metadata": {},
   "outputs": [
    {
     "data": {
      "text/plain": [
       "Index(['id', 'label', 'tweet', 'clean tweet', 'wordcount', 'charcount',\n",
       "       'mentions', 'hashtags'],\n",
       "      dtype='object')"
      ]
     },
     "execution_count": 38,
     "metadata": {},
     "output_type": "execute_result"
    }
   ],
   "source": [
    "train.columns"
   ]
  },
  {
   "cell_type": "code",
   "execution_count": 39,
   "id": "a00844d2-24eb-4050-93d0-5114390e024f",
   "metadata": {},
   "outputs": [],
   "source": [
    "features = ['wordcount', 'charcount', 'mentions', 'hashtags', 'verbcount', 'nouncount', 'adjcount']"
   ]
  },
  {
   "cell_type": "code",
   "execution_count": 40,
   "id": "30568d99-9754-4073-b64a-a8b3425b3690",
   "metadata": {},
   "outputs": [
    {
     "ename": "KeyError",
     "evalue": "\"['verbcount', 'nouncount', 'adjcount'] not in index\"",
     "output_type": "error",
     "traceback": [
      "\u001b[1;31m---------------------------------------------------------------------------\u001b[0m",
      "\u001b[1;31mKeyError\u001b[0m                                  Traceback (most recent call last)",
      "\u001b[1;32m~\\AppData\\Local\\Temp\\ipykernel_8888\\3352722442.py\u001b[0m in \u001b[0;36m<cell line: 1>\u001b[1;34m()\u001b[0m\n\u001b[1;32m----> 1\u001b[1;33m \u001b[0mX\u001b[0m \u001b[1;33m=\u001b[0m \u001b[0mhstack\u001b[0m\u001b[1;33m(\u001b[0m\u001b[1;33m[\u001b[0m\u001b[0mcount_vectors\u001b[0m\u001b[1;33m,\u001b[0m \u001b[0mcsr_matrix\u001b[0m\u001b[1;33m(\u001b[0m\u001b[0mtrain\u001b[0m\u001b[1;33m[\u001b[0m\u001b[0mfeatures\u001b[0m\u001b[1;33m]\u001b[0m\u001b[1;33m)\u001b[0m\u001b[1;33m]\u001b[0m\u001b[1;33m)\u001b[0m\u001b[1;33m\u001b[0m\u001b[1;33m\u001b[0m\u001b[0m\n\u001b[0m",
      "\u001b[1;32m~\\anaconda3\\lib\\site-packages\\pandas\\core\\frame.py\u001b[0m in \u001b[0;36m__getitem__\u001b[1;34m(self, key)\u001b[0m\n\u001b[0;32m   3811\u001b[0m             \u001b[1;32mif\u001b[0m \u001b[0mis_iterator\u001b[0m\u001b[1;33m(\u001b[0m\u001b[0mkey\u001b[0m\u001b[1;33m)\u001b[0m\u001b[1;33m:\u001b[0m\u001b[1;33m\u001b[0m\u001b[1;33m\u001b[0m\u001b[0m\n\u001b[0;32m   3812\u001b[0m                 \u001b[0mkey\u001b[0m \u001b[1;33m=\u001b[0m \u001b[0mlist\u001b[0m\u001b[1;33m(\u001b[0m\u001b[0mkey\u001b[0m\u001b[1;33m)\u001b[0m\u001b[1;33m\u001b[0m\u001b[1;33m\u001b[0m\u001b[0m\n\u001b[1;32m-> 3813\u001b[1;33m             \u001b[0mindexer\u001b[0m \u001b[1;33m=\u001b[0m \u001b[0mself\u001b[0m\u001b[1;33m.\u001b[0m\u001b[0mcolumns\u001b[0m\u001b[1;33m.\u001b[0m\u001b[0m_get_indexer_strict\u001b[0m\u001b[1;33m(\u001b[0m\u001b[0mkey\u001b[0m\u001b[1;33m,\u001b[0m \u001b[1;34m\"columns\"\u001b[0m\u001b[1;33m)\u001b[0m\u001b[1;33m[\u001b[0m\u001b[1;36m1\u001b[0m\u001b[1;33m]\u001b[0m\u001b[1;33m\u001b[0m\u001b[1;33m\u001b[0m\u001b[0m\n\u001b[0m\u001b[0;32m   3814\u001b[0m \u001b[1;33m\u001b[0m\u001b[0m\n\u001b[0;32m   3815\u001b[0m         \u001b[1;31m# take() does not accept boolean indexers\u001b[0m\u001b[1;33m\u001b[0m\u001b[1;33m\u001b[0m\u001b[0m\n",
      "\u001b[1;32m~\\anaconda3\\lib\\site-packages\\pandas\\core\\indexes\\base.py\u001b[0m in \u001b[0;36m_get_indexer_strict\u001b[1;34m(self, key, axis_name)\u001b[0m\n\u001b[0;32m   6068\u001b[0m             \u001b[0mkeyarr\u001b[0m\u001b[1;33m,\u001b[0m \u001b[0mindexer\u001b[0m\u001b[1;33m,\u001b[0m \u001b[0mnew_indexer\u001b[0m \u001b[1;33m=\u001b[0m \u001b[0mself\u001b[0m\u001b[1;33m.\u001b[0m\u001b[0m_reindex_non_unique\u001b[0m\u001b[1;33m(\u001b[0m\u001b[0mkeyarr\u001b[0m\u001b[1;33m)\u001b[0m\u001b[1;33m\u001b[0m\u001b[1;33m\u001b[0m\u001b[0m\n\u001b[0;32m   6069\u001b[0m \u001b[1;33m\u001b[0m\u001b[0m\n\u001b[1;32m-> 6070\u001b[1;33m         \u001b[0mself\u001b[0m\u001b[1;33m.\u001b[0m\u001b[0m_raise_if_missing\u001b[0m\u001b[1;33m(\u001b[0m\u001b[0mkeyarr\u001b[0m\u001b[1;33m,\u001b[0m \u001b[0mindexer\u001b[0m\u001b[1;33m,\u001b[0m \u001b[0maxis_name\u001b[0m\u001b[1;33m)\u001b[0m\u001b[1;33m\u001b[0m\u001b[1;33m\u001b[0m\u001b[0m\n\u001b[0m\u001b[0;32m   6071\u001b[0m \u001b[1;33m\u001b[0m\u001b[0m\n\u001b[0;32m   6072\u001b[0m         \u001b[0mkeyarr\u001b[0m \u001b[1;33m=\u001b[0m \u001b[0mself\u001b[0m\u001b[1;33m.\u001b[0m\u001b[0mtake\u001b[0m\u001b[1;33m(\u001b[0m\u001b[0mindexer\u001b[0m\u001b[1;33m)\u001b[0m\u001b[1;33m\u001b[0m\u001b[1;33m\u001b[0m\u001b[0m\n",
      "\u001b[1;32m~\\anaconda3\\lib\\site-packages\\pandas\\core\\indexes\\base.py\u001b[0m in \u001b[0;36m_raise_if_missing\u001b[1;34m(self, key, indexer, axis_name)\u001b[0m\n\u001b[0;32m   6131\u001b[0m \u001b[1;33m\u001b[0m\u001b[0m\n\u001b[0;32m   6132\u001b[0m             \u001b[0mnot_found\u001b[0m \u001b[1;33m=\u001b[0m \u001b[0mlist\u001b[0m\u001b[1;33m(\u001b[0m\u001b[0mensure_index\u001b[0m\u001b[1;33m(\u001b[0m\u001b[0mkey\u001b[0m\u001b[1;33m)\u001b[0m\u001b[1;33m[\u001b[0m\u001b[0mmissing_mask\u001b[0m\u001b[1;33m.\u001b[0m\u001b[0mnonzero\u001b[0m\u001b[1;33m(\u001b[0m\u001b[1;33m)\u001b[0m\u001b[1;33m[\u001b[0m\u001b[1;36m0\u001b[0m\u001b[1;33m]\u001b[0m\u001b[1;33m]\u001b[0m\u001b[1;33m.\u001b[0m\u001b[0munique\u001b[0m\u001b[1;33m(\u001b[0m\u001b[1;33m)\u001b[0m\u001b[1;33m)\u001b[0m\u001b[1;33m\u001b[0m\u001b[1;33m\u001b[0m\u001b[0m\n\u001b[1;32m-> 6133\u001b[1;33m             \u001b[1;32mraise\u001b[0m \u001b[0mKeyError\u001b[0m\u001b[1;33m(\u001b[0m\u001b[1;34mf\"{not_found} not in index\"\u001b[0m\u001b[1;33m)\u001b[0m\u001b[1;33m\u001b[0m\u001b[1;33m\u001b[0m\u001b[0m\n\u001b[0m\u001b[0;32m   6134\u001b[0m \u001b[1;33m\u001b[0m\u001b[0m\n\u001b[0;32m   6135\u001b[0m     \u001b[1;33m@\u001b[0m\u001b[0moverload\u001b[0m\u001b[1;33m\u001b[0m\u001b[1;33m\u001b[0m\u001b[0m\n",
      "\u001b[1;31mKeyError\u001b[0m: \"['verbcount', 'nouncount', 'adjcount'] not in index\""
     ]
    }
   ],
   "source": [
    "X = hstack([count_vectors, csr_matrix(train[features])])"
   ]
  },
  {
   "cell_type": "code",
   "execution_count": 53,
   "id": "8de7c0b8-3583-4e67-9a45-f5f0fb47202b",
   "metadata": {},
   "outputs": [],
   "source": [
    "X = hstack([count_vectors, tfidf_vectors, csr_matrix(train[features])])"
   ]
  },
  {
   "cell_type": "code",
   "execution_count": 54,
   "id": "91767074-2adc-4e14-a94b-1d899d5060d1",
   "metadata": {},
   "outputs": [],
   "source": [
    "target = train['label']"
   ]
  },
  {
   "cell_type": "code",
   "execution_count": null,
   "id": "164a51f9-478b-48a0-9897-ee3fd1e884c7",
   "metadata": {},
   "outputs": [],
   "source": []
  },
  {
   "cell_type": "code",
   "execution_count": 55,
   "id": "64fc67ad-a22d-488f-89a0-447567f87733",
   "metadata": {
    "colab": {},
    "colab_type": "code",
    "executionInfo": {
     "elapsed": 1846,
     "status": "ok",
     "timestamp": 1598870758012,
     "user": {
      "displayName": "Faizan Shaikh",
      "photoUrl": "",
      "userId": "11428351120800485612"
     },
     "user_tz": -330
    },
    "id": "xrjhgosACJqg",
    "tags": []
   },
   "outputs": [],
   "source": [
    "X_train, X_test, y_train, y_test = train_test_split(X, target, test_size=0.3, stratify=target)"
   ]
  },
  {
   "cell_type": "code",
   "execution_count": 278,
   "id": "70fda7d5-5b6f-4e97-bd1f-4d85301b0aea",
   "metadata": {},
   "outputs": [],
   "source": [
    "model = LGBMClassifier(n_estimators=1000, learning_rate=0.01, num_leaves=30)"
   ]
  },
  {
   "cell_type": "code",
   "execution_count": 241,
   "id": "b9e1f6b4-3793-44ff-9cc6-187f06d26c9b",
   "metadata": {},
   "outputs": [],
   "source": [
    "model = ComplementNB(alpha=1)"
   ]
  },
  {
   "cell_type": "code",
   "execution_count": 279,
   "id": "8a9e8986-b93d-497f-b4b4-f0e9f9497cbb",
   "metadata": {},
   "outputs": [
    {
     "data": {
      "text/html": [
       "<style>#sk-container-id-25 {color: black;background-color: white;}#sk-container-id-25 pre{padding: 0;}#sk-container-id-25 div.sk-toggleable {background-color: white;}#sk-container-id-25 label.sk-toggleable__label {cursor: pointer;display: block;width: 100%;margin-bottom: 0;padding: 0.3em;box-sizing: border-box;text-align: center;}#sk-container-id-25 label.sk-toggleable__label-arrow:before {content: \"▸\";float: left;margin-right: 0.25em;color: #696969;}#sk-container-id-25 label.sk-toggleable__label-arrow:hover:before {color: black;}#sk-container-id-25 div.sk-estimator:hover label.sk-toggleable__label-arrow:before {color: black;}#sk-container-id-25 div.sk-toggleable__content {max-height: 0;max-width: 0;overflow: hidden;text-align: left;background-color: #f0f8ff;}#sk-container-id-25 div.sk-toggleable__content pre {margin: 0.2em;color: black;border-radius: 0.25em;background-color: #f0f8ff;}#sk-container-id-25 input.sk-toggleable__control:checked~div.sk-toggleable__content {max-height: 200px;max-width: 100%;overflow: auto;}#sk-container-id-25 input.sk-toggleable__control:checked~label.sk-toggleable__label-arrow:before {content: \"▾\";}#sk-container-id-25 div.sk-estimator input.sk-toggleable__control:checked~label.sk-toggleable__label {background-color: #d4ebff;}#sk-container-id-25 div.sk-label input.sk-toggleable__control:checked~label.sk-toggleable__label {background-color: #d4ebff;}#sk-container-id-25 input.sk-hidden--visually {border: 0;clip: rect(1px 1px 1px 1px);clip: rect(1px, 1px, 1px, 1px);height: 1px;margin: -1px;overflow: hidden;padding: 0;position: absolute;width: 1px;}#sk-container-id-25 div.sk-estimator {font-family: monospace;background-color: #f0f8ff;border: 1px dotted black;border-radius: 0.25em;box-sizing: border-box;margin-bottom: 0.5em;}#sk-container-id-25 div.sk-estimator:hover {background-color: #d4ebff;}#sk-container-id-25 div.sk-parallel-item::after {content: \"\";width: 100%;border-bottom: 1px solid gray;flex-grow: 1;}#sk-container-id-25 div.sk-label:hover label.sk-toggleable__label {background-color: #d4ebff;}#sk-container-id-25 div.sk-serial::before {content: \"\";position: absolute;border-left: 1px solid gray;box-sizing: border-box;top: 0;bottom: 0;left: 50%;z-index: 0;}#sk-container-id-25 div.sk-serial {display: flex;flex-direction: column;align-items: center;background-color: white;padding-right: 0.2em;padding-left: 0.2em;position: relative;}#sk-container-id-25 div.sk-item {position: relative;z-index: 1;}#sk-container-id-25 div.sk-parallel {display: flex;align-items: stretch;justify-content: center;background-color: white;position: relative;}#sk-container-id-25 div.sk-item::before, #sk-container-id-25 div.sk-parallel-item::before {content: \"\";position: absolute;border-left: 1px solid gray;box-sizing: border-box;top: 0;bottom: 0;left: 50%;z-index: -1;}#sk-container-id-25 div.sk-parallel-item {display: flex;flex-direction: column;z-index: 1;position: relative;background-color: white;}#sk-container-id-25 div.sk-parallel-item:first-child::after {align-self: flex-end;width: 50%;}#sk-container-id-25 div.sk-parallel-item:last-child::after {align-self: flex-start;width: 50%;}#sk-container-id-25 div.sk-parallel-item:only-child::after {width: 0;}#sk-container-id-25 div.sk-dashed-wrapped {border: 1px dashed gray;margin: 0 0.4em 0.5em 0.4em;box-sizing: border-box;padding-bottom: 0.4em;background-color: white;}#sk-container-id-25 div.sk-label label {font-family: monospace;font-weight: bold;display: inline-block;line-height: 1.2em;}#sk-container-id-25 div.sk-label-container {text-align: center;}#sk-container-id-25 div.sk-container {/* jupyter's `normalize.less` sets `[hidden] { display: none; }` but bootstrap.min.css set `[hidden] { display: none !important; }` so we also need the `!important` here to be able to override the default hidden behavior on the sphinx rendered scikit-learn.org. See: https://github.com/scikit-learn/scikit-learn/issues/21755 */display: inline-block !important;position: relative;}#sk-container-id-25 div.sk-text-repr-fallback {display: none;}</style><div id=\"sk-container-id-25\" class=\"sk-top-container\"><div class=\"sk-text-repr-fallback\"><pre>LGBMClassifier(learning_rate=0.01, n_estimators=1000, num_leaves=30)</pre><b>In a Jupyter environment, please rerun this cell to show the HTML representation or trust the notebook. <br />On GitHub, the HTML representation is unable to render, please try loading this page with nbviewer.org.</b></div><div class=\"sk-container\" hidden><div class=\"sk-item\"><div class=\"sk-estimator sk-toggleable\"><input class=\"sk-toggleable__control sk-hidden--visually\" id=\"sk-estimator-id-25\" type=\"checkbox\" checked><label for=\"sk-estimator-id-25\" class=\"sk-toggleable__label sk-toggleable__label-arrow\">LGBMClassifier</label><div class=\"sk-toggleable__content\"><pre>LGBMClassifier(learning_rate=0.01, n_estimators=1000, num_leaves=30)</pre></div></div></div></div></div>"
      ],
      "text/plain": [
       "LGBMClassifier(learning_rate=0.01, n_estimators=1000, num_leaves=30)"
      ]
     },
     "execution_count": 279,
     "metadata": {},
     "output_type": "execute_result"
    }
   ],
   "source": [
    "model.fit(X_train, y_train)"
   ]
  },
  {
   "cell_type": "code",
   "execution_count": 280,
   "id": "168152da-7150-424e-9f77-8cb9be1f9205",
   "metadata": {},
   "outputs": [
    {
     "data": {
      "text/plain": [
       "0.95625"
      ]
     },
     "execution_count": 280,
     "metadata": {},
     "output_type": "execute_result"
    }
   ],
   "source": [
    "f1_score(y_train, model.predict(X_train))"
   ]
  },
  {
   "cell_type": "code",
   "execution_count": 281,
   "id": "10167105-958b-42f4-b0ae-c9d4651cfb4e",
   "metadata": {},
   "outputs": [],
   "source": [
    "pred = model.predict(X_test)"
   ]
  },
  {
   "cell_type": "code",
   "execution_count": 282,
   "id": "4c8794fc-c5a4-456e-9ef0-40be7cfcd5fb",
   "metadata": {},
   "outputs": [
    {
     "data": {
      "text/plain": [
       "0.7910328262610088"
      ]
     },
     "execution_count": 282,
     "metadata": {},
     "output_type": "execute_result"
    }
   ],
   "source": [
    "f1_score(y_test, pred)"
   ]
  },
  {
   "cell_type": "code",
   "execution_count": 283,
   "id": "de78260d-32c9-4006-9ce1-d121ac0b75c3",
   "metadata": {},
   "outputs": [
    {
     "name": "stdout",
     "output_type": "stream",
     "text": [
      "              precision    recall  f1-score   support\n",
      "\n",
      "           0       0.93      0.92      0.93      1768\n",
      "           1       0.77      0.81      0.79       608\n",
      "\n",
      "    accuracy                           0.89      2376\n",
      "   macro avg       0.85      0.86      0.86      2376\n",
      "weighted avg       0.89      0.89      0.89      2376\n",
      "\n"
     ]
    }
   ],
   "source": [
    "print(classification_report(y_test, pred))"
   ]
  },
  {
   "cell_type": "code",
   "execution_count": 284,
   "id": "2ad810f0-444b-48a6-8370-27b870604038",
   "metadata": {},
   "outputs": [],
   "source": [
    "pred_prob = pd.DataFrame(model.predict_proba(X_test), index=y_test.index)"
   ]
  },
  {
   "cell_type": "code",
   "execution_count": 285,
   "id": "7d62d140-b1af-4e47-b5a4-55b6fe82fc3b",
   "metadata": {},
   "outputs": [
    {
     "data": {
      "text/plain": [
       "<sklearn.metrics._plot.confusion_matrix.ConfusionMatrixDisplay at 0x1d932a85670>"
      ]
     },
     "execution_count": 285,
     "metadata": {},
     "output_type": "execute_result"
    },
    {
     "data": {
      "image/png": "[encoded data removed]",
      "text/plain": [
       "<Figure size 640x480 with 2 Axes>"
      ]
     },
     "metadata": {},
     "output_type": "display_data"
    }
   ],
   "source": [
    "ConfusionMatrixDisplay.from_predictions(y_test, pred)"
   ]
  },
  {
   "cell_type": "code",
   "execution_count": 286,
   "id": "2c2d0bd1-af1f-495a-ae12-4d6bbbfbd6c5",
   "metadata": {},
   "outputs": [
    {
     "data": {
      "text/plain": [
       "<matplotlib.legend.Legend at 0x1d9302f00a0>"
      ]
     },
     "execution_count": 286,
     "metadata": {},
     "output_type": "execute_result"
    },
    {
     "data": {
      "image/png": "[encoded data removed]",
      "text/plain": [
       "<Figure size 2000x500 with 3 Axes>"
      ]
     },
     "metadata": {},
     "output_type": "display_data"
    }
   ],
   "source": [
    "fig, (ax1, ax2) = plt.subplots(1, 2, figsize=(20,5), gridspec_kw={'width_ratios': [1, 2]})\n",
    "sns.heatmap(pred_prob.sort_values(by=0), ax=ax1)\n",
    "ax2.plot(pred_prob.sort_values(by=0).values)\n",
    "ax2.set_xlabel('loan number')\n",
    "ax2.set_ylabel('probability')\n",
    "ax2.legend(['N', 'Y'])"
   ]
  },
  {
   "cell_type": "code",
   "execution_count": 287,
   "id": "6e2d2ae1-12fa-4861-8105-729d656686f7",
   "metadata": {},
   "outputs": [],
   "source": [
    "def classification_metrics(y_test, pred_pos):\n",
    "    \n",
    "    fig, axes = plt.subplots(2,3, figsize=(15,8))\n",
    "    \n",
    "    # precision-recall curve with maximum f1 score marked and confusion matrix at that point\n",
    "    precision, recall, thresholds = precision_recall_curve(y_test, pred_pos)\n",
    "    f1 = (2 * precision * recall) / (precision + recall)\n",
    "    index_max_f1 = np.nanargmax(f1)\n",
    "    f1_thresh = thresholds[index_max_f1]\n",
    "    \n",
    "    PrecisionRecallDisplay.from_predictions(y_test, pred_pos, ax=axes[0, 0])\n",
    "    axes[0, 0].scatter(recall[index_max_f1], precision[index_max_f1], \n",
    "                       color='green', label=f'max f1 {f1[index_max_f1]:.2f} at {f1_thresh:.2f}')\n",
    "    axes[0, 0].legend()\n",
    "\n",
    "    ConfusionMatrixDisplay.from_predictions(y_test, (pred_pos > f1_thresh) * 1, ax=axes[1, 0])\n",
    "    \n",
    "    \n",
    "    # ROC curve with maximum Youden's J marked and confusion matrix at that point\n",
    "    fpr, tpr, thresholds = roc_curve(y_test, pred_pos)\n",
    "    Youdens_J = tpr - fpr\n",
    "    index_max_J = np.nanargmax(Youdens_J)\n",
    "    J_thresh = thresholds[index_max_J]\n",
    "    \n",
    "    RocCurveDisplay.from_predictions(y_test, pred_pos, ax=axes[0, 1])\n",
    "    axes[0, 1].scatter(fpr[index_max_J], tpr[index_max_J], \n",
    "                       color='green', label=f'max J {Youdens_J[index_max_J]:.2f} at {J_thresh:.2f}')\n",
    "    axes[0, 1].plot([0, 1], [0, 1],'r--')\n",
    "    axes[0, 1].legend()\n",
    "    \n",
    "    ConfusionMatrixDisplay.from_predictions(y_test, (pred_pos > J_thresh) * 1, ax=axes[1, 1])\n",
    "    \n",
    "    \n",
    "    # Det curve with minimum total error marked and confusion matrix at that point\n",
    "    fpr, fnr, thresholds = det_curve(y_test, pred_pos)\n",
    "    error = fpr + fnr\n",
    "    index_min_error = np.nanargmin(error)\n",
    "    error_thresh = thresholds[index_min_error]\n",
    "    \n",
    "    DetCurveDisplay.from_predictions(y_test, pred_pos, ax=axes[0, 2])\n",
    "    axes[0, 2].scatter(sp.stats.norm.ppf(fpr[index_min_error]), sp.stats.norm.ppf(fnr[index_min_error]),\n",
    "                       color='green',label=f'min error {error[index_min_error]:.2f} at {error_thresh:.2f}')\n",
    "    axes[0,2].legend()\n",
    "    \n",
    "    ConfusionMatrixDisplay.from_predictions(y_test, (pred_pos > error_thresh) * 1, ax=axes[1, 2])\n",
    "    "
   ]
  },
  {
   "cell_type": "code",
   "execution_count": 288,
   "id": "438c7ffe-a1c9-41e0-a814-be37999d85c6",
   "metadata": {},
   "outputs": [
    {
     "data": {
      "image/png": "[encoded data removed]",
      "text/plain": [
       "<Figure size 1500x800 with 9 Axes>"
      ]
     },
     "metadata": {},
     "output_type": "display_data"
    }
   ],
   "source": [
    "classification_metrics(y_test, pred_prob[1])"
   ]
  },
  {
   "cell_type": "markdown",
   "id": "961fac21-7cb9-4a0b-bc49-54d49e5f2534",
   "metadata": {},
   "source": [
    "# test set"
   ]
  },
  {
   "cell_type": "code",
   "execution_count": 56,
   "id": "ba666c14-7d63-483d-8e5e-51b6a02e2134",
   "metadata": {},
   "outputs": [],
   "source": [
    "test = pd.read_csv('test.csv')"
   ]
  },
  {
   "cell_type": "code",
   "execution_count": 57,
   "id": "84339bba-d7ab-4ca8-a652-efa2893a57a7",
   "metadata": {},
   "outputs": [
    {
     "data": {
      "text/html": [
       "<div>\n",
       "<style scoped>\n",
       "    .dataframe tbody tr th:only-of-type {\n",
       "        vertical-align: middle;\n",
       "    }\n",
       "\n",
       "    .dataframe tbody tr th {\n",
       "        vertical-align: top;\n",
       "    }\n",
       "\n",
       "    .dataframe thead th {\n",
       "        text-align: right;\n",
       "    }\n",
       "</style>\n",
       "<table border=\"1\" class=\"dataframe\">\n",
       "  <thead>\n",
       "    <tr style=\"text-align: right;\">\n",
       "      <th></th>\n",
       "      <th>id</th>\n",
       "      <th>tweet</th>\n",
       "    </tr>\n",
       "  </thead>\n",
       "  <tbody>\n",
       "    <tr>\n",
       "      <th>0</th>\n",
       "      <td>7921</td>\n",
       "      <td>I hate the new #iphone upgrade. Won't let me download apps. #ugh #apple sucks</td>\n",
       "    </tr>\n",
       "    <tr>\n",
       "      <th>1</th>\n",
       "      <td>7922</td>\n",
       "      <td>currently shitting my fucking pants. #apple #iMac #cashmoney #raddest #swagswagswag http://insta...</td>\n",
       "    </tr>\n",
       "    <tr>\n",
       "      <th>2</th>\n",
       "      <td>7923</td>\n",
       "      <td>I'd like to puts some CD-ROMS on my iPad, is that possible?' — Yes, but wouldn't that block the ...</td>\n",
       "    </tr>\n",
       "    <tr>\n",
       "      <th>3</th>\n",
       "      <td>7924</td>\n",
       "      <td>My ipod is officially dead. I lost all my pictures and videos from the 1D and 5sos concert,and f...</td>\n",
       "    </tr>\n",
       "    <tr>\n",
       "      <th>4</th>\n",
       "      <td>7925</td>\n",
       "      <td>Been fighting iTunes all night! I only want the music I $&amp;@*# paid for</td>\n",
       "    </tr>\n",
       "    <tr>\n",
       "      <th>...</th>\n",
       "      <td>...</td>\n",
       "      <td>...</td>\n",
       "    </tr>\n",
       "    <tr>\n",
       "      <th>1948</th>\n",
       "      <td>9869</td>\n",
       "      <td>#SamsungGalaxyNote7 Explodes, Burns 6-Year-Old. Thanks for rushing your products to market #Sams...</td>\n",
       "    </tr>\n",
       "    <tr>\n",
       "      <th>1949</th>\n",
       "      <td>9870</td>\n",
       "      <td>Now Available - Hoodie. Check it out here - http://zetasupplies.co.uk/products/hoodie-2?utm_camp...</td>\n",
       "    </tr>\n",
       "    <tr>\n",
       "      <th>1950</th>\n",
       "      <td>9871</td>\n",
       "      <td>There goes a crack right across the screen. If you could actually provide a more durable screen,...</td>\n",
       "    </tr>\n",
       "    <tr>\n",
       "      <th>1951</th>\n",
       "      <td>9872</td>\n",
       "      <td>@codeofinterest as i said #Adobe big time we may well as include #apple to</td>\n",
       "    </tr>\n",
       "    <tr>\n",
       "      <th>1952</th>\n",
       "      <td>9873</td>\n",
       "      <td>Finally I got it .. thanx my father .. #Samsung #galaxy #s3 #gift #father #phone #new http://ins...</td>\n",
       "    </tr>\n",
       "  </tbody>\n",
       "</table>\n",
       "<p>1953 rows × 2 columns</p>\n",
       "</div>"
      ],
      "text/plain": [
       "        id  \\\n",
       "0     7921   \n",
       "1     7922   \n",
       "2     7923   \n",
       "3     7924   \n",
       "4     7925   \n",
       "...    ...   \n",
       "1948  9869   \n",
       "1949  9870   \n",
       "1950  9871   \n",
       "1951  9872   \n",
       "1952  9873   \n",
       "\n",
       "                                                                                                    tweet  \n",
       "0                           I hate the new #iphone upgrade. Won't let me download apps. #ugh #apple sucks  \n",
       "1     currently shitting my fucking pants. #apple #iMac #cashmoney #raddest #swagswagswag http://insta...  \n",
       "2     I'd like to puts some CD-ROMS on my iPad, is that possible?' — Yes, but wouldn't that block the ...  \n",
       "3     My ipod is officially dead. I lost all my pictures and videos from the 1D and 5sos concert,and f...  \n",
       "4                                  Been fighting iTunes all night! I only want the music I $&@*# paid for  \n",
       "...                                                                                                   ...  \n",
       "1948  #SamsungGalaxyNote7 Explodes, Burns 6-Year-Old. Thanks for rushing your products to market #Sams...  \n",
       "1949  Now Available - Hoodie. Check it out here - http://zetasupplies.co.uk/products/hoodie-2?utm_camp...  \n",
       "1950  There goes a crack right across the screen. If you could actually provide a more durable screen,...  \n",
       "1951                           @codeofinterest as i said #Adobe big time we may well as include #apple to  \n",
       "1952  Finally I got it .. thanx my father .. #Samsung #galaxy #s3 #gift #father #phone #new http://ins...  \n",
       "\n",
       "[1953 rows x 2 columns]"
      ]
     },
     "execution_count": 57,
     "metadata": {},
     "output_type": "execute_result"
    }
   ],
   "source": [
    "test"
   ]
  },
  {
   "cell_type": "code",
   "execution_count": 58,
   "id": "2fe0f279-6091-432c-aaa7-4b90fc41eaa3",
   "metadata": {},
   "outputs": [],
   "source": [
    "test['clean tweet'] = test['tweet'].apply(lambda x: clean_text(x))"
   ]
  },
  {
   "cell_type": "code",
   "execution_count": 59,
   "id": "ca1c7bdb-9ef2-4720-92d8-e3463cdd5ef0",
   "metadata": {},
   "outputs": [
    {
     "data": {
      "text/html": [
       "<div>\n",
       "<style scoped>\n",
       "    .dataframe tbody tr th:only-of-type {\n",
       "        vertical-align: middle;\n",
       "    }\n",
       "\n",
       "    .dataframe tbody tr th {\n",
       "        vertical-align: top;\n",
       "    }\n",
       "\n",
       "    .dataframe thead th {\n",
       "        text-align: right;\n",
       "    }\n",
       "</style>\n",
       "<table border=\"1\" class=\"dataframe\">\n",
       "  <thead>\n",
       "    <tr style=\"text-align: right;\">\n",
       "      <th></th>\n",
       "      <th>id</th>\n",
       "      <th>tweet</th>\n",
       "      <th>clean tweet</th>\n",
       "    </tr>\n",
       "  </thead>\n",
       "  <tbody>\n",
       "    <tr>\n",
       "      <th>0</th>\n",
       "      <td>7921</td>\n",
       "      <td>I hate the new #iphone upgrade. Won't let me download apps. #ugh #apple sucks</td>\n",
       "      <td>I hate the new iphone upgrade Won't let me download apps ugh apple sucks</td>\n",
       "    </tr>\n",
       "    <tr>\n",
       "      <th>1</th>\n",
       "      <td>7922</td>\n",
       "      <td>currently shitting my fucking pants. #apple #iMac #cashmoney #raddest #swagswagswag http://insta...</td>\n",
       "      <td>currently shitting my fucking pants apple iMac cashmoney raddest swagswagswag http instagr am p ...</td>\n",
       "    </tr>\n",
       "    <tr>\n",
       "      <th>2</th>\n",
       "      <td>7923</td>\n",
       "      <td>I'd like to puts some CD-ROMS on my iPad, is that possible?' — Yes, but wouldn't that block the ...</td>\n",
       "      <td>I'd like to puts some CD ROMS on my iPad is that possible ' Yes but wouldn't that block the screen</td>\n",
       "    </tr>\n",
       "    <tr>\n",
       "      <th>3</th>\n",
       "      <td>7924</td>\n",
       "      <td>My ipod is officially dead. I lost all my pictures and videos from the 1D and 5sos concert,and f...</td>\n",
       "      <td>My ipod is officially dead I lost all my pictures and videos from the 1D and 5sos concert and fr...</td>\n",
       "    </tr>\n",
       "    <tr>\n",
       "      <th>4</th>\n",
       "      <td>7925</td>\n",
       "      <td>Been fighting iTunes all night! I only want the music I $&amp;@*# paid for</td>\n",
       "      <td>Been fighting iTunes all night I only want the music I paid for</td>\n",
       "    </tr>\n",
       "    <tr>\n",
       "      <th>...</th>\n",
       "      <td>...</td>\n",
       "      <td>...</td>\n",
       "      <td>...</td>\n",
       "    </tr>\n",
       "    <tr>\n",
       "      <th>1948</th>\n",
       "      <td>9869</td>\n",
       "      <td>#SamsungGalaxyNote7 Explodes, Burns 6-Year-Old. Thanks for rushing your products to market #Sams...</td>\n",
       "      <td>SamsungGalaxyNote7 Explodes Burns 6 Year Old Thanks for rushing your products to market Samsung ...</td>\n",
       "    </tr>\n",
       "    <tr>\n",
       "      <th>1949</th>\n",
       "      <td>9870</td>\n",
       "      <td>Now Available - Hoodie. Check it out here - http://zetasupplies.co.uk/products/hoodie-2?utm_camp...</td>\n",
       "      <td>Now Available Hoodie Check it out here http zetasupplies co uk products hoodie 2 utm campaign so...</td>\n",
       "    </tr>\n",
       "    <tr>\n",
       "      <th>1950</th>\n",
       "      <td>9871</td>\n",
       "      <td>There goes a crack right across the screen. If you could actually provide a more durable screen,...</td>\n",
       "      <td>There goes a crack right across the screen If you could actually provide a more durable screen t...</td>\n",
       "    </tr>\n",
       "    <tr>\n",
       "      <th>1951</th>\n",
       "      <td>9872</td>\n",
       "      <td>@codeofinterest as i said #Adobe big time we may well as include #apple to</td>\n",
       "      <td>codeofinterest as i said Adobe big time we may well as include apple to</td>\n",
       "    </tr>\n",
       "    <tr>\n",
       "      <th>1952</th>\n",
       "      <td>9873</td>\n",
       "      <td>Finally I got it .. thanx my father .. #Samsung #galaxy #s3 #gift #father #phone #new http://ins...</td>\n",
       "      <td>Finally I got it thanx my father Samsung galaxy s3 gift father phone new http instagr am p NoxkiPE</td>\n",
       "    </tr>\n",
       "  </tbody>\n",
       "</table>\n",
       "<p>1953 rows × 3 columns</p>\n",
       "</div>"
      ],
      "text/plain": [
       "        id  \\\n",
       "0     7921   \n",
       "1     7922   \n",
       "2     7923   \n",
       "3     7924   \n",
       "4     7925   \n",
       "...    ...   \n",
       "1948  9869   \n",
       "1949  9870   \n",
       "1950  9871   \n",
       "1951  9872   \n",
       "1952  9873   \n",
       "\n",
       "                                                                                                    tweet  \\\n",
       "0                           I hate the new #iphone upgrade. Won't let me download apps. #ugh #apple sucks   \n",
       "1     currently shitting my fucking pants. #apple #iMac #cashmoney #raddest #swagswagswag http://insta...   \n",
       "2     I'd like to puts some CD-ROMS on my iPad, is that possible?' — Yes, but wouldn't that block the ...   \n",
       "3     My ipod is officially dead. I lost all my pictures and videos from the 1D and 5sos concert,and f...   \n",
       "4                                  Been fighting iTunes all night! I only want the music I $&@*# paid for   \n",
       "...                                                                                                   ...   \n",
       "1948  #SamsungGalaxyNote7 Explodes, Burns 6-Year-Old. Thanks for rushing your products to market #Sams...   \n",
       "1949  Now Available - Hoodie. Check it out here - http://zetasupplies.co.uk/products/hoodie-2?utm_camp...   \n",
       "1950  There goes a crack right across the screen. If you could actually provide a more durable screen,...   \n",
       "1951                           @codeofinterest as i said #Adobe big time we may well as include #apple to   \n",
       "1952  Finally I got it .. thanx my father .. #Samsung #galaxy #s3 #gift #father #phone #new http://ins...   \n",
       "\n",
       "                                                                                              clean tweet  \n",
       "0                                I hate the new iphone upgrade Won't let me download apps ugh apple sucks  \n",
       "1     currently shitting my fucking pants apple iMac cashmoney raddest swagswagswag http instagr am p ...  \n",
       "2      I'd like to puts some CD ROMS on my iPad is that possible ' Yes but wouldn't that block the screen  \n",
       "3     My ipod is officially dead I lost all my pictures and videos from the 1D and 5sos concert and fr...  \n",
       "4                                         Been fighting iTunes all night I only want the music I paid for  \n",
       "...                                                                                                   ...  \n",
       "1948  SamsungGalaxyNote7 Explodes Burns 6 Year Old Thanks for rushing your products to market Samsung ...  \n",
       "1949  Now Available Hoodie Check it out here http zetasupplies co uk products hoodie 2 utm campaign so...  \n",
       "1950  There goes a crack right across the screen If you could actually provide a more durable screen t...  \n",
       "1951                              codeofinterest as i said Adobe big time we may well as include apple to  \n",
       "1952   Finally I got it thanx my father Samsung galaxy s3 gift father phone new http instagr am p NoxkiPE  \n",
       "\n",
       "[1953 rows x 3 columns]"
      ]
     },
     "execution_count": 59,
     "metadata": {},
     "output_type": "execute_result"
    }
   ],
   "source": [
    "test"
   ]
  },
  {
   "cell_type": "code",
   "execution_count": 125,
   "id": "ce31a79f-4479-4a2a-bddd-98c6a2f53e86",
   "metadata": {},
   "outputs": [],
   "source": [
    "test['wordcount'] = test['clean tweet'].apply(lambda x: len(x.split()))"
   ]
  },
  {
   "cell_type": "code",
   "execution_count": 126,
   "id": "1d91f4d6-c1f1-4e73-b11c-68871d3d6699",
   "metadata": {},
   "outputs": [],
   "source": [
    "test['charcount'] = test['clean tweet'].apply(lambda x: len(x))"
   ]
  },
  {
   "cell_type": "code",
   "execution_count": 127,
   "id": "5569fbcf-d554-4c8b-b985-e862898e9911",
   "metadata": {},
   "outputs": [],
   "source": [
    "test['mentions'] = test['tweet'].apply(lambda x: x.count('@'))"
   ]
  },
  {
   "cell_type": "code",
   "execution_count": 128,
   "id": "67abfae9-037e-4332-989b-a324babb82eb",
   "metadata": {},
   "outputs": [],
   "source": [
    "test['hashtags'] = test['tweet'].apply(lambda x: x.count('#'))"
   ]
  },
  {
   "cell_type": "code",
   "execution_count": 129,
   "id": "499cf02b-f5f9-4e5f-8e62-3b9dd04ac8f0",
   "metadata": {},
   "outputs": [
    {
     "name": "stderr",
     "output_type": "stream",
     "text": [
      "/home/santhosh/anaconda3/lib/python3.10/site-packages/spacy/pipeline/lemmatizer.py:211: UserWarning: [W108] The rule-based lemmatizer did not find POS annotation for one or more tokens. Check that your pipeline includes components that assign token.pos, typically 'tagger'+'attribute_ruler' or 'morphologizer'.\n",
      "  warnings.warn(Warnings.W108)\n",
      "/home/santhosh/anaconda3/lib/python3.10/site-packages/spacy/pipeline/lemmatizer.py:211: UserWarning: [W108] The rule-based lemmatizer did not find POS annotation for one or more tokens. Check that your pipeline includes components that assign token.pos, typically 'tagger'+'attribute_ruler' or 'morphologizer'.\n",
      "  warnings.warn(Warnings.W108)\n"
     ]
    }
   ],
   "source": [
    "test['lemmas'] = lemma(test['clean tweet'].values)"
   ]
  },
  {
   "cell_type": "code",
   "execution_count": 130,
   "id": "9c5b82a4-0f13-49c2-abd8-ec72cc22be63",
   "metadata": {},
   "outputs": [],
   "source": [
    "test['nouncount'] = noun_count(test['clean tweet'].values)"
   ]
  },
  {
   "cell_type": "code",
   "execution_count": 131,
   "id": "9ea9926b-ba5f-42f3-a562-63f3436f2ad3",
   "metadata": {},
   "outputs": [],
   "source": [
    "test['verbcount'] = verb_count(test['clean tweet'].values)"
   ]
  },
  {
   "cell_type": "code",
   "execution_count": 132,
   "id": "60d98467-53f2-4755-8f43-c7ed48cddd39",
   "metadata": {},
   "outputs": [],
   "source": [
    "test['adjcount'] = adjective_count(test['clean tweet'].values)"
   ]
  },
  {
   "cell_type": "code",
   "execution_count": 133,
   "id": "5a727fb8-96a0-420e-a1e3-b20defae46e9",
   "metadata": {},
   "outputs": [
    {
     "data": {
      "text/html": [
       "<div>\n",
       "<style scoped>\n",
       "    .dataframe tbody tr th:only-of-type {\n",
       "        vertical-align: middle;\n",
       "    }\n",
       "\n",
       "    .dataframe tbody tr th {\n",
       "        vertical-align: top;\n",
       "    }\n",
       "\n",
       "    .dataframe thead th {\n",
       "        text-align: right;\n",
       "    }\n",
       "</style>\n",
       "<table border=\"1\" class=\"dataframe\">\n",
       "  <thead>\n",
       "    <tr style=\"text-align: right;\">\n",
       "      <th></th>\n",
       "      <th>id</th>\n",
       "      <th>tweet</th>\n",
       "      <th>clean tweet</th>\n",
       "      <th>wordcount</th>\n",
       "      <th>charcount</th>\n",
       "      <th>mentions</th>\n",
       "      <th>hashtags</th>\n",
       "      <th>lemmas</th>\n",
       "      <th>nouncount</th>\n",
       "      <th>verbcount</th>\n",
       "      <th>adjcount</th>\n",
       "    </tr>\n",
       "  </thead>\n",
       "  <tbody>\n",
       "    <tr>\n",
       "      <th>0</th>\n",
       "      <td>7921</td>\n",
       "      <td>I hate the new #iphone upgrade. Won't let me download apps. #ugh #apple sucks</td>\n",
       "      <td>I hate the new iphone upgrade Won't let me download apps ugh apple sucks</td>\n",
       "      <td>14</td>\n",
       "      <td>72</td>\n",
       "      <td>0</td>\n",
       "      <td>3</td>\n",
       "      <td>hate new iphone upgrade wo let download apps ugh apple sucks</td>\n",
       "      <td>5</td>\n",
       "      <td>4</td>\n",
       "      <td>1</td>\n",
       "    </tr>\n",
       "    <tr>\n",
       "      <th>1</th>\n",
       "      <td>7922</td>\n",
       "      <td>currently shitting my fucking pants. #apple #iMac #cashmoney #raddest #swagswagswag http://insta...</td>\n",
       "      <td>currently shitting my fucking pants apple iMac cashmoney raddest swagswagswag http instagr am p ...</td>\n",
       "      <td>15</td>\n",
       "      <td>106</td>\n",
       "      <td>0</td>\n",
       "      <td>5</td>\n",
       "      <td>currently shitting fucking pants apple imac cashmoney raddest swagswagswag http instagr p uuis0b...</td>\n",
       "      <td>8</td>\n",
       "      <td>1</td>\n",
       "      <td>2</td>\n",
       "    </tr>\n",
       "    <tr>\n",
       "      <th>2</th>\n",
       "      <td>7923</td>\n",
       "      <td>I'd like to puts some CD-ROMS on my iPad, is that possible?' — Yes, but wouldn't that block the ...</td>\n",
       "      <td>I'd like to puts some CD ROMS on my iPad is that possible ' Yes but wouldn't that block the screen</td>\n",
       "      <td>21</td>\n",
       "      <td>98</td>\n",
       "      <td>0</td>\n",
       "      <td>0</td>\n",
       "      <td>like puts cd roms ipad possible ' yes block screen</td>\n",
       "      <td>4</td>\n",
       "      <td>3</td>\n",
       "      <td>1</td>\n",
       "    </tr>\n",
       "    <tr>\n",
       "      <th>3</th>\n",
       "      <td>7924</td>\n",
       "      <td>My ipod is officially dead. I lost all my pictures and videos from the 1D and 5sos concert,and f...</td>\n",
       "      <td>My ipod is officially dead I lost all my pictures and videos from the 1D and 5sos concert and fr...</td>\n",
       "      <td>24</td>\n",
       "      <td>126</td>\n",
       "      <td>0</td>\n",
       "      <td>2</td>\n",
       "      <td>ipod officially dead lost pictures videos 1d 5sos concert vet camp hatinglife sobbing</td>\n",
       "      <td>8</td>\n",
       "      <td>2</td>\n",
       "      <td>2</td>\n",
       "    </tr>\n",
       "    <tr>\n",
       "      <th>4</th>\n",
       "      <td>7925</td>\n",
       "      <td>Been fighting iTunes all night! I only want the music I $&amp;@*# paid for</td>\n",
       "      <td>Been fighting iTunes all night I only want the music I paid for</td>\n",
       "      <td>13</td>\n",
       "      <td>63</td>\n",
       "      <td>1</td>\n",
       "      <td>1</td>\n",
       "      <td>fighting itunes night want music paid</td>\n",
       "      <td>3</td>\n",
       "      <td>3</td>\n",
       "      <td>0</td>\n",
       "    </tr>\n",
       "    <tr>\n",
       "      <th>...</th>\n",
       "      <td>...</td>\n",
       "      <td>...</td>\n",
       "      <td>...</td>\n",
       "      <td>...</td>\n",
       "      <td>...</td>\n",
       "      <td>...</td>\n",
       "      <td>...</td>\n",
       "      <td>...</td>\n",
       "      <td>...</td>\n",
       "      <td>...</td>\n",
       "      <td>...</td>\n",
       "    </tr>\n",
       "    <tr>\n",
       "      <th>1948</th>\n",
       "      <td>9869</td>\n",
       "      <td>#SamsungGalaxyNote7 Explodes, Burns 6-Year-Old. Thanks for rushing your products to market #Sams...</td>\n",
       "      <td>SamsungGalaxyNote7 Explodes Burns 6 Year Old Thanks for rushing your products to market Samsung ...</td>\n",
       "      <td>28</td>\n",
       "      <td>177</td>\n",
       "      <td>0</td>\n",
       "      <td>2</td>\n",
       "      <td>samsunggalaxynote7 explodes burns 6 year old thanks rushing products market samsung http gizmodo...</td>\n",
       "      <td>15</td>\n",
       "      <td>4</td>\n",
       "      <td>2</td>\n",
       "    </tr>\n",
       "    <tr>\n",
       "      <th>1949</th>\n",
       "      <td>9870</td>\n",
       "      <td>Now Available - Hoodie. Check it out here - http://zetasupplies.co.uk/products/hoodie-2?utm_camp...</td>\n",
       "      <td>Now Available Hoodie Check it out here http zetasupplies co uk products hoodie 2 utm campaign so...</td>\n",
       "      <td>28</td>\n",
       "      <td>171</td>\n",
       "      <td>0</td>\n",
       "      <td>4</td>\n",
       "      <td>available hoodie check http zetasupplies co uk products hoodie 2 utm campaign social autopilot u...</td>\n",
       "      <td>19</td>\n",
       "      <td>1</td>\n",
       "      <td>3</td>\n",
       "    </tr>\n",
       "    <tr>\n",
       "      <th>1950</th>\n",
       "      <td>9871</td>\n",
       "      <td>There goes a crack right across the screen. If you could actually provide a more durable screen,...</td>\n",
       "      <td>There goes a crack right across the screen If you could actually provide a more durable screen t...</td>\n",
       "      <td>23</td>\n",
       "      <td>127</td>\n",
       "      <td>0</td>\n",
       "      <td>2</td>\n",
       "      <td>goes crack right screen actually provide durable screen great apple iphone</td>\n",
       "      <td>5</td>\n",
       "      <td>2</td>\n",
       "      <td>2</td>\n",
       "    </tr>\n",
       "    <tr>\n",
       "      <th>1951</th>\n",
       "      <td>9872</td>\n",
       "      <td>@codeofinterest as i said #Adobe big time we may well as include #apple to</td>\n",
       "      <td>codeofinterest as i said Adobe big time we may well as include apple to</td>\n",
       "      <td>14</td>\n",
       "      <td>71</td>\n",
       "      <td>1</td>\n",
       "      <td>2</td>\n",
       "      <td>codeofinterest said adobe big time include apple</td>\n",
       "      <td>3</td>\n",
       "      <td>2</td>\n",
       "      <td>1</td>\n",
       "    </tr>\n",
       "    <tr>\n",
       "      <th>1952</th>\n",
       "      <td>9873</td>\n",
       "      <td>Finally I got it .. thanx my father .. #Samsung #galaxy #s3 #gift #father #phone #new http://ins...</td>\n",
       "      <td>Finally I got it thanx my father Samsung galaxy s3 gift father phone new http instagr am p NoxkiPE</td>\n",
       "      <td>19</td>\n",
       "      <td>98</td>\n",
       "      <td>0</td>\n",
       "      <td>7</td>\n",
       "      <td>finally got thanx father samsung galaxy s3 gift father phone new http instagr p noxkipe</td>\n",
       "      <td>11</td>\n",
       "      <td>2</td>\n",
       "      <td>1</td>\n",
       "    </tr>\n",
       "  </tbody>\n",
       "</table>\n",
       "<p>1953 rows × 11 columns</p>\n",
       "</div>"
      ],
      "text/plain": [
       "        id  \\\n",
       "0     7921   \n",
       "1     7922   \n",
       "2     7923   \n",
       "3     7924   \n",
       "4     7925   \n",
       "...    ...   \n",
       "1948  9869   \n",
       "1949  9870   \n",
       "1950  9871   \n",
       "1951  9872   \n",
       "1952  9873   \n",
       "\n",
       "                                                                                                    tweet  \\\n",
       "0                           I hate the new #iphone upgrade. Won't let me download apps. #ugh #apple sucks   \n",
       "1     currently shitting my fucking pants. #apple #iMac #cashmoney #raddest #swagswagswag http://insta...   \n",
       "2     I'd like to puts some CD-ROMS on my iPad, is that possible?' — Yes, but wouldn't that block the ...   \n",
       "3     My ipod is officially dead. I lost all my pictures and videos from the 1D and 5sos concert,and f...   \n",
       "4                                  Been fighting iTunes all night! I only want the music I $&@*# paid for   \n",
       "...                                                                                                   ...   \n",
       "1948  #SamsungGalaxyNote7 Explodes, Burns 6-Year-Old. Thanks for rushing your products to market #Sams...   \n",
       "1949  Now Available - Hoodie. Check it out here - http://zetasupplies.co.uk/products/hoodie-2?utm_camp...   \n",
       "1950  There goes a crack right across the screen. If you could actually provide a more durable screen,...   \n",
       "1951                           @codeofinterest as i said #Adobe big time we may well as include #apple to   \n",
       "1952  Finally I got it .. thanx my father .. #Samsung #galaxy #s3 #gift #father #phone #new http://ins...   \n",
       "\n",
       "                                                                                              clean tweet  \\\n",
       "0                                I hate the new iphone upgrade Won't let me download apps ugh apple sucks   \n",
       "1     currently shitting my fucking pants apple iMac cashmoney raddest swagswagswag http instagr am p ...   \n",
       "2      I'd like to puts some CD ROMS on my iPad is that possible ' Yes but wouldn't that block the screen   \n",
       "3     My ipod is officially dead I lost all my pictures and videos from the 1D and 5sos concert and fr...   \n",
       "4                                         Been fighting iTunes all night I only want the music I paid for   \n",
       "...                                                                                                   ...   \n",
       "1948  SamsungGalaxyNote7 Explodes Burns 6 Year Old Thanks for rushing your products to market Samsung ...   \n",
       "1949  Now Available Hoodie Check it out here http zetasupplies co uk products hoodie 2 utm campaign so...   \n",
       "1950  There goes a crack right across the screen If you could actually provide a more durable screen t...   \n",
       "1951                              codeofinterest as i said Adobe big time we may well as include apple to   \n",
       "1952   Finally I got it thanx my father Samsung galaxy s3 gift father phone new http instagr am p NoxkiPE   \n",
       "\n",
       "      wordcount  charcount  mentions  hashtags  \\\n",
       "0            14         72         0         3   \n",
       "1            15        106         0         5   \n",
       "2            21         98         0         0   \n",
       "3            24        126         0         2   \n",
       "4            13         63         1         1   \n",
       "...         ...        ...       ...       ...   \n",
       "1948         28        177         0         2   \n",
       "1949         28        171         0         4   \n",
       "1950         23        127         0         2   \n",
       "1951         14         71         1         2   \n",
       "1952         19         98         0         7   \n",
       "\n",
       "                                                                                                   lemmas  \\\n",
       "0                                            hate new iphone upgrade wo let download apps ugh apple sucks   \n",
       "1     currently shitting fucking pants apple imac cashmoney raddest swagswagswag http instagr p uuis0b...   \n",
       "2                                                      like puts cd roms ipad possible ' yes block screen   \n",
       "3                   ipod officially dead lost pictures videos 1d 5sos concert vet camp hatinglife sobbing   \n",
       "4                                                                   fighting itunes night want music paid   \n",
       "...                                                                                                   ...   \n",
       "1948  samsunggalaxynote7 explodes burns 6 year old thanks rushing products market samsung http gizmodo...   \n",
       "1949  available hoodie check http zetasupplies co uk products hoodie 2 utm campaign social autopilot u...   \n",
       "1950                           goes crack right screen actually provide durable screen great apple iphone   \n",
       "1951                                                     codeofinterest said adobe big time include apple   \n",
       "1952              finally got thanx father samsung galaxy s3 gift father phone new http instagr p noxkipe   \n",
       "\n",
       "      nouncount  verbcount  adjcount  \n",
       "0             5          4         1  \n",
       "1             8          1         2  \n",
       "2             4          3         1  \n",
       "3             8          2         2  \n",
       "4             3          3         0  \n",
       "...         ...        ...       ...  \n",
       "1948         15          4         2  \n",
       "1949         19          1         3  \n",
       "1950          5          2         2  \n",
       "1951          3          2         1  \n",
       "1952         11          2         1  \n",
       "\n",
       "[1953 rows x 11 columns]"
      ]
     },
     "execution_count": 133,
     "metadata": {},
     "output_type": "execute_result"
    }
   ],
   "source": [
    "test"
   ]
  },
  {
   "cell_type": "markdown",
   "id": "ab81b475-676e-4eee-9474-15183fb5a7a9",
   "metadata": {},
   "source": [
    "# test predictions"
   ]
  },
  {
   "cell_type": "code",
   "execution_count": 293,
   "id": "beb90dae-a663-48da-b228-58c87c73882f",
   "metadata": {},
   "outputs": [],
   "source": [
    "test_count_vectors = count.transform(test['clean tweet'])"
   ]
  },
  {
   "cell_type": "code",
   "execution_count": 294,
   "id": "1e993a96-bb70-472c-b7ac-99691da53490",
   "metadata": {},
   "outputs": [],
   "source": [
    "test_tfidf_vectors = tfidf.transform(test['clean tweet'])"
   ]
  },
  {
   "cell_type": "code",
   "execution_count": 295,
   "id": "068c770b-ea79-4222-8451-7a33034956c0",
   "metadata": {},
   "outputs": [
    {
     "data": {
      "text/plain": [
       "Index(['id', 'tweet', 'clean tweet', 'wordcount', 'charcount', 'mentions',\n",
       "       'hashtags', 'lemmas', 'nouncount', 'verbcount', 'adjcount'],\n",
       "      dtype='object')"
      ]
     },
     "execution_count": 295,
     "metadata": {},
     "output_type": "execute_result"
    }
   ],
   "source": [
    "test.columns"
   ]
  },
  {
   "cell_type": "code",
   "execution_count": 296,
   "id": "9a2a5dbb-422f-48c3-a265-47b4f388835f",
   "metadata": {},
   "outputs": [],
   "source": [
    "features = ['wordcount', 'charcount', 'mentions', 'hashtags', 'nouncount', 'verbcount', 'adjcount']"
   ]
  },
  {
   "cell_type": "code",
   "execution_count": 297,
   "id": "e2bcad23-0d5a-45f1-aafa-0fe7868a2a7f",
   "metadata": {},
   "outputs": [],
   "source": [
    "X_test = hstack([test_count_vectors, test_tfidf_vectors, csr_matrix(test[features])])"
   ]
  },
  {
   "cell_type": "code",
   "execution_count": 298,
   "id": "741197fb-8886-4eaf-bc16-dbb86d8559cc",
   "metadata": {},
   "outputs": [],
   "source": [
    "predictions = model.predict(X_test)"
   ]
  },
  {
   "cell_type": "code",
   "execution_count": 299,
   "id": "b67953e7-4bdd-4549-aab9-08348e77270f",
   "metadata": {},
   "outputs": [
    {
     "data": {
      "text/plain": [
       "array([1, 1, 1, ..., 1, 1, 0], dtype=int64)"
      ]
     },
     "execution_count": 299,
     "metadata": {},
     "output_type": "execute_result"
    }
   ],
   "source": [
    "predictions"
   ]
  },
  {
   "cell_type": "code",
   "execution_count": 300,
   "id": "0c703a74-f0bc-4a29-8a9c-f6b51d57f63e",
   "metadata": {},
   "outputs": [
    {
     "data": {
      "text/plain": [
       "array([7921, 7922, 7923, ..., 9871, 9872, 9873], dtype=int64)"
      ]
     },
     "execution_count": 300,
     "metadata": {},
     "output_type": "execute_result"
    }
   ],
   "source": [
    "test['id'].values"
   ]
  },
  {
   "cell_type": "code",
   "execution_count": 301,
   "id": "847f11ca-d7f2-4f89-a9b9-5737c4bed8a5",
   "metadata": {},
   "outputs": [
    {
     "data": {
      "text/html": [
       "<div>\n",
       "<style scoped>\n",
       "    .dataframe tbody tr th:only-of-type {\n",
       "        vertical-align: middle;\n",
       "    }\n",
       "\n",
       "    .dataframe tbody tr th {\n",
       "        vertical-align: top;\n",
       "    }\n",
       "\n",
       "    .dataframe thead th {\n",
       "        text-align: right;\n",
       "    }\n",
       "</style>\n",
       "<table border=\"1\" class=\"dataframe\">\n",
       "  <thead>\n",
       "    <tr style=\"text-align: right;\">\n",
       "      <th></th>\n",
       "      <th>id</th>\n",
       "      <th>label</th>\n",
       "    </tr>\n",
       "  </thead>\n",
       "  <tbody>\n",
       "    <tr>\n",
       "      <th>0</th>\n",
       "      <td>7921</td>\n",
       "      <td>1</td>\n",
       "    </tr>\n",
       "    <tr>\n",
       "      <th>1</th>\n",
       "      <td>7922</td>\n",
       "      <td>1</td>\n",
       "    </tr>\n",
       "    <tr>\n",
       "      <th>2</th>\n",
       "      <td>7923</td>\n",
       "      <td>1</td>\n",
       "    </tr>\n",
       "    <tr>\n",
       "      <th>3</th>\n",
       "      <td>7924</td>\n",
       "      <td>1</td>\n",
       "    </tr>\n",
       "    <tr>\n",
       "      <th>4</th>\n",
       "      <td>7925</td>\n",
       "      <td>1</td>\n",
       "    </tr>\n",
       "    <tr>\n",
       "      <th>...</th>\n",
       "      <td>...</td>\n",
       "      <td>...</td>\n",
       "    </tr>\n",
       "    <tr>\n",
       "      <th>1948</th>\n",
       "      <td>9869</td>\n",
       "      <td>0</td>\n",
       "    </tr>\n",
       "    <tr>\n",
       "      <th>1949</th>\n",
       "      <td>9870</td>\n",
       "      <td>0</td>\n",
       "    </tr>\n",
       "    <tr>\n",
       "      <th>1950</th>\n",
       "      <td>9871</td>\n",
       "      <td>1</td>\n",
       "    </tr>\n",
       "    <tr>\n",
       "      <th>1951</th>\n",
       "      <td>9872</td>\n",
       "      <td>1</td>\n",
       "    </tr>\n",
       "    <tr>\n",
       "      <th>1952</th>\n",
       "      <td>9873</td>\n",
       "      <td>0</td>\n",
       "    </tr>\n",
       "  </tbody>\n",
       "</table>\n",
       "<p>1953 rows × 2 columns</p>\n",
       "</div>"
      ],
      "text/plain": [
       "        id  label\n",
       "0     7921      1\n",
       "1     7922      1\n",
       "2     7923      1\n",
       "3     7924      1\n",
       "4     7925      1\n",
       "...    ...    ...\n",
       "1948  9869      0\n",
       "1949  9870      0\n",
       "1950  9871      1\n",
       "1951  9872      1\n",
       "1952  9873      0\n",
       "\n",
       "[1953 rows x 2 columns]"
      ]
     },
     "execution_count": 301,
     "metadata": {},
     "output_type": "execute_result"
    }
   ],
   "source": [
    "result = pd.DataFrame(predictions, test['id'].values).reset_index()\n",
    "result.columns=['id', 'label']\n",
    "result"
   ]
  },
  {
   "cell_type": "code",
   "execution_count": 302,
   "id": "dd78317e-adbc-4677-8f65-5e55a0de44a6",
   "metadata": {},
   "outputs": [],
   "source": [
    "result.to_csv('submission.csv', index=False)"
   ]
  },
  {
   "cell_type": "markdown",
   "id": "637d853a-4f34-499a-8db8-b3618d3dc268",
   "metadata": {},
   "source": [
    "# word embedding"
   ]
  },
  {
   "cell_type": "code",
   "execution_count": 30,
   "id": "e064899c-70d4-4f6a-84a0-da8c92842aac",
   "metadata": {},
   "outputs": [],
   "source": [
    "import tensorflow as tf\n",
    "from tensorflow.keras import Input, Model\n",
    "from tensorflow.keras.models import Sequential, load_model\n",
    "from tensorflow.keras.layers import TextVectorization, Dense, MaxPool1D, Embedding, Conv1D, Flatten, Dropout\n",
    "from tensorflow.keras.layers import SimpleRNN, LSTM, GRU\n",
    "from tensorflow.keras.initializers import HeNormal\n",
    "from tensorflow.keras.callbacks import EarlyStopping, ModelCheckpoint"
   ]
  },
  {
   "cell_type": "code",
   "execution_count": 42,
   "id": "e04421e2-a478-47d9-8515-1d659b609333",
   "metadata": {
    "collapsed": true,
    "jupyter": {
     "outputs_hidden": true
    },
    "tags": []
   },
   "outputs": [
    {
     "ename": "NameError",
     "evalue": "name 'sentences' is not defined",
     "output_type": "error",
     "traceback": [
      "\u001b[1;31m---------------------------------------------------------------------------\u001b[0m",
      "\u001b[1;31mNameError\u001b[0m                                 Traceback (most recent call last)",
      "\u001b[1;32m~\\AppData\\Local\\Temp\\ipykernel_8888\\2061373708.py\u001b[0m in \u001b[0;36m<cell line: 1>\u001b[1;34m()\u001b[0m\n\u001b[1;32m----> 1\u001b[1;33m \u001b[0mmax\u001b[0m\u001b[1;33m(\u001b[0m\u001b[0mlen\u001b[0m\u001b[1;33m(\u001b[0m\u001b[0mi\u001b[0m\u001b[1;33m)\u001b[0m \u001b[1;32mfor\u001b[0m \u001b[0mi\u001b[0m \u001b[1;32min\u001b[0m \u001b[0msentences\u001b[0m\u001b[1;33m)\u001b[0m\u001b[1;33m\u001b[0m\u001b[1;33m\u001b[0m\u001b[0m\n\u001b[0m",
      "\u001b[1;31mNameError\u001b[0m: name 'sentences' is not defined"
     ]
    }
   ],
   "source": [
    "max(len(i) for i in sentences)"
   ]
  },
  {
   "cell_type": "code",
   "execution_count": 43,
   "id": "60e77c8a-5e5a-4053-a5e5-21cc7f6b6cc1",
   "metadata": {},
   "outputs": [],
   "source": [
    "vectorizer = TextVectorization(max_tokens=None, output_mode='int', output_sequence_length=61)"
   ]
  },
  {
   "cell_type": "code",
   "execution_count": 44,
   "id": "1db97ef7-539c-4112-9506-54d70abc96dc",
   "metadata": {},
   "outputs": [],
   "source": [
    "vectorizer.adapt(train['clean tweet'].values)"
   ]
  },
  {
   "cell_type": "code",
   "execution_count": 45,
   "id": "3fec7387-490f-469c-9a89-d6b7cb00d503",
   "metadata": {},
   "outputs": [],
   "source": [
    "output_vector = vectorizer(train['clean tweet'].values)"
   ]
  },
  {
   "cell_type": "code",
   "execution_count": 46,
   "id": "8deacb82-3d1b-4feb-8bbb-2d1cde9e6ffd",
   "metadata": {},
   "outputs": [
    {
     "data": {
      "text/plain": [
       "TensorShape([7920, 61])"
      ]
     },
     "execution_count": 46,
     "metadata": {},
     "output_type": "execute_result"
    }
   ],
   "source": [
    "output_vector.shape"
   ]
  },
  {
   "cell_type": "code",
   "execution_count": 47,
   "id": "b82ec08f-7877-42a1-905a-11d70453abb3",
   "metadata": {},
   "outputs": [
    {
     "data": {
      "text/plain": [
       "23242"
      ]
     },
     "execution_count": 47,
     "metadata": {},
     "output_type": "execute_result"
    }
   ],
   "source": [
    "len(vectorizer.get_vocabulary())"
   ]
  },
  {
   "cell_type": "code",
   "execution_count": 48,
   "id": "f5223d94-e178-4ac4-a60d-6a5398253ed0",
   "metadata": {},
   "outputs": [
    {
     "data": {
      "text/plain": [
       "'Sony Xperia Z2 unboxing newphone freeupgrade sony xperiaz2 sexybeast excited gadget newtoy http instagram com p nF3h6nh1z'"
      ]
     },
     "execution_count": 48,
     "metadata": {},
     "output_type": "execute_result"
    }
   ],
   "source": [
    "train['clean tweet'].values[458]"
   ]
  },
  {
   "cell_type": "code",
   "execution_count": 49,
   "id": "d8499d9d-902f-42c9-9efb-0b1a0796a3e7",
   "metadata": {},
   "outputs": [
    {
     "data": {
      "text/plain": [
       "<tf.Tensor: shape=(61,), dtype=int64, numpy=\n",
       "array([   25,   348,  2153,  1357,   439,  4102,    25,  2440,  3649,\n",
       "         230,   513,  1102,     3,     8,     4,     6, 13131,     0,\n",
       "           0,     0,     0,     0,     0,     0,     0,     0,     0,\n",
       "           0,     0,     0,     0,     0,     0,     0,     0,     0,\n",
       "           0,     0,     0,     0,     0,     0,     0,     0,     0,\n",
       "           0,     0,     0,     0,     0,     0,     0,     0,     0,\n",
       "           0,     0,     0,     0,     0,     0,     0], dtype=int64)>"
      ]
     },
     "execution_count": 49,
     "metadata": {},
     "output_type": "execute_result"
    }
   ],
   "source": [
    "output_vector[458]"
   ]
  },
  {
   "cell_type": "code",
   "execution_count": 50,
   "id": "367a39f2-6931-4223-8bc9-693c83447e70",
   "metadata": {},
   "outputs": [],
   "source": [
    "vocab_size = len(vectorizer.get_vocabulary())"
   ]
  },
  {
   "cell_type": "code",
   "execution_count": 51,
   "id": "cad65961-0ef8-488e-97f7-f0c3af463ddb",
   "metadata": {},
   "outputs": [],
   "source": [
    "X = pd.DataFrame(output_vector, index=train.index)"
   ]
  },
  {
   "cell_type": "code",
   "execution_count": 52,
   "id": "a38e8b99-d6df-4432-8675-59a59e33a236",
   "metadata": {},
   "outputs": [],
   "source": [
    "target = train['label']"
   ]
  },
  {
   "cell_type": "code",
   "execution_count": 53,
   "id": "bc894690-4677-470f-a7bb-c81a2a1a469a",
   "metadata": {
    "colab": {},
    "colab_type": "code",
    "executionInfo": {
     "elapsed": 1846,
     "status": "ok",
     "timestamp": 1598870758012,
     "user": {
      "displayName": "Faizan Shaikh",
      "photoUrl": "",
      "userId": "11428351120800485612"
     },
     "user_tz": -330
    },
    "id": "xrjhgosACJqg"
   },
   "outputs": [],
   "source": [
    "X_train, X_test, y_train, y_test = train_test_split(X, target, test_size=0.3, stratify=target)"
   ]
  },
  {
   "cell_type": "markdown",
   "id": "737cf91e-70b2-4ff6-b274-9882cfabe98f",
   "metadata": {},
   "source": [
    "## custom embedding layer"
   ]
  },
  {
   "cell_type": "code",
   "execution_count": 56,
   "id": "b1ff7bd7-0a16-48bd-9508-f8426a76595f",
   "metadata": {},
   "outputs": [],
   "source": [
    "model = Sequential()\n",
    "model.add(Embedding(input_dim=vocab_size, output_dim=30, input_length=60))\n",
    "model.add(Dropout(0.3))\n",
    "model.add(Conv1D(filters=15, kernel_size=3, activation='relu'))\n",
    "model.add(MaxPool1D())\n",
    "model.add(Dense(20, activation='relu'))\n",
    "model.add(Flatten())\n",
    "model.add(Dense(1, activation='sigmoid'))"
   ]
  },
  {
   "cell_type": "code",
   "execution_count": 76,
   "id": "f452d26d-7c3f-42b2-bb67-838ddfbdb5ef",
   "metadata": {},
   "outputs": [],
   "source": [
    "model = Sequential()\n",
    "model.add(Embedding(input_dim=vocab_size, output_dim=30, input_length=61))\n",
    "model.add(GRU(units=64))\n",
    "model.add(Dense(20, activation='relu'))\n",
    "model.add(Dense(1, activation='sigmoid'))"
   ]
  },
  {
   "cell_type": "code",
   "execution_count": 77,
   "id": "1068dc1d-c623-4847-bdaa-14b5f419f3b4",
   "metadata": {},
   "outputs": [
    {
     "name": "stdout",
     "output_type": "stream",
     "text": [
      "Model: \"sequential_7\"\n",
      "_________________________________________________________________\n",
      " Layer (type)                Output Shape              Param #   \n",
      "=================================================================\n",
      " embedding_7 (Embedding)     (None, 61, 30)            697260    \n",
      "                                                                 \n",
      " gru (GRU)                   (None, 64)                18432     \n",
      "                                                                 \n",
      " dense_12 (Dense)            (None, 20)                1300      \n",
      "                                                                 \n",
      " dense_13 (Dense)            (None, 1)                 21        \n",
      "                                                                 \n",
      "=================================================================\n",
      "Total params: 717,013\n",
      "Trainable params: 717,013\n",
      "Non-trainable params: 0\n",
      "_________________________________________________________________\n"
     ]
    }
   ],
   "source": [
    "model.summary()"
   ]
  },
  {
   "cell_type": "code",
   "execution_count": 78,
   "id": "9f0ddaee-84ff-4361-be5a-e70f1f513218",
   "metadata": {},
   "outputs": [],
   "source": [
    "model.compile(optimizer=tf.keras.optimizers.Adam(), \n",
    "              loss=tf.keras.losses.BinaryCrossentropy(), \n",
    "              metrics=[tf.keras.metrics.BinaryAccuracy()])"
   ]
  },
  {
   "cell_type": "code",
   "execution_count": 79,
   "id": "53d3ccb3-6ae9-4ed7-9a4e-6491d6ac8b57",
   "metadata": {},
   "outputs": [],
   "source": [
    "callbacks = [EarlyStopping(monitor='val_binary_accuracy', min_delta=.0001, patience=20, verbose=1, \n",
    "                           mode='max', baseline=0.5, restore_best_weights=True, start_from_epoch=10)]"
   ]
  },
  {
   "cell_type": "code",
   "execution_count": 80,
   "id": "6673ee36-3907-4f49-ba2a-0e6b46845003",
   "metadata": {
    "scrolled": true,
    "tags": []
   },
   "outputs": [
    {
     "name": "stdout",
     "output_type": "stream",
     "text": [
      "Epoch 1/50\n",
      "45/45 [==============================] - 5s 59ms/step - loss: 0.6158 - binary_accuracy: 0.7302 - val_loss: 0.5726 - val_binary_accuracy: 0.7441\n",
      "Epoch 2/50\n",
      "45/45 [==============================] - 3s 57ms/step - loss: 0.5703 - binary_accuracy: 0.7442 - val_loss: 0.5692 - val_binary_accuracy: 0.7441\n",
      "Epoch 3/50\n",
      "45/45 [==============================] - 2s 52ms/step - loss: 0.5694 - binary_accuracy: 0.7442 - val_loss: 0.5710 - val_binary_accuracy: 0.7441\n",
      "Epoch 4/50\n",
      "45/45 [==============================] - 2s 50ms/step - loss: 0.5698 - binary_accuracy: 0.7442 - val_loss: 0.5689 - val_binary_accuracy: 0.7441\n",
      "Epoch 5/50\n",
      "45/45 [==============================] - 2s 51ms/step - loss: 0.5692 - binary_accuracy: 0.7442 - val_loss: 0.5692 - val_binary_accuracy: 0.7441\n",
      "Epoch 6/50\n",
      "45/45 [==============================] - 3s 58ms/step - loss: 0.5691 - binary_accuracy: 0.7442 - val_loss: 0.5690 - val_binary_accuracy: 0.7441\n",
      "Epoch 7/50\n",
      "45/45 [==============================] - 2s 54ms/step - loss: 0.5691 - binary_accuracy: 0.7442 - val_loss: 0.5691 - val_binary_accuracy: 0.7441\n",
      "Epoch 8/50\n",
      "45/45 [==============================] - 2s 56ms/step - loss: 0.5691 - binary_accuracy: 0.7442 - val_loss: 0.5690 - val_binary_accuracy: 0.7441\n",
      "Epoch 9/50\n",
      "45/45 [==============================] - 2s 53ms/step - loss: 0.5690 - binary_accuracy: 0.7442 - val_loss: 0.5688 - val_binary_accuracy: 0.7441\n",
      "Epoch 10/50\n",
      "45/45 [==============================] - 3s 67ms/step - loss: 0.5688 - binary_accuracy: 0.7442 - val_loss: 0.5689 - val_binary_accuracy: 0.7441\n",
      "Epoch 11/50\n",
      "45/45 [==============================] - 3s 59ms/step - loss: 0.5695 - binary_accuracy: 0.7442 - val_loss: 0.5688 - val_binary_accuracy: 0.7441\n",
      "Epoch 12/50\n",
      "36/45 [=======================>......] - ETA: 0s - loss: 0.5730 - binary_accuracy: 0.7417"
     ]
    },
    {
     "ename": "KeyboardInterrupt",
     "evalue": "",
     "output_type": "error",
     "traceback": [
      "\u001b[1;31m---------------------------------------------------------------------------\u001b[0m",
      "\u001b[1;31mKeyboardInterrupt\u001b[0m                         Traceback (most recent call last)",
      "\u001b[1;32m~\\AppData\\Local\\Temp\\ipykernel_8888\\4158425258.py\u001b[0m in \u001b[0;36m<cell line: 1>\u001b[1;34m()\u001b[0m\n\u001b[1;32m----> 1\u001b[1;33m history = model.fit(X_train, y_train, batch_size=124, epochs=50, callbacks=callbacks, \n\u001b[0m\u001b[0;32m      2\u001b[0m                     validation_data=(X_test, y_test), )\n",
      "\u001b[1;32m~\\anaconda3\\lib\\site-packages\\keras\\utils\\traceback_utils.py\u001b[0m in \u001b[0;36merror_handler\u001b[1;34m(*args, **kwargs)\u001b[0m\n\u001b[0;32m     63\u001b[0m         \u001b[0mfiltered_tb\u001b[0m \u001b[1;33m=\u001b[0m \u001b[1;32mNone\u001b[0m\u001b[1;33m\u001b[0m\u001b[1;33m\u001b[0m\u001b[0m\n\u001b[0;32m     64\u001b[0m         \u001b[1;32mtry\u001b[0m\u001b[1;33m:\u001b[0m\u001b[1;33m\u001b[0m\u001b[1;33m\u001b[0m\u001b[0m\n\u001b[1;32m---> 65\u001b[1;33m             \u001b[1;32mreturn\u001b[0m \u001b[0mfn\u001b[0m\u001b[1;33m(\u001b[0m\u001b[1;33m*\u001b[0m\u001b[0margs\u001b[0m\u001b[1;33m,\u001b[0m \u001b[1;33m**\u001b[0m\u001b[0mkwargs\u001b[0m\u001b[1;33m)\u001b[0m\u001b[1;33m\u001b[0m\u001b[1;33m\u001b[0m\u001b[0m\n\u001b[0m\u001b[0;32m     66\u001b[0m         \u001b[1;32mexcept\u001b[0m \u001b[0mException\u001b[0m \u001b[1;32mas\u001b[0m \u001b[0me\u001b[0m\u001b[1;33m:\u001b[0m\u001b[1;33m\u001b[0m\u001b[1;33m\u001b[0m\u001b[0m\n\u001b[0;32m     67\u001b[0m             \u001b[0mfiltered_tb\u001b[0m \u001b[1;33m=\u001b[0m \u001b[0m_process_traceback_frames\u001b[0m\u001b[1;33m(\u001b[0m\u001b[0me\u001b[0m\u001b[1;33m.\u001b[0m\u001b[0m__traceback__\u001b[0m\u001b[1;33m)\u001b[0m\u001b[1;33m\u001b[0m\u001b[1;33m\u001b[0m\u001b[0m\n",
      "\u001b[1;32m~\\anaconda3\\lib\\site-packages\\keras\\engine\\training.py\u001b[0m in \u001b[0;36mfit\u001b[1;34m(self, x, y, batch_size, epochs, verbose, callbacks, validation_split, validation_data, shuffle, class_weight, sample_weight, initial_epoch, steps_per_epoch, validation_steps, validation_batch_size, validation_freq, max_queue_size, workers, use_multiprocessing)\u001b[0m\n\u001b[0;32m   1683\u001b[0m                         ):\n\u001b[0;32m   1684\u001b[0m                             \u001b[0mcallbacks\u001b[0m\u001b[1;33m.\u001b[0m\u001b[0mon_train_batch_begin\u001b[0m\u001b[1;33m(\u001b[0m\u001b[0mstep\u001b[0m\u001b[1;33m)\u001b[0m\u001b[1;33m\u001b[0m\u001b[1;33m\u001b[0m\u001b[0m\n\u001b[1;32m-> 1685\u001b[1;33m                             \u001b[0mtmp_logs\u001b[0m \u001b[1;33m=\u001b[0m \u001b[0mself\u001b[0m\u001b[1;33m.\u001b[0m\u001b[0mtrain_function\u001b[0m\u001b[1;33m(\u001b[0m\u001b[0miterator\u001b[0m\u001b[1;33m)\u001b[0m\u001b[1;33m\u001b[0m\u001b[1;33m\u001b[0m\u001b[0m\n\u001b[0m\u001b[0;32m   1686\u001b[0m                             \u001b[1;32mif\u001b[0m \u001b[0mdata_handler\u001b[0m\u001b[1;33m.\u001b[0m\u001b[0mshould_sync\u001b[0m\u001b[1;33m:\u001b[0m\u001b[1;33m\u001b[0m\u001b[1;33m\u001b[0m\u001b[0m\n\u001b[0;32m   1687\u001b[0m                                 \u001b[0mcontext\u001b[0m\u001b[1;33m.\u001b[0m\u001b[0masync_wait\u001b[0m\u001b[1;33m(\u001b[0m\u001b[1;33m)\u001b[0m\u001b[1;33m\u001b[0m\u001b[1;33m\u001b[0m\u001b[0m\n",
      "\u001b[1;32m~\\anaconda3\\lib\\site-packages\\tensorflow\\python\\util\\traceback_utils.py\u001b[0m in \u001b[0;36merror_handler\u001b[1;34m(*args, **kwargs)\u001b[0m\n\u001b[0;32m    148\u001b[0m     \u001b[0mfiltered_tb\u001b[0m \u001b[1;33m=\u001b[0m \u001b[1;32mNone\u001b[0m\u001b[1;33m\u001b[0m\u001b[1;33m\u001b[0m\u001b[0m\n\u001b[0;32m    149\u001b[0m     \u001b[1;32mtry\u001b[0m\u001b[1;33m:\u001b[0m\u001b[1;33m\u001b[0m\u001b[1;33m\u001b[0m\u001b[0m\n\u001b[1;32m--> 150\u001b[1;33m       \u001b[1;32mreturn\u001b[0m \u001b[0mfn\u001b[0m\u001b[1;33m(\u001b[0m\u001b[1;33m*\u001b[0m\u001b[0margs\u001b[0m\u001b[1;33m,\u001b[0m \u001b[1;33m**\u001b[0m\u001b[0mkwargs\u001b[0m\u001b[1;33m)\u001b[0m\u001b[1;33m\u001b[0m\u001b[1;33m\u001b[0m\u001b[0m\n\u001b[0m\u001b[0;32m    151\u001b[0m     \u001b[1;32mexcept\u001b[0m \u001b[0mException\u001b[0m \u001b[1;32mas\u001b[0m \u001b[0me\u001b[0m\u001b[1;33m:\u001b[0m\u001b[1;33m\u001b[0m\u001b[1;33m\u001b[0m\u001b[0m\n\u001b[0;32m    152\u001b[0m       \u001b[0mfiltered_tb\u001b[0m \u001b[1;33m=\u001b[0m \u001b[0m_process_traceback_frames\u001b[0m\u001b[1;33m(\u001b[0m\u001b[0me\u001b[0m\u001b[1;33m.\u001b[0m\u001b[0m__traceback__\u001b[0m\u001b[1;33m)\u001b[0m\u001b[1;33m\u001b[0m\u001b[1;33m\u001b[0m\u001b[0m\n",
      "\u001b[1;32m~\\anaconda3\\lib\\site-packages\\tensorflow\\python\\eager\\polymorphic_function\\polymorphic_function.py\u001b[0m in \u001b[0;36m__call__\u001b[1;34m(self, *args, **kwds)\u001b[0m\n\u001b[0;32m    892\u001b[0m \u001b[1;33m\u001b[0m\u001b[0m\n\u001b[0;32m    893\u001b[0m       \u001b[1;32mwith\u001b[0m \u001b[0mOptionalXlaContext\u001b[0m\u001b[1;33m(\u001b[0m\u001b[0mself\u001b[0m\u001b[1;33m.\u001b[0m\u001b[0m_jit_compile\u001b[0m\u001b[1;33m)\u001b[0m\u001b[1;33m:\u001b[0m\u001b[1;33m\u001b[0m\u001b[1;33m\u001b[0m\u001b[0m\n\u001b[1;32m--> 894\u001b[1;33m         \u001b[0mresult\u001b[0m \u001b[1;33m=\u001b[0m \u001b[0mself\u001b[0m\u001b[1;33m.\u001b[0m\u001b[0m_call\u001b[0m\u001b[1;33m(\u001b[0m\u001b[1;33m*\u001b[0m\u001b[0margs\u001b[0m\u001b[1;33m,\u001b[0m \u001b[1;33m**\u001b[0m\u001b[0mkwds\u001b[0m\u001b[1;33m)\u001b[0m\u001b[1;33m\u001b[0m\u001b[1;33m\u001b[0m\u001b[0m\n\u001b[0m\u001b[0;32m    895\u001b[0m \u001b[1;33m\u001b[0m\u001b[0m\n\u001b[0;32m    896\u001b[0m       \u001b[0mnew_tracing_count\u001b[0m \u001b[1;33m=\u001b[0m \u001b[0mself\u001b[0m\u001b[1;33m.\u001b[0m\u001b[0mexperimental_get_tracing_count\u001b[0m\u001b[1;33m(\u001b[0m\u001b[1;33m)\u001b[0m\u001b[1;33m\u001b[0m\u001b[1;33m\u001b[0m\u001b[0m\n",
      "\u001b[1;32m~\\anaconda3\\lib\\site-packages\\tensorflow\\python\\eager\\polymorphic_function\\polymorphic_function.py\u001b[0m in \u001b[0;36m_call\u001b[1;34m(self, *args, **kwds)\u001b[0m\n\u001b[0;32m    924\u001b[0m       \u001b[1;31m# In this case we have created variables on the first call, so we run the\u001b[0m\u001b[1;33m\u001b[0m\u001b[1;33m\u001b[0m\u001b[0m\n\u001b[0;32m    925\u001b[0m       \u001b[1;31m# defunned version which is guaranteed to never create variables.\u001b[0m\u001b[1;33m\u001b[0m\u001b[1;33m\u001b[0m\u001b[0m\n\u001b[1;32m--> 926\u001b[1;33m       \u001b[1;32mreturn\u001b[0m \u001b[0mself\u001b[0m\u001b[1;33m.\u001b[0m\u001b[0m_no_variable_creation_fn\u001b[0m\u001b[1;33m(\u001b[0m\u001b[1;33m*\u001b[0m\u001b[0margs\u001b[0m\u001b[1;33m,\u001b[0m \u001b[1;33m**\u001b[0m\u001b[0mkwds\u001b[0m\u001b[1;33m)\u001b[0m  \u001b[1;31m# pylint: disable=not-callable\u001b[0m\u001b[1;33m\u001b[0m\u001b[1;33m\u001b[0m\u001b[0m\n\u001b[0m\u001b[0;32m    927\u001b[0m     \u001b[1;32melif\u001b[0m \u001b[0mself\u001b[0m\u001b[1;33m.\u001b[0m\u001b[0m_variable_creation_fn\u001b[0m \u001b[1;32mis\u001b[0m \u001b[1;32mnot\u001b[0m \u001b[1;32mNone\u001b[0m\u001b[1;33m:\u001b[0m\u001b[1;33m\u001b[0m\u001b[1;33m\u001b[0m\u001b[0m\n\u001b[0;32m    928\u001b[0m       \u001b[1;31m# Release the lock early so that multiple threads can perform the call\u001b[0m\u001b[1;33m\u001b[0m\u001b[1;33m\u001b[0m\u001b[0m\n",
      "\u001b[1;32m~\\anaconda3\\lib\\site-packages\\tensorflow\\python\\eager\\polymorphic_function\\tracing_compiler.py\u001b[0m in \u001b[0;36m__call__\u001b[1;34m(self, *args, **kwargs)\u001b[0m\n\u001b[0;32m    141\u001b[0m       (concrete_function,\n\u001b[0;32m    142\u001b[0m        filtered_flat_args) = self._maybe_define_function(args, kwargs)\n\u001b[1;32m--> 143\u001b[1;33m     return concrete_function._call_flat(\n\u001b[0m\u001b[0;32m    144\u001b[0m         filtered_flat_args, captured_inputs=concrete_function.captured_inputs)  # pylint: disable=protected-access\n\u001b[0;32m    145\u001b[0m \u001b[1;33m\u001b[0m\u001b[0m\n",
      "\u001b[1;32m~\\anaconda3\\lib\\site-packages\\tensorflow\\python\\eager\\polymorphic_function\\monomorphic_function.py\u001b[0m in \u001b[0;36m_call_flat\u001b[1;34m(self, args, captured_inputs, cancellation_manager)\u001b[0m\n\u001b[0;32m   1755\u001b[0m         and executing_eagerly):\n\u001b[0;32m   1756\u001b[0m       \u001b[1;31m# No tape is watching; skip to running the function.\u001b[0m\u001b[1;33m\u001b[0m\u001b[1;33m\u001b[0m\u001b[0m\n\u001b[1;32m-> 1757\u001b[1;33m       return self._build_call_outputs(self._inference_function.call(\n\u001b[0m\u001b[0;32m   1758\u001b[0m           ctx, args, cancellation_manager=cancellation_manager))\n\u001b[0;32m   1759\u001b[0m     forward_backward = self._select_forward_and_backward_functions(\n",
      "\u001b[1;32m~\\anaconda3\\lib\\site-packages\\tensorflow\\python\\eager\\polymorphic_function\\monomorphic_function.py\u001b[0m in \u001b[0;36mcall\u001b[1;34m(self, ctx, args, cancellation_manager)\u001b[0m\n\u001b[0;32m    379\u001b[0m       \u001b[1;32mwith\u001b[0m \u001b[0m_InterpolateFunctionError\u001b[0m\u001b[1;33m(\u001b[0m\u001b[0mself\u001b[0m\u001b[1;33m)\u001b[0m\u001b[1;33m:\u001b[0m\u001b[1;33m\u001b[0m\u001b[1;33m\u001b[0m\u001b[0m\n\u001b[0;32m    380\u001b[0m         \u001b[1;32mif\u001b[0m \u001b[0mcancellation_manager\u001b[0m \u001b[1;32mis\u001b[0m \u001b[1;32mNone\u001b[0m\u001b[1;33m:\u001b[0m\u001b[1;33m\u001b[0m\u001b[1;33m\u001b[0m\u001b[0m\n\u001b[1;32m--> 381\u001b[1;33m           outputs = execute.execute(\n\u001b[0m\u001b[0;32m    382\u001b[0m               \u001b[0mstr\u001b[0m\u001b[1;33m(\u001b[0m\u001b[0mself\u001b[0m\u001b[1;33m.\u001b[0m\u001b[0msignature\u001b[0m\u001b[1;33m.\u001b[0m\u001b[0mname\u001b[0m\u001b[1;33m)\u001b[0m\u001b[1;33m,\u001b[0m\u001b[1;33m\u001b[0m\u001b[1;33m\u001b[0m\u001b[0m\n\u001b[0;32m    383\u001b[0m               \u001b[0mnum_outputs\u001b[0m\u001b[1;33m=\u001b[0m\u001b[0mself\u001b[0m\u001b[1;33m.\u001b[0m\u001b[0m_num_outputs\u001b[0m\u001b[1;33m,\u001b[0m\u001b[1;33m\u001b[0m\u001b[1;33m\u001b[0m\u001b[0m\n",
      "\u001b[1;32m~\\anaconda3\\lib\\site-packages\\tensorflow\\python\\eager\\execute.py\u001b[0m in \u001b[0;36mquick_execute\u001b[1;34m(op_name, num_outputs, inputs, attrs, ctx, name)\u001b[0m\n\u001b[0;32m     50\u001b[0m   \u001b[1;32mtry\u001b[0m\u001b[1;33m:\u001b[0m\u001b[1;33m\u001b[0m\u001b[1;33m\u001b[0m\u001b[0m\n\u001b[0;32m     51\u001b[0m     \u001b[0mctx\u001b[0m\u001b[1;33m.\u001b[0m\u001b[0mensure_initialized\u001b[0m\u001b[1;33m(\u001b[0m\u001b[1;33m)\u001b[0m\u001b[1;33m\u001b[0m\u001b[1;33m\u001b[0m\u001b[0m\n\u001b[1;32m---> 52\u001b[1;33m     tensors = pywrap_tfe.TFE_Py_Execute(ctx._handle, device_name, op_name,\n\u001b[0m\u001b[0;32m     53\u001b[0m                                         inputs, attrs, num_outputs)\n\u001b[0;32m     54\u001b[0m   \u001b[1;32mexcept\u001b[0m \u001b[0mcore\u001b[0m\u001b[1;33m.\u001b[0m\u001b[0m_NotOkStatusException\u001b[0m \u001b[1;32mas\u001b[0m \u001b[0me\u001b[0m\u001b[1;33m:\u001b[0m\u001b[1;33m\u001b[0m\u001b[1;33m\u001b[0m\u001b[0m\n",
      "\u001b[1;31mKeyboardInterrupt\u001b[0m: "
     ]
    }
   ],
   "source": [
    "history = model.fit(X_train, y_train, batch_size=124, epochs=50, callbacks=callbacks, \n",
    "                    validation_data=(X_test, y_test), )"
   ]
  },
  {
   "cell_type": "code",
   "execution_count": 82,
   "id": "5c5a4b21-1620-4042-a839-07be5918fd68",
   "metadata": {},
   "outputs": [
    {
     "data": {
      "text/plain": [
       "[<keras.layers.core.embedding.Embedding at 0x7fbaf297e3b0>,\n",
       " <keras.layers.regularization.dropout.Dropout at 0x7fbaf565b580>,\n",
       " <keras.layers.convolutional.conv1d.Conv1D at 0x7fba8598cfa0>,\n",
       " <keras.layers.pooling.max_pooling1d.MaxPooling1D at 0x7fba8598ce80>,\n",
       " <keras.layers.core.dense.Dense at 0x7fba8a0ab160>,\n",
       " <keras.layers.reshaping.flatten.Flatten at 0x7fbad9b6a080>,\n",
       " <keras.layers.core.dense.Dense at 0x7fbaf2a6a680>]"
      ]
     },
     "execution_count": 82,
     "metadata": {},
     "output_type": "execute_result"
    }
   ],
   "source": [
    "model.layers"
   ]
  },
  {
   "cell_type": "code",
   "execution_count": 92,
   "id": "a005806e-c4da-4434-abb1-73d33191da33",
   "metadata": {},
   "outputs": [
    {
     "data": {
      "text/plain": [
       "(23242, 30)"
      ]
     },
     "execution_count": 92,
     "metadata": {},
     "output_type": "execute_result"
    }
   ],
   "source": [
    "model.get_weights()[0].shape"
   ]
  },
  {
   "cell_type": "code",
   "execution_count": 101,
   "id": "e47717f6-03ae-4db7-8d06-f6d0be194ed1",
   "metadata": {},
   "outputs": [
    {
     "data": {
      "text/plain": [
       "array([[ 0.02836007, -0.04778287,  0.00543765, ...,  0.04465852,\n",
       "        -0.00316872,  0.03148388],\n",
       "       [-0.04124187, -0.04645145,  0.00567221, ...,  0.01368513,\n",
       "        -0.01256889, -0.04238895],\n",
       "       [-0.02121391, -0.0046717 ,  0.00838384, ...,  0.03301678,\n",
       "         0.00947913,  0.0014374 ],\n",
       "       ...,\n",
       "       [ 0.04435166, -0.03950498, -0.02616887, ..., -0.04104686,\n",
       "         0.01540594,  0.01398653],\n",
       "       [-0.04201026, -0.08130976,  0.02526709, ..., -0.02963526,\n",
       "         0.02345274, -0.01791719],\n",
       "       [ 0.0159638 , -0.01799283, -0.03633757, ..., -0.03477402,\n",
       "        -0.04707964,  0.01063786]], dtype=float32)"
      ]
     },
     "execution_count": 101,
     "metadata": {},
     "output_type": "execute_result"
    }
   ],
   "source": [
    "model.get_weights()[0]"
   ]
  },
  {
   "cell_type": "code",
   "execution_count": 134,
   "id": "5e219a59-5ab5-4ce4-8e53-b66822b11680",
   "metadata": {},
   "outputs": [
    {
     "data": {
      "text/plain": [
       "array([\"I hate the new iphone upgrade Won't let me download apps ugh apple sucks\",\n",
       "       'currently shitting my fucking pants apple iMac cashmoney raddest swagswagswag http instagr am p UUIS0bIBZo',\n",
       "       \"I'd like to puts some CD ROMS on my iPad is that possible ' Yes but wouldn't that block the screen\",\n",
       "       ...,\n",
       "       'There goes a crack right across the screen If you could actually provide a more durable screen that would be great Apple Iphone',\n",
       "       'codeofinterest as i said Adobe big time we may well as include apple to',\n",
       "       'Finally I got it thanx my father Samsung galaxy s3 gift father phone new http instagr am p NoxkiPE'],\n",
       "      dtype=object)"
      ]
     },
     "execution_count": 134,
     "metadata": {},
     "output_type": "execute_result"
    }
   ],
   "source": [
    "test['clean tweet'].values"
   ]
  },
  {
   "cell_type": "code",
   "execution_count": 135,
   "id": "468e04d5-4283-4977-b72f-3802e33ab8cb",
   "metadata": {},
   "outputs": [],
   "source": [
    "test_vectors = vectorizer(test['clean tweet'].values)"
   ]
  },
  {
   "cell_type": "code",
   "execution_count": 136,
   "id": "6ab090d5-c7a7-4283-967e-0dcdcfc2cc12",
   "metadata": {},
   "outputs": [
    {
     "data": {
      "text/plain": [
       "TensorShape([1953, 61])"
      ]
     },
     "execution_count": 136,
     "metadata": {},
     "output_type": "execute_result"
    }
   ],
   "source": [
    "test_vectors.shape"
   ]
  },
  {
   "cell_type": "code",
   "execution_count": 137,
   "id": "979183d2-efa1-4844-9a4b-14a3afe670d3",
   "metadata": {},
   "outputs": [
    {
     "name": "stdout",
     "output_type": "stream",
     "text": [
      "248/248 [==============================] - 0s 2ms/step - loss: 0.1143 - binary_accuracy: 0.9582\n"
     ]
    },
    {
     "data": {
      "text/plain": [
       "[0.11429598927497864, 0.9582070708274841]"
      ]
     },
     "execution_count": 137,
     "metadata": {},
     "output_type": "execute_result"
    }
   ],
   "source": [
    "model.evaluate(output_vector, train['label'])"
   ]
  },
  {
   "cell_type": "code",
   "execution_count": 268,
   "id": "2ef27849-d51b-4811-82ab-3898ea71e765",
   "metadata": {},
   "outputs": [
    {
     "name": "stdout",
     "output_type": "stream",
     "text": [
      "62/62 [==============================] - 0s 2ms/step\n"
     ]
    }
   ],
   "source": [
    "prediction = model.predict(test_vectors)"
   ]
  },
  {
   "cell_type": "code",
   "execution_count": 269,
   "id": "686eca19-7cd8-4811-9eb0-4fd860d56d89",
   "metadata": {},
   "outputs": [],
   "source": [
    "prediction_cat = (prediction >= 0.5).astype(int)"
   ]
  },
  {
   "cell_type": "code",
   "execution_count": 270,
   "id": "eba03da9-facd-4572-b17a-e27904954660",
   "metadata": {},
   "outputs": [
    {
     "data": {
      "text/plain": [
       "array([[1],\n",
       "       [1],\n",
       "       [1],\n",
       "       ...,\n",
       "       [1],\n",
       "       [1],\n",
       "       [0]])"
      ]
     },
     "execution_count": 270,
     "metadata": {},
     "output_type": "execute_result"
    }
   ],
   "source": [
    "prediction_cat"
   ]
  },
  {
   "cell_type": "code",
   "execution_count": 271,
   "id": "cafd9eff-94d7-4fbf-aa84-f9941f9349df",
   "metadata": {},
   "outputs": [
    {
     "data": {
      "text/plain": [
       "array([7921, 7922, 7923, ..., 9871, 9872, 9873], dtype=int64)"
      ]
     },
     "execution_count": 271,
     "metadata": {},
     "output_type": "execute_result"
    }
   ],
   "source": [
    "test['id'].values"
   ]
  },
  {
   "cell_type": "code",
   "execution_count": 272,
   "id": "096150b4-624f-4581-b450-6c0e097e9f82",
   "metadata": {},
   "outputs": [
    {
     "data": {
      "text/html": [
       "<div>\n",
       "<style scoped>\n",
       "    .dataframe tbody tr th:only-of-type {\n",
       "        vertical-align: middle;\n",
       "    }\n",
       "\n",
       "    .dataframe tbody tr th {\n",
       "        vertical-align: top;\n",
       "    }\n",
       "\n",
       "    .dataframe thead th {\n",
       "        text-align: right;\n",
       "    }\n",
       "</style>\n",
       "<table border=\"1\" class=\"dataframe\">\n",
       "  <thead>\n",
       "    <tr style=\"text-align: right;\">\n",
       "      <th></th>\n",
       "      <th>id</th>\n",
       "      <th>label</th>\n",
       "    </tr>\n",
       "  </thead>\n",
       "  <tbody>\n",
       "    <tr>\n",
       "      <th>0</th>\n",
       "      <td>7921</td>\n",
       "      <td>1</td>\n",
       "    </tr>\n",
       "    <tr>\n",
       "      <th>1</th>\n",
       "      <td>7922</td>\n",
       "      <td>1</td>\n",
       "    </tr>\n",
       "    <tr>\n",
       "      <th>2</th>\n",
       "      <td>7923</td>\n",
       "      <td>1</td>\n",
       "    </tr>\n",
       "    <tr>\n",
       "      <th>3</th>\n",
       "      <td>7924</td>\n",
       "      <td>1</td>\n",
       "    </tr>\n",
       "    <tr>\n",
       "      <th>4</th>\n",
       "      <td>7925</td>\n",
       "      <td>1</td>\n",
       "    </tr>\n",
       "    <tr>\n",
       "      <th>...</th>\n",
       "      <td>...</td>\n",
       "      <td>...</td>\n",
       "    </tr>\n",
       "    <tr>\n",
       "      <th>1948</th>\n",
       "      <td>9869</td>\n",
       "      <td>1</td>\n",
       "    </tr>\n",
       "    <tr>\n",
       "      <th>1949</th>\n",
       "      <td>9870</td>\n",
       "      <td>0</td>\n",
       "    </tr>\n",
       "    <tr>\n",
       "      <th>1950</th>\n",
       "      <td>9871</td>\n",
       "      <td>1</td>\n",
       "    </tr>\n",
       "    <tr>\n",
       "      <th>1951</th>\n",
       "      <td>9872</td>\n",
       "      <td>1</td>\n",
       "    </tr>\n",
       "    <tr>\n",
       "      <th>1952</th>\n",
       "      <td>9873</td>\n",
       "      <td>0</td>\n",
       "    </tr>\n",
       "  </tbody>\n",
       "</table>\n",
       "<p>1953 rows × 2 columns</p>\n",
       "</div>"
      ],
      "text/plain": [
       "        id  label\n",
       "0     7921      1\n",
       "1     7922      1\n",
       "2     7923      1\n",
       "3     7924      1\n",
       "4     7925      1\n",
       "...    ...    ...\n",
       "1948  9869      1\n",
       "1949  9870      0\n",
       "1950  9871      1\n",
       "1951  9872      1\n",
       "1952  9873      0\n",
       "\n",
       "[1953 rows x 2 columns]"
      ]
     },
     "execution_count": 272,
     "metadata": {},
     "output_type": "execute_result"
    }
   ],
   "source": [
    "result = pd.DataFrame(prediction_cat, test['id'].values).reset_index()\n",
    "result.columns=['id', 'label']\n",
    "result"
   ]
  },
  {
   "cell_type": "code",
   "execution_count": 273,
   "id": "5577473a-046d-4aaf-a809-6e3b1cd080f4",
   "metadata": {},
   "outputs": [],
   "source": [
    "result.to_csv('submission1.csv', index=False)"
   ]
  },
  {
   "cell_type": "markdown",
   "id": "f6477677-7501-4fb7-a64b-b5ea5f15ebea",
   "metadata": {},
   "source": [
    "## existing architecture"
   ]
  },
  {
   "cell_type": "code",
   "execution_count": 102,
   "id": "6d8c970d-a53a-4cec-86d2-a5860dcd9965",
   "metadata": {},
   "outputs": [],
   "source": [
    "import gensim"
   ]
  },
  {
   "cell_type": "code",
   "execution_count": 103,
   "id": "8ec8999a-f1a7-4551-8eae-185c662f115e",
   "metadata": {},
   "outputs": [],
   "source": [
    "sentences=[i.split() for i in train['clean tweet'].values]"
   ]
  },
  {
   "cell_type": "code",
   "execution_count": 105,
   "id": "28c45348-f7c8-4269-b617-0edd6e7a5a6d",
   "metadata": {},
   "outputs": [],
   "source": [
    "w2v = gensim.models.Word2Vec(sentences=[i.split() for i in train['clean tweet'].values], min_count=1)"
   ]
  },
  {
   "cell_type": "code",
   "execution_count": 106,
   "id": "b2847166-a117-4d93-9e7d-2374a58b680b",
   "metadata": {},
   "outputs": [
    {
     "data": {
      "text/plain": [
       "gensim.models.word2vec.Word2Vec"
      ]
     },
     "execution_count": 106,
     "metadata": {},
     "output_type": "execute_result"
    }
   ],
   "source": [
    "type(w2v)"
   ]
  },
  {
   "cell_type": "code",
   "execution_count": 107,
   "id": "cb2db235-5249-4b82-a5b3-39d6f97a799c",
   "metadata": {},
   "outputs": [
    {
     "data": {
      "text/plain": [
       "(27449, 100)"
      ]
     },
     "execution_count": 107,
     "metadata": {},
     "output_type": "execute_result"
    }
   ],
   "source": [
    "w2v.wv.vectors.shape"
   ]
  },
  {
   "cell_type": "code",
   "execution_count": 108,
   "id": "bb85dc99-40ed-4835-9c82-9bc72ff4b5fa",
   "metadata": {},
   "outputs": [
    {
     "data": {
      "text/plain": [
       "23242"
      ]
     },
     "execution_count": 108,
     "metadata": {},
     "output_type": "execute_result"
    }
   ],
   "source": [
    "len(vectorizer.get_vocabulary())"
   ]
  },
  {
   "cell_type": "code",
   "execution_count": 109,
   "id": "a597e3f1-6ce2-465a-80e7-44a92903864c",
   "metadata": {},
   "outputs": [
    {
     "data": {
      "text/plain": [
       "<tf.Tensor: shape=(7920, 60), dtype=int64, numpy=\n",
       "array([[ 2332, 11884,  1470, ...,     0,     0,     0],\n",
       "       [  101,    13,  9074, ...,     0,     0,     0],\n",
       "       [  103,    38,    31, ...,     0,     0,     0],\n",
       "       ...,\n",
       "       [ 4032,     7,  1646, ...,     0,     0,     0],\n",
       "       [  101,    68,     7, ...,     0,     0,     0],\n",
       "       [    5,  2802,     5, ...,     0,     0,     0]])>"
      ]
     },
     "execution_count": 109,
     "metadata": {},
     "output_type": "execute_result"
    }
   ],
   "source": [
    "vectorizer(np.array([[s] for s in train['clean tweet'].values]))"
   ]
  },
  {
   "cell_type": "code",
   "execution_count": 110,
   "id": "410a03e0-75d8-4f3b-8571-46e860b2756b",
   "metadata": {},
   "outputs": [],
   "source": [
    "embedding_matrix = w2v.wv.vectors"
   ]
  },
  {
   "cell_type": "code",
   "execution_count": 111,
   "id": "45283c14-0e42-4b92-b7d3-fa3ce37858c9",
   "metadata": {},
   "outputs": [
    {
     "name": "stdout",
     "output_type": "stream",
     "text": [
      "word #0/27449 is http\n",
      "word #1/27449 is com\n",
      "word #2/27449 is p\n",
      "word #3/27449 is iphone\n",
      "word #4/27449 is instagram\n",
      "word #5/27449 is apple\n",
      "word #6/27449 is to\n",
      "word #7/27449 is my\n",
      "word #8/27449 is I\n",
      "word #9/27449 is the\n"
     ]
    }
   ],
   "source": [
    "for index, word in enumerate(w2v.wv.index_to_key):\n",
    "    if index == 10:\n",
    "        break\n",
    "    print(f\"word #{index}/{len(w2v.wv.index_to_key)} is {word}\")"
   ]
  },
  {
   "cell_type": "code",
   "execution_count": 112,
   "id": "056ff587-ae59-41dc-ab1a-3be2ab50d991",
   "metadata": {},
   "outputs": [],
   "source": [
    "vocab_size = w2v.wv.vectors.shape[0]"
   ]
  },
  {
   "cell_type": "code",
   "execution_count": 113,
   "id": "eaf60b32-32c7-43c9-ae71-b1b026d4bebc",
   "metadata": {},
   "outputs": [],
   "source": [
    "model = Sequential()\n",
    "model.add(Embedding(input_dim=vocab_size, output_dim=100, input_length=60, \n",
    "                    embeddings_initializer=tf.keras.initializers.constant(embedding_matrix), trainable=False))\n",
    "model.add(Dropout(0.3))\n",
    "model.add(Conv1D(filters=15, kernel_size=3, activation='relu'))\n",
    "model.add(MaxPool1D())\n",
    "model.add(Dense(50, activation='relu'))\n",
    "model.add(Flatten())\n",
    "model.add(Dense(1, activation='sigmoid'))"
   ]
  },
  {
   "cell_type": "code",
   "execution_count": 114,
   "id": "ddbc4736-a343-4b40-a139-aae623a78fd3",
   "metadata": {},
   "outputs": [
    {
     "name": "stdout",
     "output_type": "stream",
     "text": [
      "Model: \"sequential_1\"\n",
      "_________________________________________________________________\n",
      " Layer (type)                Output Shape              Param #   \n",
      "=================================================================\n",
      " embedding_1 (Embedding)     (None, 60, 100)           2744900   \n",
      "                                                                 \n",
      " dropout_1 (Dropout)         (None, 60, 100)           0         \n",
      "                                                                 \n",
      " conv1d_1 (Conv1D)           (None, 58, 15)            4515      \n",
      "                                                                 \n",
      " max_pooling1d_1 (MaxPooling  (None, 29, 15)           0         \n",
      " 1D)                                                             \n",
      "                                                                 \n",
      " dense_2 (Dense)             (None, 29, 50)            800       \n",
      "                                                                 \n",
      " flatten_1 (Flatten)         (None, 1450)              0         \n",
      "                                                                 \n",
      " dense_3 (Dense)             (None, 1)                 1451      \n",
      "                                                                 \n",
      "=================================================================\n",
      "Total params: 2,751,666\n",
      "Trainable params: 6,766\n",
      "Non-trainable params: 2,744,900\n",
      "_________________________________________________________________\n"
     ]
    }
   ],
   "source": [
    "model.summary()"
   ]
  },
  {
   "cell_type": "code",
   "execution_count": 115,
   "id": "04c939c4-447c-4cac-b4a2-3b637bc8f3f2",
   "metadata": {},
   "outputs": [],
   "source": [
    "model.compile(optimizer=tf.keras.optimizers.Adam(), \n",
    "              loss=tf.keras.losses.BinaryCrossentropy(), \n",
    "              metrics=[tf.keras.metrics.BinaryAccuracy()])"
   ]
  },
  {
   "cell_type": "code",
   "execution_count": 116,
   "id": "ae57b22b-02d6-4f5b-8bc1-0d0be1d45778",
   "metadata": {},
   "outputs": [],
   "source": [
    "callbacks = [EarlyStopping(monitor='val_binary_accuracy', min_delta=.0001, patience=20, verbose=1, \n",
    "                           mode='max', baseline=0.5, restore_best_weights=True, start_from_epoch=10)]"
   ]
  },
  {
   "cell_type": "code",
   "execution_count": 117,
   "id": "597511f7-5bc1-44f2-8ab6-a22e5eccbb98",
   "metadata": {
    "scrolled": true,
    "tags": []
   },
   "outputs": [
    {
     "name": "stdout",
     "output_type": "stream",
     "text": [
      "Epoch 1/50\n",
      "45/45 [==============================] - 2s 18ms/step - loss: 0.5847 - binary_accuracy: 0.7305 - val_loss: 0.5364 - val_binary_accuracy: 0.7449\n",
      "Epoch 2/50\n",
      "45/45 [==============================] - 1s 13ms/step - loss: 0.5009 - binary_accuracy: 0.7507 - val_loss: 0.4530 - val_binary_accuracy: 0.7736\n",
      "Epoch 3/50\n",
      "45/45 [==============================] - 1s 13ms/step - loss: 0.4464 - binary_accuracy: 0.7751 - val_loss: 0.4121 - val_binary_accuracy: 0.7984\n",
      "Epoch 4/50\n",
      "45/45 [==============================] - 1s 13ms/step - loss: 0.4227 - binary_accuracy: 0.7976 - val_loss: 0.4074 - val_binary_accuracy: 0.8169\n",
      "Epoch 5/50\n",
      "45/45 [==============================] - 1s 13ms/step - loss: 0.4117 - binary_accuracy: 0.7998 - val_loss: 0.3934 - val_binary_accuracy: 0.8215\n",
      "Epoch 6/50\n",
      "45/45 [==============================] - 1s 14ms/step - loss: 0.3987 - binary_accuracy: 0.8113 - val_loss: 0.3988 - val_binary_accuracy: 0.8253\n",
      "Epoch 7/50\n",
      "45/45 [==============================] - 1s 14ms/step - loss: 0.3919 - binary_accuracy: 0.8231 - val_loss: 0.3698 - val_binary_accuracy: 0.8295\n",
      "Epoch 8/50\n",
      "45/45 [==============================] - 1s 14ms/step - loss: 0.3839 - binary_accuracy: 0.8231 - val_loss: 0.3674 - val_binary_accuracy: 0.8300\n",
      "Epoch 9/50\n",
      "45/45 [==============================] - 1s 14ms/step - loss: 0.3768 - binary_accuracy: 0.8261 - val_loss: 0.3579 - val_binary_accuracy: 0.8371\n",
      "Epoch 10/50\n",
      "45/45 [==============================] - 1s 14ms/step - loss: 0.3735 - binary_accuracy: 0.8285 - val_loss: 0.3610 - val_binary_accuracy: 0.8367\n",
      "Epoch 11/50\n",
      "45/45 [==============================] - 1s 15ms/step - loss: 0.3700 - binary_accuracy: 0.8346 - val_loss: 0.3655 - val_binary_accuracy: 0.8245\n",
      "Epoch 12/50\n",
      "45/45 [==============================] - 1s 15ms/step - loss: 0.3642 - binary_accuracy: 0.8348 - val_loss: 0.3498 - val_binary_accuracy: 0.8418\n",
      "Epoch 13/50\n",
      "45/45 [==============================] - 1s 14ms/step - loss: 0.3573 - binary_accuracy: 0.8395 - val_loss: 0.3510 - val_binary_accuracy: 0.8325\n",
      "Epoch 14/50\n",
      "45/45 [==============================] - 1s 14ms/step - loss: 0.3546 - binary_accuracy: 0.8400 - val_loss: 0.3505 - val_binary_accuracy: 0.8350\n",
      "Epoch 15/50\n",
      "45/45 [==============================] - 1s 13ms/step - loss: 0.3506 - binary_accuracy: 0.8395 - val_loss: 0.3440 - val_binary_accuracy: 0.8413\n",
      "Epoch 16/50\n",
      "45/45 [==============================] - 1s 13ms/step - loss: 0.3569 - binary_accuracy: 0.8373 - val_loss: 0.3457 - val_binary_accuracy: 0.8460\n",
      "Epoch 17/50\n",
      "45/45 [==============================] - 1s 13ms/step - loss: 0.3511 - binary_accuracy: 0.8425 - val_loss: 0.3426 - val_binary_accuracy: 0.8388\n",
      "Epoch 18/50\n",
      "45/45 [==============================] - 1s 12ms/step - loss: 0.3460 - binary_accuracy: 0.8436 - val_loss: 0.3434 - val_binary_accuracy: 0.8380\n",
      "Epoch 19/50\n",
      "45/45 [==============================] - 1s 12ms/step - loss: 0.3461 - binary_accuracy: 0.8456 - val_loss: 0.3614 - val_binary_accuracy: 0.8468\n",
      "Epoch 20/50\n",
      "45/45 [==============================] - 1s 13ms/step - loss: 0.3502 - binary_accuracy: 0.8449 - val_loss: 0.3388 - val_binary_accuracy: 0.8451\n",
      "Epoch 21/50\n",
      "45/45 [==============================] - 1s 13ms/step - loss: 0.3435 - binary_accuracy: 0.8461 - val_loss: 0.3400 - val_binary_accuracy: 0.8472\n",
      "Epoch 22/50\n",
      "45/45 [==============================] - 1s 13ms/step - loss: 0.3361 - binary_accuracy: 0.8497 - val_loss: 0.3394 - val_binary_accuracy: 0.8426\n",
      "Epoch 23/50\n",
      "45/45 [==============================] - 1s 13ms/step - loss: 0.3432 - binary_accuracy: 0.8469 - val_loss: 0.3387 - val_binary_accuracy: 0.8392\n",
      "Epoch 24/50\n",
      "45/45 [==============================] - 1s 13ms/step - loss: 0.3368 - binary_accuracy: 0.8488 - val_loss: 0.3499 - val_binary_accuracy: 0.8485\n",
      "Epoch 25/50\n",
      "45/45 [==============================] - 1s 13ms/step - loss: 0.3407 - binary_accuracy: 0.8461 - val_loss: 0.3375 - val_binary_accuracy: 0.8434\n",
      "Epoch 26/50\n",
      "45/45 [==============================] - 1s 13ms/step - loss: 0.3316 - binary_accuracy: 0.8487 - val_loss: 0.3415 - val_binary_accuracy: 0.8489\n",
      "Epoch 27/50\n",
      "45/45 [==============================] - 1s 12ms/step - loss: 0.3272 - binary_accuracy: 0.8535 - val_loss: 0.3601 - val_binary_accuracy: 0.8476\n",
      "Epoch 28/50\n",
      "45/45 [==============================] - 1s 14ms/step - loss: 0.3299 - binary_accuracy: 0.8534 - val_loss: 0.3477 - val_binary_accuracy: 0.8502\n",
      "Epoch 29/50\n",
      "45/45 [==============================] - 1s 13ms/step - loss: 0.3285 - binary_accuracy: 0.8543 - val_loss: 0.3382 - val_binary_accuracy: 0.8455\n",
      "Epoch 30/50\n",
      "45/45 [==============================] - 1s 13ms/step - loss: 0.3272 - binary_accuracy: 0.8564 - val_loss: 0.3359 - val_binary_accuracy: 0.8451\n",
      "Epoch 31/50\n",
      "45/45 [==============================] - 1s 13ms/step - loss: 0.3284 - binary_accuracy: 0.8559 - val_loss: 0.3376 - val_binary_accuracy: 0.8468\n",
      "Epoch 32/50\n",
      "45/45 [==============================] - 1s 13ms/step - loss: 0.3246 - binary_accuracy: 0.8600 - val_loss: 0.3361 - val_binary_accuracy: 0.8464\n",
      "Epoch 33/50\n",
      "45/45 [==============================] - 1s 13ms/step - loss: 0.3184 - binary_accuracy: 0.8584 - val_loss: 0.3387 - val_binary_accuracy: 0.8497\n",
      "Epoch 34/50\n",
      "45/45 [==============================] - 1s 13ms/step - loss: 0.3194 - binary_accuracy: 0.8608 - val_loss: 0.3366 - val_binary_accuracy: 0.8434\n",
      "Epoch 35/50\n",
      "45/45 [==============================] - 1s 13ms/step - loss: 0.3197 - binary_accuracy: 0.8608 - val_loss: 0.3361 - val_binary_accuracy: 0.8439\n",
      "Epoch 36/50\n",
      "45/45 [==============================] - 1s 13ms/step - loss: 0.3158 - binary_accuracy: 0.8640 - val_loss: 0.3376 - val_binary_accuracy: 0.8455\n",
      "Epoch 37/50\n",
      "45/45 [==============================] - 1s 13ms/step - loss: 0.3181 - binary_accuracy: 0.8591 - val_loss: 0.3389 - val_binary_accuracy: 0.8443\n",
      "Epoch 38/50\n",
      "45/45 [==============================] - 1s 13ms/step - loss: 0.3131 - binary_accuracy: 0.8611 - val_loss: 0.3405 - val_binary_accuracy: 0.8510\n",
      "Epoch 39/50\n",
      "45/45 [==============================] - 1s 13ms/step - loss: 0.3095 - binary_accuracy: 0.8647 - val_loss: 0.3380 - val_binary_accuracy: 0.8413\n",
      "Epoch 40/50\n",
      "45/45 [==============================] - 1s 13ms/step - loss: 0.3089 - binary_accuracy: 0.8638 - val_loss: 0.3382 - val_binary_accuracy: 0.8464\n",
      "Epoch 41/50\n",
      "45/45 [==============================] - 1s 13ms/step - loss: 0.3090 - binary_accuracy: 0.8658 - val_loss: 0.3410 - val_binary_accuracy: 0.8481\n",
      "Epoch 42/50\n",
      "45/45 [==============================] - 1s 12ms/step - loss: 0.3094 - binary_accuracy: 0.8663 - val_loss: 0.3415 - val_binary_accuracy: 0.8380\n",
      "Epoch 43/50\n",
      "45/45 [==============================] - 1s 12ms/step - loss: 0.3095 - binary_accuracy: 0.8653 - val_loss: 0.3482 - val_binary_accuracy: 0.8472\n",
      "Epoch 44/50\n",
      "45/45 [==============================] - 1s 12ms/step - loss: 0.3095 - binary_accuracy: 0.8631 - val_loss: 0.3415 - val_binary_accuracy: 0.8413\n",
      "Epoch 45/50\n",
      "45/45 [==============================] - 1s 12ms/step - loss: 0.3068 - binary_accuracy: 0.8644 - val_loss: 0.3430 - val_binary_accuracy: 0.8392\n",
      "Epoch 46/50\n",
      "45/45 [==============================] - 1s 12ms/step - loss: 0.3003 - binary_accuracy: 0.8678 - val_loss: 0.3428 - val_binary_accuracy: 0.8455\n",
      "Epoch 47/50\n",
      "45/45 [==============================] - 1s 12ms/step - loss: 0.3068 - binary_accuracy: 0.8685 - val_loss: 0.3430 - val_binary_accuracy: 0.8375\n",
      "Epoch 48/50\n",
      "45/45 [==============================] - 1s 12ms/step - loss: 0.3016 - binary_accuracy: 0.8696 - val_loss: 0.3433 - val_binary_accuracy: 0.8430\n",
      "Epoch 49/50\n",
      "45/45 [==============================] - 1s 12ms/step - loss: 0.3029 - binary_accuracy: 0.8703 - val_loss: 0.3432 - val_binary_accuracy: 0.8439\n",
      "Epoch 50/50\n",
      "45/45 [==============================] - 1s 12ms/step - loss: 0.3000 - binary_accuracy: 0.8719 - val_loss: 0.3429 - val_binary_accuracy: 0.8409\n"
     ]
    }
   ],
   "source": [
    "history = model.fit(X_train, y_train, batch_size=124, epochs=50, callbacks=callbacks, \n",
    "                    validation_data=(X_test, y_test), )"
   ]
  },
  {
   "cell_type": "code",
   "execution_count": 118,
   "id": "2d811ef0-65cb-49ac-ae49-2915c125e3db",
   "metadata": {},
   "outputs": [
    {
     "data": {
      "text/plain": [
       "array([\"I hate the new iphone upgrade Won't let me download apps ugh apple sucks\",\n",
       "       'currently shitting my fucking pants apple iMac cashmoney raddest swagswagswag http instagr am p UUIS0bIBZo',\n",
       "       \"I'd like to puts some CD ROMS on my iPad is that possible ' Yes but wouldn't that block the screen\",\n",
       "       ...,\n",
       "       'There goes a crack right across the screen If you could actually provide a more durable screen that would be great Apple Iphone',\n",
       "       'codeofinterest as i said Adobe big time we may well as include apple to',\n",
       "       'Finally I got it thanx my father Samsung galaxy s3 gift father phone new http instagr am p NoxkiPE'],\n",
       "      dtype=object)"
      ]
     },
     "execution_count": 118,
     "metadata": {},
     "output_type": "execute_result"
    }
   ],
   "source": [
    "test['clean tweet'].values"
   ]
  },
  {
   "cell_type": "code",
   "execution_count": 119,
   "id": "df69dbe6-1237-43c3-973c-b221b2118d9a",
   "metadata": {},
   "outputs": [],
   "source": [
    "test_vectors = vectorizer(test['clean tweet'].values)"
   ]
  },
  {
   "cell_type": "code",
   "execution_count": 266,
   "id": "9a04e812-53e5-4f01-b91d-1988a1e76b30",
   "metadata": {},
   "outputs": [
    {
     "data": {
      "text/plain": [
       "TensorShape([1953, 66])"
      ]
     },
     "execution_count": 266,
     "metadata": {},
     "output_type": "execute_result"
    }
   ],
   "source": [
    "test_vectors.shape"
   ]
  },
  {
   "cell_type": "code",
   "execution_count": 267,
   "id": "0007eb69-6c1b-4e97-924f-3e72c444de0b",
   "metadata": {},
   "outputs": [
    {
     "name": "stdout",
     "output_type": "stream",
     "text": [
      "248/248 [==============================] - 0s 2ms/step - loss: 0.1433 - binary_accuracy: 0.9581\n"
     ]
    },
    {
     "data": {
      "text/plain": [
       "[0.14330023527145386, 0.9580808281898499]"
      ]
     },
     "execution_count": 267,
     "metadata": {},
     "output_type": "execute_result"
    }
   ],
   "source": [
    "model.evaluate(output_vector, train['label'])"
   ]
  },
  {
   "cell_type": "code",
   "execution_count": 268,
   "id": "e4996473-6164-4457-9f92-367fa5cb1920",
   "metadata": {},
   "outputs": [
    {
     "name": "stdout",
     "output_type": "stream",
     "text": [
      "62/62 [==============================] - 0s 2ms/step\n"
     ]
    }
   ],
   "source": [
    "prediction = model.predict(test_vectors)"
   ]
  },
  {
   "cell_type": "code",
   "execution_count": 269,
   "id": "c667a845-8abe-4fe8-a8d1-3d872ac3de5e",
   "metadata": {},
   "outputs": [],
   "source": [
    "prediction_cat = (prediction >= 0.5).astype(int)"
   ]
  },
  {
   "cell_type": "code",
   "execution_count": 270,
   "id": "eb5aa25e-d65a-4c37-b19b-250be7b55886",
   "metadata": {},
   "outputs": [
    {
     "data": {
      "text/plain": [
       "array([[1],\n",
       "       [1],\n",
       "       [1],\n",
       "       ...,\n",
       "       [1],\n",
       "       [1],\n",
       "       [0]])"
      ]
     },
     "execution_count": 270,
     "metadata": {},
     "output_type": "execute_result"
    }
   ],
   "source": [
    "prediction_cat"
   ]
  },
  {
   "cell_type": "code",
   "execution_count": 271,
   "id": "59d288f1-8bbd-4183-b031-b5ae434d927a",
   "metadata": {},
   "outputs": [
    {
     "data": {
      "text/plain": [
       "array([7921, 7922, 7923, ..., 9871, 9872, 9873], dtype=int64)"
      ]
     },
     "execution_count": 271,
     "metadata": {},
     "output_type": "execute_result"
    }
   ],
   "source": [
    "test['id'].values"
   ]
  },
  {
   "cell_type": "code",
   "execution_count": 272,
   "id": "3fe4c66e-77b3-465b-b2fa-3ce29a46b8cb",
   "metadata": {},
   "outputs": [
    {
     "data": {
      "text/html": [
       "<div>\n",
       "<style scoped>\n",
       "    .dataframe tbody tr th:only-of-type {\n",
       "        vertical-align: middle;\n",
       "    }\n",
       "\n",
       "    .dataframe tbody tr th {\n",
       "        vertical-align: top;\n",
       "    }\n",
       "\n",
       "    .dataframe thead th {\n",
       "        text-align: right;\n",
       "    }\n",
       "</style>\n",
       "<table border=\"1\" class=\"dataframe\">\n",
       "  <thead>\n",
       "    <tr style=\"text-align: right;\">\n",
       "      <th></th>\n",
       "      <th>id</th>\n",
       "      <th>label</th>\n",
       "    </tr>\n",
       "  </thead>\n",
       "  <tbody>\n",
       "    <tr>\n",
       "      <th>0</th>\n",
       "      <td>7921</td>\n",
       "      <td>1</td>\n",
       "    </tr>\n",
       "    <tr>\n",
       "      <th>1</th>\n",
       "      <td>7922</td>\n",
       "      <td>1</td>\n",
       "    </tr>\n",
       "    <tr>\n",
       "      <th>2</th>\n",
       "      <td>7923</td>\n",
       "      <td>1</td>\n",
       "    </tr>\n",
       "    <tr>\n",
       "      <th>3</th>\n",
       "      <td>7924</td>\n",
       "      <td>1</td>\n",
       "    </tr>\n",
       "    <tr>\n",
       "      <th>4</th>\n",
       "      <td>7925</td>\n",
       "      <td>1</td>\n",
       "    </tr>\n",
       "    <tr>\n",
       "      <th>...</th>\n",
       "      <td>...</td>\n",
       "      <td>...</td>\n",
       "    </tr>\n",
       "    <tr>\n",
       "      <th>1948</th>\n",
       "      <td>9869</td>\n",
       "      <td>1</td>\n",
       "    </tr>\n",
       "    <tr>\n",
       "      <th>1949</th>\n",
       "      <td>9870</td>\n",
       "      <td>0</td>\n",
       "    </tr>\n",
       "    <tr>\n",
       "      <th>1950</th>\n",
       "      <td>9871</td>\n",
       "      <td>1</td>\n",
       "    </tr>\n",
       "    <tr>\n",
       "      <th>1951</th>\n",
       "      <td>9872</td>\n",
       "      <td>1</td>\n",
       "    </tr>\n",
       "    <tr>\n",
       "      <th>1952</th>\n",
       "      <td>9873</td>\n",
       "      <td>0</td>\n",
       "    </tr>\n",
       "  </tbody>\n",
       "</table>\n",
       "<p>1953 rows × 2 columns</p>\n",
       "</div>"
      ],
      "text/plain": [
       "        id  label\n",
       "0     7921      1\n",
       "1     7922      1\n",
       "2     7923      1\n",
       "3     7924      1\n",
       "4     7925      1\n",
       "...    ...    ...\n",
       "1948  9869      1\n",
       "1949  9870      0\n",
       "1950  9871      1\n",
       "1951  9872      1\n",
       "1952  9873      0\n",
       "\n",
       "[1953 rows x 2 columns]"
      ]
     },
     "execution_count": 272,
     "metadata": {},
     "output_type": "execute_result"
    }
   ],
   "source": [
    "result = pd.DataFrame(prediction_cat, test['id'].values).reset_index()\n",
    "result.columns=['id', 'label']\n",
    "result"
   ]
  },
  {
   "cell_type": "code",
   "execution_count": 273,
   "id": "4dbf589d-e705-4315-bfbb-823b4e7eb5c4",
   "metadata": {},
   "outputs": [],
   "source": [
    "result.to_csv('submission1.csv', index=False)"
   ]
  },
  {
   "cell_type": "markdown",
   "id": "ab358530-4096-4ab1-a8f8-256d105cac72",
   "metadata": {},
   "source": [
    "## pre-trained model weights"
   ]
  },
  {
   "cell_type": "code",
   "execution_count": 345,
   "id": "107a2c25-f31a-4c45-bc58-edbf99004a4b",
   "metadata": {
    "collapsed": true,
    "jupyter": {
     "outputs_hidden": true
    },
    "tags": []
   },
   "outputs": [
    {
     "ename": "KeyboardInterrupt",
     "evalue": "",
     "output_type": "error",
     "traceback": [
      "\u001b[1;31m---------------------------------------------------------------------------\u001b[0m",
      "\u001b[1;31mKeyboardInterrupt\u001b[0m                         Traceback (most recent call last)",
      "Cell \u001b[1;32mIn[345], line 1\u001b[0m\n\u001b[1;32m----> 1\u001b[0m wv \u001b[38;5;241m=\u001b[39m \u001b[43mgensim\u001b[49m\u001b[38;5;241;43m.\u001b[39;49m\u001b[43mmodels\u001b[49m\u001b[38;5;241;43m.\u001b[39;49m\u001b[43mKeyedVectors\u001b[49m\u001b[38;5;241;43m.\u001b[39;49m\u001b[43mload_word2vec_format\u001b[49m\u001b[43m(\u001b[49m\u001b[38;5;124;43m'\u001b[39;49m\u001b[38;5;124;43mD:\u001b[39;49m\u001b[38;5;124;43m\\\u001b[39;49m\u001b[38;5;124;43mprojects\u001b[39;49m\u001b[38;5;124;43m\\\u001b[39;49m\u001b[38;5;124;43mGoogleNews-vectors-negative300.bin.gz\u001b[39;49m\u001b[38;5;124;43m'\u001b[39;49m\u001b[43m,\u001b[49m\u001b[43m \u001b[49m\u001b[43mbinary\u001b[49m\u001b[38;5;241;43m=\u001b[39;49m\u001b[38;5;28;43;01mTrue\u001b[39;49;00m\u001b[43m)\u001b[49m\n",
      "File \u001b[1;32m~\\anaconda3\\lib\\site-packages\\gensim\\models\\keyedvectors.py:1719\u001b[0m, in \u001b[0;36mKeyedVectors.load_word2vec_format\u001b[1;34m(cls, fname, fvocab, binary, encoding, unicode_errors, limit, datatype, no_header)\u001b[0m\n\u001b[0;32m   1672\u001b[0m \u001b[38;5;129m@classmethod\u001b[39m\n\u001b[0;32m   1673\u001b[0m \u001b[38;5;28;01mdef\u001b[39;00m \u001b[38;5;21mload_word2vec_format\u001b[39m(\n\u001b[0;32m   1674\u001b[0m         \u001b[38;5;28mcls\u001b[39m, fname, fvocab\u001b[38;5;241m=\u001b[39m\u001b[38;5;28;01mNone\u001b[39;00m, binary\u001b[38;5;241m=\u001b[39m\u001b[38;5;28;01mFalse\u001b[39;00m, encoding\u001b[38;5;241m=\u001b[39m\u001b[38;5;124m'\u001b[39m\u001b[38;5;124mutf8\u001b[39m\u001b[38;5;124m'\u001b[39m, unicode_errors\u001b[38;5;241m=\u001b[39m\u001b[38;5;124m'\u001b[39m\u001b[38;5;124mstrict\u001b[39m\u001b[38;5;124m'\u001b[39m,\n\u001b[0;32m   1675\u001b[0m         limit\u001b[38;5;241m=\u001b[39m\u001b[38;5;28;01mNone\u001b[39;00m, datatype\u001b[38;5;241m=\u001b[39mREAL, no_header\u001b[38;5;241m=\u001b[39m\u001b[38;5;28;01mFalse\u001b[39;00m,\n\u001b[0;32m   1676\u001b[0m     ):\n\u001b[0;32m   1677\u001b[0m     \u001b[38;5;124;03m\"\"\"Load KeyedVectors from a file produced by the original C word2vec-tool format.\u001b[39;00m\n\u001b[0;32m   1678\u001b[0m \n\u001b[0;32m   1679\u001b[0m \u001b[38;5;124;03m    Warnings\u001b[39;00m\n\u001b[1;32m   (...)\u001b[0m\n\u001b[0;32m   1717\u001b[0m \n\u001b[0;32m   1718\u001b[0m \u001b[38;5;124;03m    \"\"\"\u001b[39;00m\n\u001b[1;32m-> 1719\u001b[0m     \u001b[38;5;28;01mreturn\u001b[39;00m \u001b[43m_load_word2vec_format\u001b[49m\u001b[43m(\u001b[49m\n\u001b[0;32m   1720\u001b[0m \u001b[43m        \u001b[49m\u001b[38;5;28;43mcls\u001b[39;49m\u001b[43m,\u001b[49m\u001b[43m \u001b[49m\u001b[43mfname\u001b[49m\u001b[43m,\u001b[49m\u001b[43m \u001b[49m\u001b[43mfvocab\u001b[49m\u001b[38;5;241;43m=\u001b[39;49m\u001b[43mfvocab\u001b[49m\u001b[43m,\u001b[49m\u001b[43m \u001b[49m\u001b[43mbinary\u001b[49m\u001b[38;5;241;43m=\u001b[39;49m\u001b[43mbinary\u001b[49m\u001b[43m,\u001b[49m\u001b[43m \u001b[49m\u001b[43mencoding\u001b[49m\u001b[38;5;241;43m=\u001b[39;49m\u001b[43mencoding\u001b[49m\u001b[43m,\u001b[49m\u001b[43m \u001b[49m\u001b[43municode_errors\u001b[49m\u001b[38;5;241;43m=\u001b[39;49m\u001b[43municode_errors\u001b[49m\u001b[43m,\u001b[49m\n\u001b[0;32m   1721\u001b[0m \u001b[43m        \u001b[49m\u001b[43mlimit\u001b[49m\u001b[38;5;241;43m=\u001b[39;49m\u001b[43mlimit\u001b[49m\u001b[43m,\u001b[49m\u001b[43m \u001b[49m\u001b[43mdatatype\u001b[49m\u001b[38;5;241;43m=\u001b[39;49m\u001b[43mdatatype\u001b[49m\u001b[43m,\u001b[49m\u001b[43m \u001b[49m\u001b[43mno_header\u001b[49m\u001b[38;5;241;43m=\u001b[39;49m\u001b[43mno_header\u001b[49m\u001b[43m,\u001b[49m\n\u001b[0;32m   1722\u001b[0m \u001b[43m    \u001b[49m\u001b[43m)\u001b[49m\n",
      "File \u001b[1;32m~\\anaconda3\\lib\\site-packages\\gensim\\models\\keyedvectors.py:2065\u001b[0m, in \u001b[0;36m_load_word2vec_format\u001b[1;34m(cls, fname, fvocab, binary, encoding, unicode_errors, limit, datatype, no_header, binary_chunk_size)\u001b[0m\n\u001b[0;32m   2062\u001b[0m kv \u001b[38;5;241m=\u001b[39m \u001b[38;5;28mcls\u001b[39m(vector_size, vocab_size, dtype\u001b[38;5;241m=\u001b[39mdatatype)\n\u001b[0;32m   2064\u001b[0m \u001b[38;5;28;01mif\u001b[39;00m binary:\n\u001b[1;32m-> 2065\u001b[0m     \u001b[43m_word2vec_read_binary\u001b[49m\u001b[43m(\u001b[49m\n\u001b[0;32m   2066\u001b[0m \u001b[43m        \u001b[49m\u001b[43mfin\u001b[49m\u001b[43m,\u001b[49m\u001b[43m \u001b[49m\u001b[43mkv\u001b[49m\u001b[43m,\u001b[49m\u001b[43m \u001b[49m\u001b[43mcounts\u001b[49m\u001b[43m,\u001b[49m\u001b[43m \u001b[49m\u001b[43mvocab_size\u001b[49m\u001b[43m,\u001b[49m\u001b[43m \u001b[49m\u001b[43mvector_size\u001b[49m\u001b[43m,\u001b[49m\u001b[43m \u001b[49m\u001b[43mdatatype\u001b[49m\u001b[43m,\u001b[49m\u001b[43m \u001b[49m\u001b[43municode_errors\u001b[49m\u001b[43m,\u001b[49m\u001b[43m \u001b[49m\u001b[43mbinary_chunk_size\u001b[49m\u001b[43m,\u001b[49m\u001b[43m \u001b[49m\u001b[43mencoding\u001b[49m\n\u001b[0;32m   2067\u001b[0m \u001b[43m    \u001b[49m\u001b[43m)\u001b[49m\n\u001b[0;32m   2068\u001b[0m \u001b[38;5;28;01melse\u001b[39;00m:\n\u001b[0;32m   2069\u001b[0m     _word2vec_read_text(fin, kv, counts, vocab_size, vector_size, datatype, unicode_errors, encoding)\n",
      "File \u001b[1;32m~\\anaconda3\\lib\\site-packages\\gensim\\models\\keyedvectors.py:1960\u001b[0m, in \u001b[0;36m_word2vec_read_binary\u001b[1;34m(fin, kv, counts, vocab_size, vector_size, datatype, unicode_errors, binary_chunk_size, encoding)\u001b[0m\n\u001b[0;32m   1958\u001b[0m new_chunk \u001b[38;5;241m=\u001b[39m fin\u001b[38;5;241m.\u001b[39mread(binary_chunk_size)\n\u001b[0;32m   1959\u001b[0m chunk \u001b[38;5;241m+\u001b[39m\u001b[38;5;241m=\u001b[39m new_chunk\n\u001b[1;32m-> 1960\u001b[0m processed_words, chunk \u001b[38;5;241m=\u001b[39m \u001b[43m_add_bytes_to_kv\u001b[49m\u001b[43m(\u001b[49m\n\u001b[0;32m   1961\u001b[0m \u001b[43m    \u001b[49m\u001b[43mkv\u001b[49m\u001b[43m,\u001b[49m\u001b[43m \u001b[49m\u001b[43mcounts\u001b[49m\u001b[43m,\u001b[49m\u001b[43m \u001b[49m\u001b[43mchunk\u001b[49m\u001b[43m,\u001b[49m\u001b[43m \u001b[49m\u001b[43mvocab_size\u001b[49m\u001b[43m,\u001b[49m\u001b[43m \u001b[49m\u001b[43mvector_size\u001b[49m\u001b[43m,\u001b[49m\u001b[43m \u001b[49m\u001b[43mdatatype\u001b[49m\u001b[43m,\u001b[49m\u001b[43m \u001b[49m\u001b[43municode_errors\u001b[49m\u001b[43m,\u001b[49m\u001b[43m \u001b[49m\u001b[43mencoding\u001b[49m\u001b[43m)\u001b[49m\n\u001b[0;32m   1962\u001b[0m tot_processed_words \u001b[38;5;241m+\u001b[39m\u001b[38;5;241m=\u001b[39m processed_words\n\u001b[0;32m   1963\u001b[0m \u001b[38;5;28;01mif\u001b[39;00m \u001b[38;5;28mlen\u001b[39m(new_chunk) \u001b[38;5;241m<\u001b[39m binary_chunk_size:\n",
      "File \u001b[1;32m~\\anaconda3\\lib\\site-packages\\gensim\\models\\keyedvectors.py:1942\u001b[0m, in \u001b[0;36m_add_bytes_to_kv\u001b[1;34m(kv, counts, chunk, vocab_size, vector_size, datatype, unicode_errors, encoding)\u001b[0m\n\u001b[0;32m   1940\u001b[0m \u001b[38;5;66;03m# Some binary files are reported to have obsolete new line in the beginning of word, remove it\u001b[39;00m\n\u001b[0;32m   1941\u001b[0m word \u001b[38;5;241m=\u001b[39m word\u001b[38;5;241m.\u001b[39mlstrip(\u001b[38;5;124m'\u001b[39m\u001b[38;5;130;01m\\n\u001b[39;00m\u001b[38;5;124m'\u001b[39m)\n\u001b[1;32m-> 1942\u001b[0m vector \u001b[38;5;241m=\u001b[39m \u001b[43mfrombuffer\u001b[49m\u001b[43m(\u001b[49m\u001b[43mchunk\u001b[49m\u001b[43m,\u001b[49m\u001b[43m \u001b[49m\u001b[43moffset\u001b[49m\u001b[38;5;241;43m=\u001b[39;49m\u001b[43mi_vector\u001b[49m\u001b[43m,\u001b[49m\u001b[43m \u001b[49m\u001b[43mcount\u001b[49m\u001b[38;5;241;43m=\u001b[39;49m\u001b[43mvector_size\u001b[49m\u001b[43m,\u001b[49m\u001b[43m \u001b[49m\u001b[43mdtype\u001b[49m\u001b[38;5;241;43m=\u001b[39;49m\u001b[43mREAL\u001b[49m\u001b[43m)\u001b[49m\u001b[38;5;241;43m.\u001b[39;49m\u001b[43mastype\u001b[49m\u001b[43m(\u001b[49m\u001b[43mdatatype\u001b[49m\u001b[43m)\u001b[49m\n\u001b[0;32m   1943\u001b[0m _add_word_to_kv(kv, counts, word, vector, vocab_size)\n\u001b[0;32m   1944\u001b[0m start \u001b[38;5;241m=\u001b[39m i_vector \u001b[38;5;241m+\u001b[39m bytes_per_vector\n",
      "\u001b[1;31mKeyboardInterrupt\u001b[0m: "
     ]
    }
   ],
   "source": [
    "wv = gensim.models.KeyedVectors.load_word2vec_format('D:\\projects\\GoogleNews-vectors-negative300.bin.gz', binary=True)"
   ]
  },
  {
   "cell_type": "code",
   "execution_count": 135,
   "id": "4241ed8a-9a74-4e11-af29-74311f2429a1",
   "metadata": {
    "tags": []
   },
   "outputs": [],
   "source": [
    "wv = gensim.models.KeyedVectors.load_word2vec_format('/home/santhosh/projects/models/GoogleNews-vectors-negative300.bin.gz', binary=True)"
   ]
  },
  {
   "cell_type": "code",
   "execution_count": 139,
   "id": "b69e6d8a-7772-422a-a7dd-1a44b37034e7",
   "metadata": {},
   "outputs": [
    {
     "data": {
      "text/plain": [
       "(3000000, 300)"
      ]
     },
     "execution_count": 139,
     "metadata": {},
     "output_type": "execute_result"
    }
   ],
   "source": [
    "wv.vectors.shape"
   ]
  },
  {
   "cell_type": "code",
   "execution_count": 145,
   "id": "6f89dff6-2b66-4d33-82b0-6aeafcb86321",
   "metadata": {
    "collapsed": true,
    "jupyter": {
     "outputs_hidden": true
    },
    "tags": []
   },
   "outputs": [
    {
     "data": {
      "text/plain": [
       "array([ 1.38671875e-01, -9.17968750e-02,  3.49121094e-02,  1.50390625e-01,\n",
       "       -2.57873535e-03,  8.30078125e-02, -6.22558594e-02, -1.06445312e-01,\n",
       "       -1.06933594e-01,  1.70898438e-01, -1.50390625e-01, -2.39257812e-01,\n",
       "        2.19726562e-02, -2.98828125e-01, -3.39843750e-01,  2.34375000e-01,\n",
       "        4.44335938e-02,  8.30078125e-02, -1.75476074e-03,  9.09423828e-03,\n",
       "        1.41601562e-01,  3.53515625e-01,  2.63671875e-01,  1.23046875e-01,\n",
       "        1.47460938e-01, -3.95507812e-02, -1.50146484e-02, -1.23046875e-01,\n",
       "        1.05468750e-01, -1.31835938e-02,  1.63085938e-01,  1.27929688e-01,\n",
       "       -6.73828125e-02,  2.79541016e-02,  1.20605469e-01, -1.05957031e-01,\n",
       "        1.30859375e-01,  4.10156250e-02,  6.22558594e-02,  2.79296875e-01,\n",
       "        1.68945312e-01, -1.02539062e-01,  2.04101562e-01, -2.08007812e-01,\n",
       "        1.21093750e-01,  2.29492188e-01,  1.85546875e-02, -1.12792969e-01,\n",
       "        1.90429688e-02,  3.73535156e-02, -1.10351562e-01,  6.10351562e-02,\n",
       "        1.53320312e-01,  1.02539062e-01,  6.59179688e-02,  1.04003906e-01,\n",
       "        2.75878906e-02, -5.61523438e-02, -4.29687500e-02, -1.04980469e-01,\n",
       "        3.73535156e-02, -2.75878906e-02, -4.68750000e-02,  6.00585938e-02,\n",
       "        1.39770508e-02,  7.53784180e-03, -1.50390625e-01,  4.17480469e-02,\n",
       "        1.18164062e-01,  1.42578125e-01,  1.19140625e-01, -3.99780273e-03,\n",
       "        1.63085938e-01,  1.89208984e-02, -3.63281250e-01, -2.60009766e-02,\n",
       "       -1.28906250e-01,  1.55273438e-01,  1.31835938e-01,  2.77343750e-01,\n",
       "       -1.75781250e-02, -7.61718750e-02,  1.12792969e-01, -1.40625000e-01,\n",
       "       -2.55859375e-01, -1.27929688e-01,  5.83496094e-02,  1.23535156e-01,\n",
       "        9.37500000e-02, -1.37695312e-01,  2.02636719e-02,  1.54296875e-01,\n",
       "       -1.42578125e-01, -1.67968750e-01, -5.95703125e-02, -6.19506836e-03,\n",
       "        1.43554688e-01,  1.66015625e-01,  1.31835938e-01, -2.34375000e-01,\n",
       "       -4.51171875e-01, -7.37304688e-02,  5.05371094e-02, -4.02832031e-02,\n",
       "        6.86645508e-03,  2.03125000e-01, -1.58309937e-04,  1.66015625e-01,\n",
       "        1.26953125e-01, -1.95312500e-01, -2.67578125e-01, -3.12500000e-02,\n",
       "        3.08837891e-02,  3.85742188e-02,  2.11914062e-01, -1.26953125e-01,\n",
       "        1.13677979e-03, -1.40625000e-01,  2.24609375e-01,  1.01074219e-01,\n",
       "       -2.51953125e-01,  4.44335938e-02, -1.87500000e-01,  2.11914062e-01,\n",
       "       -1.21582031e-01,  7.12890625e-02, -1.47460938e-01,  4.58984375e-02,\n",
       "        1.17187500e-02,  3.49121094e-02, -3.30078125e-01, -7.03125000e-02,\n",
       "       -1.90429688e-01, -2.80761719e-02,  2.23632812e-01, -1.01562500e-01,\n",
       "       -4.22363281e-02,  6.29882812e-02, -4.73632812e-02,  3.10546875e-01,\n",
       "        1.66015625e-01, -8.69140625e-02, -2.09960938e-02, -1.25976562e-01,\n",
       "       -5.95703125e-02,  2.80761719e-02, -1.79687500e-01, -1.45507812e-01,\n",
       "       -9.66796875e-02, -1.14746094e-01,  2.24609375e-01,  1.56250000e-01,\n",
       "       -2.04101562e-01, -6.98242188e-02, -7.17773438e-02,  1.93359375e-01,\n",
       "       -1.12304688e-01, -1.99218750e-01, -4.95605469e-02, -5.24902344e-02,\n",
       "        1.94091797e-02,  1.30004883e-02,  1.47705078e-02,  2.55859375e-01,\n",
       "       -4.27246094e-02, -3.57421875e-01,  3.85742188e-02, -6.59179688e-02,\n",
       "        1.87500000e-01,  2.88085938e-02, -4.83398438e-02,  5.24902344e-02,\n",
       "       -7.72094727e-03, -1.32812500e-01, -2.32421875e-01,  1.85546875e-02,\n",
       "        4.88281250e-02, -2.91015625e-01,  8.59375000e-02,  2.79541016e-02,\n",
       "       -8.00781250e-02,  9.22851562e-02,  1.17187500e-01,  7.27539062e-02,\n",
       "       -3.03649902e-03, -2.01416016e-02, -5.44433594e-02,  1.40625000e-01,\n",
       "        9.96093750e-02, -9.22851562e-02, -1.39648438e-01,  1.92382812e-01,\n",
       "        1.42578125e-01,  2.70996094e-02,  9.66796875e-02, -1.74804688e-01,\n",
       "       -1.09863281e-01,  7.17773438e-02, -2.10937500e-01, -2.22656250e-01,\n",
       "       -1.66015625e-01,  1.36718750e-01, -1.69921875e-01,  1.75781250e-01,\n",
       "        1.88476562e-01,  1.01074219e-01, -9.96093750e-02,  3.68652344e-02,\n",
       "        7.66601562e-02,  4.73632812e-02, -8.17871094e-03, -1.92871094e-02,\n",
       "       -2.32421875e-01,  4.54101562e-02, -2.73437500e-01,  5.81054688e-02,\n",
       "        2.16796875e-01, -7.91015625e-02, -2.31445312e-01, -1.60156250e-01,\n",
       "       -1.09863281e-01,  9.61914062e-02, -5.82885742e-03,  5.37109375e-03,\n",
       "        3.18359375e-01, -2.65625000e-01,  1.70898438e-01,  1.13769531e-01,\n",
       "       -1.09375000e-01,  4.95605469e-02,  7.27539062e-02,  1.69921875e-01,\n",
       "       -4.19921875e-02,  1.62353516e-02, -1.61132812e-02,  9.37500000e-02,\n",
       "       -1.72851562e-01,  5.05371094e-02,  1.34765625e-01, -7.08007812e-02,\n",
       "        2.05078125e-01, -1.09863281e-02, -1.01562500e-01, -3.19824219e-02,\n",
       "       -2.49023438e-01,  1.45507812e-01, -4.24804688e-02,  1.22558594e-01,\n",
       "       -9.17968750e-02,  7.66601562e-02,  1.60156250e-01,  2.51464844e-02,\n",
       "       -9.57031250e-02,  1.74560547e-02,  7.66601562e-02, -9.76562500e-02,\n",
       "       -9.27734375e-02, -1.94335938e-01, -7.22656250e-02, -1.43554688e-01,\n",
       "       -6.93359375e-02, -7.95898438e-02, -1.90429688e-01, -2.10937500e-01,\n",
       "       -8.78906250e-03,  6.49414062e-02,  1.68945312e-01, -2.35595703e-02,\n",
       "       -1.56250000e-01,  5.07812500e-02, -5.71289062e-02,  9.52148438e-02,\n",
       "        1.63085938e-01,  1.36718750e-01,  1.08886719e-01, -1.82617188e-01,\n",
       "        7.72094727e-03, -1.19628906e-01, -3.73535156e-02, -1.26953125e-01,\n",
       "        1.67968750e-01, -1.72851562e-01,  8.05664062e-02,  1.24023438e-01,\n",
       "        5.51757812e-02,  5.54199219e-02, -1.01074219e-01, -5.12695312e-02,\n",
       "       -1.30859375e-01,  2.04101562e-01, -8.30078125e-02,  3.35937500e-01,\n",
       "       -3.59375000e-01, -2.63671875e-01, -1.94335938e-01, -5.56640625e-02,\n",
       "        2.38037109e-02, -4.17480469e-02, -6.07910156e-02, -9.76562500e-02],\n",
       "      dtype=float32)"
      ]
     },
     "execution_count": 145,
     "metadata": {},
     "output_type": "execute_result"
    }
   ],
   "source": [
    "wv.get_vector('me')"
   ]
  },
  {
   "cell_type": "code",
   "execution_count": 177,
   "id": "0b2ba30b-cb39-424b-a63a-76f0c7c07462",
   "metadata": {},
   "outputs": [],
   "source": [
    "voc = vectorizer.get_vocabulary()\n",
    "word_index = dict(zip(voc, range(len(voc))))"
   ]
  },
  {
   "cell_type": "code",
   "execution_count": 178,
   "id": "fbaa35d0-ad17-4a8a-bc77-a88f9d41e765",
   "metadata": {},
   "outputs": [
    {
     "data": {
      "text/plain": [
       "23242"
      ]
     },
     "execution_count": 178,
     "metadata": {},
     "output_type": "execute_result"
    }
   ],
   "source": [
    "len(voc)"
   ]
  },
  {
   "cell_type": "code",
   "execution_count": 179,
   "id": "486833f0-da44-4360-a88b-5bea399bcbef",
   "metadata": {},
   "outputs": [
    {
     "name": "stdout",
     "output_type": "stream",
     "text": [
      "Converted 9554 words (13688 misses)\n"
     ]
    }
   ],
   "source": [
    "num_tokens = len(voc) + 2\n",
    "embedding_dim = 300\n",
    "hits = 0\n",
    "misses = 0\n",
    "\n",
    "# Prepare embedding matrix\n",
    "embedding_matrix = np.zeros((num_tokens, embedding_dim))\n",
    "for word, i in word_index.items():\n",
    "    try:\n",
    "        embedding_vector = wv.get_vector(word)\n",
    "        \n",
    "        if embedding_vector is not None:\n",
    "            # Words not found in embedding index will be all-zeros.\n",
    "            # This includes the representation for \"padding\" and \"OOV\"\n",
    "            embedding_matrix[i] = embedding_vector\n",
    "            hits += 1\n",
    "        else:\n",
    "            misses += 1\n",
    "    except KeyError:\n",
    "        misses += 1\n",
    "print(\"Converted %d words (%d misses)\" % (hits, misses))\n"
   ]
  },
  {
   "cell_type": "code",
   "execution_count": 180,
   "id": "ba0a4504-a5d0-4fd6-ac96-59747925ca9c",
   "metadata": {},
   "outputs": [
    {
     "data": {
      "text/plain": [
       "(23244, 300)"
      ]
     },
     "execution_count": 180,
     "metadata": {},
     "output_type": "execute_result"
    }
   ],
   "source": [
    "embedding_matrix.shape"
   ]
  },
  {
   "cell_type": "code",
   "execution_count": 181,
   "id": "c5d094f7-0d58-4f87-8775-a538a13801e0",
   "metadata": {},
   "outputs": [],
   "source": [
    "model = Sequential()\n",
    "model.add(Embedding(input_dim=num_tokens, output_dim=300, input_length=61, \n",
    "                    embeddings_initializer=tf.keras.initializers.constant(embedding_matrix), trainable=False))\n",
    "model.add(Dropout(0.3))\n",
    "model.add(Conv1D(filters=15, kernel_size=3, activation='relu'))\n",
    "model.add(MaxPool1D())\n",
    "model.add(Dense(50, activation='relu'))\n",
    "model.add(Flatten())\n",
    "model.add(Dense(1, activation='sigmoid'))"
   ]
  },
  {
   "cell_type": "code",
   "execution_count": 182,
   "id": "cc4987ef-0ae7-47fa-87dd-808d5c436b0f",
   "metadata": {},
   "outputs": [
    {
     "name": "stdout",
     "output_type": "stream",
     "text": [
      "Model: \"sequential_6\"\n",
      "_________________________________________________________________\n",
      " Layer (type)                Output Shape              Param #   \n",
      "=================================================================\n",
      " embedding_6 (Embedding)     (None, 61, 300)           6973200   \n",
      "                                                                 \n",
      " dropout_4 (Dropout)         (None, 61, 300)           0         \n",
      "                                                                 \n",
      " conv1d_4 (Conv1D)           (None, 59, 15)            13515     \n",
      "                                                                 \n",
      " max_pooling1d_4 (MaxPooling  (None, 29, 15)           0         \n",
      " 1D)                                                             \n",
      "                                                                 \n",
      " dense_8 (Dense)             (None, 29, 50)            800       \n",
      "                                                                 \n",
      " flatten_4 (Flatten)         (None, 1450)              0         \n",
      "                                                                 \n",
      " dense_9 (Dense)             (None, 1)                 1451      \n",
      "                                                                 \n",
      "=================================================================\n",
      "Total params: 6,988,966\n",
      "Trainable params: 15,766\n",
      "Non-trainable params: 6,973,200\n",
      "_________________________________________________________________\n"
     ]
    }
   ],
   "source": [
    "model.summary()"
   ]
  },
  {
   "cell_type": "code",
   "execution_count": 192,
   "id": "5984546f-22be-4f75-a437-c14a54269b81",
   "metadata": {},
   "outputs": [],
   "source": [
    "model.compile(optimizer=tf.keras.optimizers.Adam(), \n",
    "              loss=tf.keras.losses.BinaryCrossentropy(), \n",
    "              metrics=[tf.keras.metrics.BinaryAccuracy()])"
   ]
  },
  {
   "cell_type": "code",
   "execution_count": 193,
   "id": "505c511e-dfd4-4270-9ef9-c42e812cfdc4",
   "metadata": {},
   "outputs": [],
   "source": [
    "callbacks = [EarlyStopping(monitor='val_binary_accuracy', min_delta=.0001, patience=20, verbose=1, \n",
    "                           mode='max', baseline=0.5, restore_best_weights=True, start_from_epoch=10)]"
   ]
  },
  {
   "cell_type": "code",
   "execution_count": 200,
   "id": "cbbfff90-af45-4460-b73b-0fd94ec48a04",
   "metadata": {
    "scrolled": true,
    "tags": []
   },
   "outputs": [
    {
     "name": "stdout",
     "output_type": "stream",
     "text": [
      "Epoch 1/50\n",
      "45/45 [==============================] - 2s 34ms/step - loss: 0.2185 - binary_accuracy: 0.9039 - val_loss: 0.2666 - val_binary_accuracy: 0.8809\n",
      "Epoch 2/50\n",
      "45/45 [==============================] - 1s 25ms/step - loss: 0.2116 - binary_accuracy: 0.9125 - val_loss: 0.2717 - val_binary_accuracy: 0.8935\n",
      "Epoch 3/50\n",
      "45/45 [==============================] - 1s 25ms/step - loss: 0.2050 - binary_accuracy: 0.9120 - val_loss: 0.2694 - val_binary_accuracy: 0.8923\n",
      "Epoch 4/50\n",
      "45/45 [==============================] - 1s 25ms/step - loss: 0.1930 - binary_accuracy: 0.9217 - val_loss: 0.2749 - val_binary_accuracy: 0.8792\n",
      "Epoch 5/50\n",
      "45/45 [==============================] - 1s 26ms/step - loss: 0.1872 - binary_accuracy: 0.9219 - val_loss: 0.2753 - val_binary_accuracy: 0.8868\n",
      "Epoch 6/50\n",
      "45/45 [==============================] - 1s 25ms/step - loss: 0.1781 - binary_accuracy: 0.9278 - val_loss: 0.2832 - val_binary_accuracy: 0.8868\n",
      "Epoch 7/50\n",
      "45/45 [==============================] - 1s 25ms/step - loss: 0.1687 - binary_accuracy: 0.9302 - val_loss: 0.2913 - val_binary_accuracy: 0.8826\n",
      "Epoch 8/50\n",
      "45/45 [==============================] - 1s 25ms/step - loss: 0.1578 - binary_accuracy: 0.9352 - val_loss: 0.2915 - val_binary_accuracy: 0.8817\n",
      "Epoch 9/50\n",
      "45/45 [==============================] - 1s 24ms/step - loss: 0.1544 - binary_accuracy: 0.9370 - val_loss: 0.2994 - val_binary_accuracy: 0.8864\n",
      "Epoch 10/50\n",
      "45/45 [==============================] - 1s 22ms/step - loss: 0.1500 - binary_accuracy: 0.9416 - val_loss: 0.3160 - val_binary_accuracy: 0.8792\n",
      "Epoch 11/50\n",
      "45/45 [==============================] - 1s 24ms/step - loss: 0.1401 - binary_accuracy: 0.9450 - val_loss: 0.3064 - val_binary_accuracy: 0.8733\n",
      "Epoch 12/50\n",
      "45/45 [==============================] - 1s 23ms/step - loss: 0.1339 - binary_accuracy: 0.9495 - val_loss: 0.3114 - val_binary_accuracy: 0.8767\n",
      "Epoch 13/50\n",
      "45/45 [==============================] - 1s 22ms/step - loss: 0.1254 - binary_accuracy: 0.9513 - val_loss: 0.3188 - val_binary_accuracy: 0.8742\n",
      "Epoch 14/50\n",
      "45/45 [==============================] - 1s 22ms/step - loss: 0.1242 - binary_accuracy: 0.9508 - val_loss: 0.3444 - val_binary_accuracy: 0.8721\n",
      "Epoch 15/50\n",
      "45/45 [==============================] - 1s 22ms/step - loss: 0.1107 - binary_accuracy: 0.9576 - val_loss: 0.3302 - val_binary_accuracy: 0.8784\n",
      "Epoch 16/50\n",
      "45/45 [==============================] - 1s 22ms/step - loss: 0.1108 - binary_accuracy: 0.9547 - val_loss: 0.3409 - val_binary_accuracy: 0.8750\n",
      "Epoch 17/50\n",
      "45/45 [==============================] - 1s 22ms/step - loss: 0.1119 - binary_accuracy: 0.9540 - val_loss: 0.3440 - val_binary_accuracy: 0.8716\n",
      "Epoch 18/50\n",
      "45/45 [==============================] - 1s 23ms/step - loss: 0.0968 - binary_accuracy: 0.9650 - val_loss: 0.3652 - val_binary_accuracy: 0.8737\n",
      "Epoch 19/50\n",
      "45/45 [==============================] - 1s 23ms/step - loss: 0.0985 - binary_accuracy: 0.9627 - val_loss: 0.3571 - val_binary_accuracy: 0.8695\n",
      "Epoch 20/50\n",
      "45/45 [==============================] - 1s 23ms/step - loss: 0.0901 - binary_accuracy: 0.9674 - val_loss: 0.3634 - val_binary_accuracy: 0.8721\n",
      "Epoch 21/50\n",
      "45/45 [==============================] - 1s 22ms/step - loss: 0.0843 - binary_accuracy: 0.9695 - val_loss: 0.3643 - val_binary_accuracy: 0.8678\n",
      "Epoch 22/50\n",
      "45/45 [==============================] - 1s 23ms/step - loss: 0.0888 - binary_accuracy: 0.9652 - val_loss: 0.4031 - val_binary_accuracy: 0.8708\n",
      "Epoch 23/50\n",
      "45/45 [==============================] - 1s 24ms/step - loss: 0.0791 - binary_accuracy: 0.9701 - val_loss: 0.3791 - val_binary_accuracy: 0.8699\n",
      "Epoch 24/50\n",
      "45/45 [==============================] - 1s 24ms/step - loss: 0.0768 - binary_accuracy: 0.9704 - val_loss: 0.3932 - val_binary_accuracy: 0.8699\n",
      "Epoch 25/50\n",
      "45/45 [==============================] - 1s 24ms/step - loss: 0.0788 - binary_accuracy: 0.9697 - val_loss: 0.3903 - val_binary_accuracy: 0.8704\n",
      "Epoch 26/50\n",
      "45/45 [==============================] - 1s 24ms/step - loss: 0.0706 - binary_accuracy: 0.9738 - val_loss: 0.3975 - val_binary_accuracy: 0.8695\n",
      "Epoch 27/50\n",
      "45/45 [==============================] - 1s 24ms/step - loss: 0.0706 - binary_accuracy: 0.9737 - val_loss: 0.4113 - val_binary_accuracy: 0.8653\n",
      "Epoch 28/50\n",
      "45/45 [==============================] - 1s 23ms/step - loss: 0.0702 - binary_accuracy: 0.9728 - val_loss: 0.4158 - val_binary_accuracy: 0.8691\n",
      "Epoch 29/50\n",
      "45/45 [==============================] - 1s 24ms/step - loss: 0.0651 - binary_accuracy: 0.9769 - val_loss: 0.4241 - val_binary_accuracy: 0.8704\n",
      "Epoch 30/50\n",
      "45/45 [==============================] - 1s 25ms/step - loss: 0.0564 - binary_accuracy: 0.9805 - val_loss: 0.4371 - val_binary_accuracy: 0.8674\n",
      "Epoch 31/50\n",
      "45/45 [==============================] - 1s 23ms/step - loss: 0.0603 - binary_accuracy: 0.9776 - val_loss: 0.4398 - val_binary_accuracy: 0.8691\n",
      "Epoch 32/50\n",
      "45/45 [==============================] - 1s 24ms/step - loss: 0.0553 - binary_accuracy: 0.9800 - val_loss: 0.4345 - val_binary_accuracy: 0.8704\n",
      "Epoch 33/50\n",
      "45/45 [==============================] - 1s 23ms/step - loss: 0.0544 - binary_accuracy: 0.9800 - val_loss: 0.4354 - val_binary_accuracy: 0.8670\n",
      "Epoch 34/50\n",
      "45/45 [==============================] - 1s 23ms/step - loss: 0.0585 - binary_accuracy: 0.9776 - val_loss: 0.4464 - val_binary_accuracy: 0.8670\n",
      "Epoch 35/50\n",
      "43/45 [===========================>..] - ETA: 0s - loss: 0.0515 - binary_accuracy: 0.9796Restoring model weights from the end of the best epoch: 15.\n",
      "45/45 [==============================] - 1s 24ms/step - loss: 0.0517 - binary_accuracy: 0.9796 - val_loss: 0.4483 - val_binary_accuracy: 0.8670\n",
      "Epoch 35: early stopping\n"
     ]
    }
   ],
   "source": [
    "history = model.fit(X_train, y_train, batch_size=124, epochs=50, callbacks=callbacks, \n",
    "                    validation_data=(X_test, y_test), )"
   ]
  },
  {
   "cell_type": "code",
   "execution_count": 201,
   "id": "d13a44d8-75f4-4714-9b19-3aed50f05958",
   "metadata": {},
   "outputs": [
    {
     "data": {
      "text/plain": [
       "array([\"I hate the new iphone upgrade Won't let me download apps ugh apple sucks\",\n",
       "       'currently shitting my fucking pants apple iMac cashmoney raddest swagswagswag http instagr am p UUIS0bIBZo',\n",
       "       \"I'd like to puts some CD ROMS on my iPad is that possible ' Yes but wouldn't that block the screen\",\n",
       "       ...,\n",
       "       'There goes a crack right across the screen If you could actually provide a more durable screen that would be great Apple Iphone',\n",
       "       'codeofinterest as i said Adobe big time we may well as include apple to',\n",
       "       'Finally I got it thanx my father Samsung galaxy s3 gift father phone new http instagr am p NoxkiPE'],\n",
       "      dtype=object)"
      ]
     },
     "execution_count": 201,
     "metadata": {},
     "output_type": "execute_result"
    }
   ],
   "source": [
    "test['clean tweet'].values"
   ]
  },
  {
   "cell_type": "code",
   "execution_count": 202,
   "id": "db8acff6-a523-4292-bc53-95c75251a391",
   "metadata": {},
   "outputs": [],
   "source": [
    "test_vectors = vectorizer(test['clean tweet'].values)"
   ]
  },
  {
   "cell_type": "code",
   "execution_count": 203,
   "id": "abf79325-6f81-41c4-9a97-eb3d72972295",
   "metadata": {},
   "outputs": [
    {
     "data": {
      "text/plain": [
       "TensorShape([1953, 61])"
      ]
     },
     "execution_count": 203,
     "metadata": {},
     "output_type": "execute_result"
    }
   ],
   "source": [
    "test_vectors.shape"
   ]
  },
  {
   "cell_type": "code",
   "execution_count": 204,
   "id": "0aa4df1d-3d60-4e86-aff8-71120e75b4fd",
   "metadata": {},
   "outputs": [
    {
     "name": "stdout",
     "output_type": "stream",
     "text": [
      "248/248 [==============================] - 1s 5ms/step - loss: 0.1539 - binary_accuracy: 0.9462\n"
     ]
    },
    {
     "data": {
      "text/plain": [
       "[0.15386202931404114, 0.946212112903595]"
      ]
     },
     "execution_count": 204,
     "metadata": {},
     "output_type": "execute_result"
    }
   ],
   "source": [
    "model.evaluate(output_vector, train['label'])"
   ]
  },
  {
   "cell_type": "code",
   "execution_count": 205,
   "id": "89ee28d3-bac4-4448-8557-7a0320d99ad8",
   "metadata": {},
   "outputs": [
    {
     "name": "stdout",
     "output_type": "stream",
     "text": [
      "62/62 [==============================] - 0s 5ms/step\n"
     ]
    }
   ],
   "source": [
    "prediction = model.predict(test_vectors)"
   ]
  },
  {
   "cell_type": "code",
   "execution_count": 206,
   "id": "44aec849-44ab-4d3a-9379-8213f8fe14e3",
   "metadata": {},
   "outputs": [],
   "source": [
    "prediction_cat = (prediction >= 0.5).astype(int)"
   ]
  },
  {
   "cell_type": "code",
   "execution_count": 207,
   "id": "290ebc87-b229-4a86-b1cc-04ee34800555",
   "metadata": {},
   "outputs": [
    {
     "data": {
      "text/plain": [
       "array([[1],\n",
       "       [0],\n",
       "       [1],\n",
       "       ...,\n",
       "       [1],\n",
       "       [1],\n",
       "       [0]])"
      ]
     },
     "execution_count": 207,
     "metadata": {},
     "output_type": "execute_result"
    }
   ],
   "source": [
    "prediction_cat"
   ]
  },
  {
   "cell_type": "code",
   "execution_count": 208,
   "id": "8eb8ba59-b718-4ac8-88d4-3faeb1a04e29",
   "metadata": {},
   "outputs": [
    {
     "data": {
      "text/plain": [
       "array([7921, 7922, 7923, ..., 9871, 9872, 9873])"
      ]
     },
     "execution_count": 208,
     "metadata": {},
     "output_type": "execute_result"
    }
   ],
   "source": [
    "test['id'].values"
   ]
  },
  {
   "cell_type": "code",
   "execution_count": 209,
   "id": "bd869f5e-f30a-4c54-a23c-710b58882fab",
   "metadata": {},
   "outputs": [
    {
     "data": {
      "text/html": [
       "<div>\n",
       "<style scoped>\n",
       "    .dataframe tbody tr th:only-of-type {\n",
       "        vertical-align: middle;\n",
       "    }\n",
       "\n",
       "    .dataframe tbody tr th {\n",
       "        vertical-align: top;\n",
       "    }\n",
       "\n",
       "    .dataframe thead th {\n",
       "        text-align: right;\n",
       "    }\n",
       "</style>\n",
       "<table border=\"1\" class=\"dataframe\">\n",
       "  <thead>\n",
       "    <tr style=\"text-align: right;\">\n",
       "      <th></th>\n",
       "      <th>id</th>\n",
       "      <th>label</th>\n",
       "    </tr>\n",
       "  </thead>\n",
       "  <tbody>\n",
       "    <tr>\n",
       "      <th>0</th>\n",
       "      <td>7921</td>\n",
       "      <td>1</td>\n",
       "    </tr>\n",
       "    <tr>\n",
       "      <th>1</th>\n",
       "      <td>7922</td>\n",
       "      <td>0</td>\n",
       "    </tr>\n",
       "    <tr>\n",
       "      <th>2</th>\n",
       "      <td>7923</td>\n",
       "      <td>1</td>\n",
       "    </tr>\n",
       "    <tr>\n",
       "      <th>3</th>\n",
       "      <td>7924</td>\n",
       "      <td>1</td>\n",
       "    </tr>\n",
       "    <tr>\n",
       "      <th>4</th>\n",
       "      <td>7925</td>\n",
       "      <td>1</td>\n",
       "    </tr>\n",
       "    <tr>\n",
       "      <th>...</th>\n",
       "      <td>...</td>\n",
       "      <td>...</td>\n",
       "    </tr>\n",
       "    <tr>\n",
       "      <th>1948</th>\n",
       "      <td>9869</td>\n",
       "      <td>0</td>\n",
       "    </tr>\n",
       "    <tr>\n",
       "      <th>1949</th>\n",
       "      <td>9870</td>\n",
       "      <td>0</td>\n",
       "    </tr>\n",
       "    <tr>\n",
       "      <th>1950</th>\n",
       "      <td>9871</td>\n",
       "      <td>1</td>\n",
       "    </tr>\n",
       "    <tr>\n",
       "      <th>1951</th>\n",
       "      <td>9872</td>\n",
       "      <td>1</td>\n",
       "    </tr>\n",
       "    <tr>\n",
       "      <th>1952</th>\n",
       "      <td>9873</td>\n",
       "      <td>0</td>\n",
       "    </tr>\n",
       "  </tbody>\n",
       "</table>\n",
       "<p>1953 rows × 2 columns</p>\n",
       "</div>"
      ],
      "text/plain": [
       "        id  label\n",
       "0     7921      1\n",
       "1     7922      0\n",
       "2     7923      1\n",
       "3     7924      1\n",
       "4     7925      1\n",
       "...    ...    ...\n",
       "1948  9869      0\n",
       "1949  9870      0\n",
       "1950  9871      1\n",
       "1951  9872      1\n",
       "1952  9873      0\n",
       "\n",
       "[1953 rows x 2 columns]"
      ]
     },
     "execution_count": 209,
     "metadata": {},
     "output_type": "execute_result"
    }
   ],
   "source": [
    "result = pd.DataFrame(prediction_cat, test['id'].values).reset_index()\n",
    "result.columns=['id', 'label']\n",
    "result"
   ]
  },
  {
   "cell_type": "code",
   "execution_count": 210,
   "id": "7330df0f-e8a8-47b1-89aa-a44ee830a8d0",
   "metadata": {},
   "outputs": [],
   "source": [
    "result.to_csv('submission1.csv', index=False)"
   ]
  },
  {
   "cell_type": "code",
   "execution_count": null,
   "id": "a70908f4-47c7-4baf-a92d-ea5690605f33",
   "metadata": {},
   "outputs": [],
   "source": []
  }
 ],
 "metadata": {
  "kernelspec": {
   "display_name": "Python 3 (ipykernel)",
   "language": "python",
   "name": "python3"
  },
  "language_info": {
   "codemirror_mode": {
    "name": "ipython",
    "version": 3
   },
   "file_extension": ".py",
   "mimetype": "text/x-python",
   "name": "python",
   "nbconvert_exporter": "python",
   "pygments_lexer": "ipython3",
   "version": "3.11.3"
  },
  "toc-autonumbering": true
 },
 "nbformat": 4,
 "nbformat_minor": 5
}
